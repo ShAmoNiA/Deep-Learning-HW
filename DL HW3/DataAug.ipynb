{
  "cells": [
    {
      "cell_type": "markdown",
      "metadata": {},
      "source": [
        "# Data Agumentation Problem\n",
        "#### Here you need to compare two models with and without agumentation to see the difference"
      ]
    },
    {
      "cell_type": "markdown",
      "metadata": {},
      "source": [
        "### Import libraries"
      ]
    },
    {
      "cell_type": "code",
      "execution_count": 227,
      "metadata": {
        "id": "DApO-QgeUJyh",
        "vscode": {
          "languageId": "python"
        }
      },
      "outputs": [],
      "source": [
        "import glob\n",
        "import cv2\n",
        "import numpy as np\n",
        "import random\n",
        "import os\n",
        "import matplotlib.pyplot as plt"
      ]
    },
    {
      "cell_type": "markdown",
      "metadata": {},
      "source": [
        "### Read Images"
      ]
    },
    {
      "cell_type": "code",
      "execution_count": 228,
      "metadata": {
        "id": "KnJzql-edFlp",
        "vscode": {
          "languageId": "python"
        }
      },
      "outputs": [],
      "source": [
        "# First we should read all the images from the provided directory,\n",
        "# 1. first unzip the .zip file attached with homeworks\n",
        "# 2. read images from directory\n",
        "# 3. create labels array\n",
        "\n",
        "\n",
        "def load_images_from_folder(folder):\n",
        "    images = []\n",
        "    labels = []\n",
        "    for filename in os.listdir(folder):\n",
        "        path = os.path.join(folder,filename)\n",
        "        if \"cat\" in path:\n",
        "            labels.append(1)\n",
        "        else:\n",
        "            labels.append(0)\n",
        "        img = cv2.imread(path)\n",
        "        if img is not None:\n",
        "            images.append(img)\n",
        "    return images, labels\n",
        "\n",
        "images, labels = load_images_from_folder(\"HW/data_aug\")"
      ]
    },
    {
      "cell_type": "markdown",
      "metadata": {},
      "source": [
        "### Prepare Dataset"
      ]
    },
    {
      "cell_type": "code",
      "execution_count": 229,
      "metadata": {
        "id": "AhInWVpUeqI2",
        "vscode": {
          "languageId": "python"
        }
      },
      "outputs": [],
      "source": [
        "# Normalize your dataset in a way to have a image dataset with pixles in range (0 to 1)\n",
        "\n",
        "for counter in range(len(images)):\n",
        "    images[counter] = images[counter]/255\n",
        "\n"
      ]
    },
    {
      "cell_type": "code",
      "execution_count": 230,
      "metadata": {
        "id": "WJvVTTO1gwr4",
        "vscode": {
          "languageId": "python"
        }
      },
      "outputs": [],
      "source": [
        "# Resize your images to (28 * 28)\n",
        "\n",
        "for counter in range(len(images)):\n",
        "    images[counter] = cv2.resize(images[counter], (28 , 28), interpolation = cv2.INTER_AREA)\n"
      ]
    },
    {
      "cell_type": "code",
      "execution_count": 231,
      "metadata": {
        "id": "hHAp88v5hjOX",
        "vscode": {
          "languageId": "python"
        }
      },
      "outputs": [],
      "source": [
        "# Flatten your dataset images \n",
        "for counter in range(len(images)):\n",
        "    images[counter] = images[counter].flatten()"
      ]
    },
    {
      "cell_type": "code",
      "execution_count": 232,
      "metadata": {
        "id": "YC-_5hy7iQy7",
        "vscode": {
          "languageId": "python"
        }
      },
      "outputs": [
        {
          "name": "stdout",
          "output_type": "stream",
          "text": [
            "lebels shape: (100,)\n",
            "images shape: (100, 2352)\n"
          ]
        }
      ],
      "source": [
        "# Check your dataset and labels to be a numpy ndarray of sizes (800, 28 * 28 * 3) and (800, 1) respectively.\n",
        "\n",
        "images_np = np.asarray(images, dtype=np.float32)\n",
        "lebels_np = np.asarray(labels, dtype=np.float32)\n",
        "\n",
        "print(\"lebels shape: \"+str(lebels_np.shape))\n",
        "print(\"images shape: \"+str(images_np.shape))\n"
      ]
    },
    {
      "cell_type": "markdown",
      "metadata": {},
      "source": [
        "### Create your Model"
      ]
    },
    {
      "cell_type": "code",
      "execution_count": 233,
      "metadata": {
        "vscode": {
          "languageId": "python"
        }
      },
      "outputs": [],
      "source": [
        "from keras.models import Sequential\n",
        "from keras.layers import Dense, Activation\n",
        "from tensorflow.keras.optimizers import Adam\n",
        "from keras.losses import BinaryCrossentropy\n",
        "from tensorflow import keras\n",
        "from tensorflow.keras import layers"
      ]
    },
    {
      "cell_type": "code",
      "execution_count": 234,
      "metadata": {
        "vscode": {
          "languageId": "python"
        }
      },
      "outputs": [],
      "source": [
        "# create a simple model of Keras MLP with desired number of dense layers and units and activation function\n",
        "# don't forget to shuffle the data\n",
        "# this is a binary classification problem\n",
        "\n",
        "model = keras.Sequential(name=\"Aug\")\n",
        "model.add(layers.Dense(100, activation=\"relu\", name=\"hidden1\"))\n",
        "model.add(layers.Dense(50, activation=\"relu\", name=\"hidden2\"))\n",
        "model.add(layers.Dense(20, activation=\"relu\", name=\"hidden3\"))\n",
        "model.add(layers.Dense(1, activation=\"sigmoid\", name=\"out\"))"
      ]
    },
    {
      "cell_type": "code",
      "execution_count": 235,
      "metadata": {
        "vscode": {
          "languageId": "python"
        }
      },
      "outputs": [],
      "source": [
        "# Split your dataset to test and train with your desired implementation\n",
        "# use sklearn.model_selection.train_test_split\n",
        "\n",
        "from sklearn.model_selection import train_test_split\n",
        "\n",
        "train_data, test_data, train_labels, test_labels = train_test_split(images_np, lebels_np)"
      ]
    },
    {
      "cell_type": "code",
      "execution_count": 236,
      "metadata": {
        "vscode": {
          "languageId": "python"
        }
      },
      "outputs": [
        {
          "name": "stdout",
          "output_type": "stream",
          "text": [
            "Epoch 1/100\n",
            "1/1 [==============================] - 0s 328ms/step - loss: 0.7294 - accuracy: 0.5000 - val_loss: 0.8077 - val_accuracy: 0.3333\n",
            "Epoch 2/100\n",
            "1/1 [==============================] - 0s 12ms/step - loss: 0.6934 - accuracy: 0.5167 - val_loss: 0.6222 - val_accuracy: 0.7333\n",
            "Epoch 3/100\n",
            "1/1 [==============================] - 0s 11ms/step - loss: 0.6898 - accuracy: 0.5000 - val_loss: 0.7049 - val_accuracy: 0.4000\n",
            "Epoch 4/100\n",
            "1/1 [==============================] - 0s 11ms/step - loss: 0.6681 - accuracy: 0.6167 - val_loss: 0.7674 - val_accuracy: 0.3333\n",
            "Epoch 5/100\n",
            "1/1 [==============================] - 0s 11ms/step - loss: 0.6657 - accuracy: 0.5333 - val_loss: 0.6815 - val_accuracy: 0.5333\n",
            "Epoch 6/100\n",
            "1/1 [==============================] - 0s 11ms/step - loss: 0.6480 - accuracy: 0.8000 - val_loss: 0.6590 - val_accuracy: 0.6000\n",
            "Epoch 7/100\n",
            "1/1 [==============================] - 0s 11ms/step - loss: 0.6417 - accuracy: 0.6333 - val_loss: 0.7369 - val_accuracy: 0.3333\n",
            "Epoch 8/100\n",
            "1/1 [==============================] - 0s 11ms/step - loss: 0.6259 - accuracy: 0.7333 - val_loss: 0.7894 - val_accuracy: 0.4000\n",
            "Epoch 9/100\n",
            "1/1 [==============================] - 0s 12ms/step - loss: 0.6203 - accuracy: 0.6667 - val_loss: 0.7246 - val_accuracy: 0.3333\n",
            "Epoch 10/100\n",
            "1/1 [==============================] - 0s 12ms/step - loss: 0.6016 - accuracy: 0.7333 - val_loss: 0.6926 - val_accuracy: 0.5333\n",
            "Epoch 11/100\n",
            "1/1 [==============================] - 0s 12ms/step - loss: 0.5929 - accuracy: 0.7667 - val_loss: 0.7332 - val_accuracy: 0.4000\n",
            "Epoch 12/100\n",
            "1/1 [==============================] - 0s 12ms/step - loss: 0.5794 - accuracy: 0.7333 - val_loss: 0.7812 - val_accuracy: 0.3333\n",
            "Epoch 13/100\n",
            "1/1 [==============================] - 0s 12ms/step - loss: 0.5673 - accuracy: 0.7500 - val_loss: 0.7789 - val_accuracy: 0.3333\n",
            "Epoch 14/100\n",
            "1/1 [==============================] - 0s 11ms/step - loss: 0.5553 - accuracy: 0.8000 - val_loss: 0.7371 - val_accuracy: 0.4000\n",
            "Epoch 15/100\n",
            "1/1 [==============================] - 0s 11ms/step - loss: 0.5413 - accuracy: 0.7333 - val_loss: 0.7467 - val_accuracy: 0.4000\n",
            "Epoch 16/100\n",
            "1/1 [==============================] - 0s 11ms/step - loss: 0.5285 - accuracy: 0.7833 - val_loss: 0.7799 - val_accuracy: 0.4000\n",
            "Epoch 17/100\n",
            "1/1 [==============================] - 0s 11ms/step - loss: 0.5147 - accuracy: 0.7667 - val_loss: 0.7855 - val_accuracy: 0.3333\n",
            "Epoch 18/100\n",
            "1/1 [==============================] - 0s 11ms/step - loss: 0.5020 - accuracy: 0.8000 - val_loss: 0.7761 - val_accuracy: 0.4000\n",
            "Epoch 19/100\n",
            "1/1 [==============================] - 0s 12ms/step - loss: 0.4894 - accuracy: 0.8167 - val_loss: 0.7717 - val_accuracy: 0.4000\n",
            "Epoch 20/100\n",
            "1/1 [==============================] - 0s 11ms/step - loss: 0.4734 - accuracy: 0.8167 - val_loss: 0.7967 - val_accuracy: 0.4000\n",
            "Epoch 21/100\n",
            "1/1 [==============================] - 0s 11ms/step - loss: 0.4608 - accuracy: 0.8167 - val_loss: 0.7835 - val_accuracy: 0.4000\n",
            "Epoch 22/100\n",
            "1/1 [==============================] - 0s 11ms/step - loss: 0.4468 - accuracy: 0.8333 - val_loss: 0.7750 - val_accuracy: 0.4667\n",
            "Epoch 23/100\n",
            "1/1 [==============================] - 0s 11ms/step - loss: 0.4306 - accuracy: 0.8500 - val_loss: 0.7929 - val_accuracy: 0.4667\n",
            "Epoch 24/100\n",
            "1/1 [==============================] - 0s 11ms/step - loss: 0.4155 - accuracy: 0.8333 - val_loss: 0.8017 - val_accuracy: 0.4667\n",
            "Epoch 25/100\n",
            "1/1 [==============================] - 0s 11ms/step - loss: 0.3983 - accuracy: 0.8667 - val_loss: 0.7988 - val_accuracy: 0.4667\n",
            "Epoch 26/100\n",
            "1/1 [==============================] - 0s 11ms/step - loss: 0.3789 - accuracy: 0.8833 - val_loss: 0.7949 - val_accuracy: 0.5333\n",
            "Epoch 27/100\n",
            "1/1 [==============================] - 0s 11ms/step - loss: 0.3616 - accuracy: 0.9167 - val_loss: 0.8119 - val_accuracy: 0.4667\n",
            "Epoch 28/100\n",
            "1/1 [==============================] - 0s 11ms/step - loss: 0.3440 - accuracy: 0.9167 - val_loss: 0.8129 - val_accuracy: 0.5333\n",
            "Epoch 29/100\n",
            "1/1 [==============================] - 0s 11ms/step - loss: 0.3265 - accuracy: 0.9500 - val_loss: 0.7988 - val_accuracy: 0.5333\n",
            "Epoch 30/100\n",
            "1/1 [==============================] - 0s 11ms/step - loss: 0.3095 - accuracy: 0.9500 - val_loss: 0.8123 - val_accuracy: 0.5333\n",
            "Epoch 31/100\n",
            "1/1 [==============================] - 0s 11ms/step - loss: 0.2915 - accuracy: 0.9500 - val_loss: 0.8156 - val_accuracy: 0.5333\n",
            "Epoch 32/100\n",
            "1/1 [==============================] - 0s 11ms/step - loss: 0.2741 - accuracy: 0.9500 - val_loss: 0.7945 - val_accuracy: 0.5333\n",
            "Epoch 33/100\n",
            "1/1 [==============================] - 0s 11ms/step - loss: 0.2569 - accuracy: 0.9667 - val_loss: 0.8303 - val_accuracy: 0.5333\n",
            "Epoch 34/100\n",
            "1/1 [==============================] - 0s 11ms/step - loss: 0.2403 - accuracy: 0.9667 - val_loss: 0.7824 - val_accuracy: 0.5333\n",
            "Epoch 35/100\n",
            "1/1 [==============================] - 0s 11ms/step - loss: 0.2238 - accuracy: 0.9667 - val_loss: 0.8310 - val_accuracy: 0.5333\n",
            "Epoch 36/100\n",
            "1/1 [==============================] - 0s 11ms/step - loss: 0.2077 - accuracy: 0.9833 - val_loss: 0.7890 - val_accuracy: 0.5333\n",
            "Epoch 37/100\n",
            "1/1 [==============================] - 0s 11ms/step - loss: 0.1922 - accuracy: 0.9833 - val_loss: 0.8369 - val_accuracy: 0.5333\n",
            "Epoch 38/100\n",
            "1/1 [==============================] - 0s 11ms/step - loss: 0.1768 - accuracy: 0.9833 - val_loss: 0.8071 - val_accuracy: 0.5333\n",
            "Epoch 39/100\n",
            "1/1 [==============================] - 0s 11ms/step - loss: 0.1620 - accuracy: 0.9833 - val_loss: 0.8329 - val_accuracy: 0.5333\n",
            "Epoch 40/100\n",
            "1/1 [==============================] - 0s 11ms/step - loss: 0.1479 - accuracy: 0.9833 - val_loss: 0.8338 - val_accuracy: 0.5333\n",
            "Epoch 41/100\n",
            "1/1 [==============================] - 0s 11ms/step - loss: 0.1347 - accuracy: 0.9833 - val_loss: 0.8253 - val_accuracy: 0.6000\n",
            "Epoch 42/100\n",
            "1/1 [==============================] - 0s 11ms/step - loss: 0.1221 - accuracy: 0.9833 - val_loss: 0.8599 - val_accuracy: 0.6000\n",
            "Epoch 43/100\n",
            "1/1 [==============================] - 0s 11ms/step - loss: 0.1103 - accuracy: 0.9833 - val_loss: 0.8161 - val_accuracy: 0.6000\n",
            "Epoch 44/100\n",
            "1/1 [==============================] - 0s 11ms/step - loss: 0.0995 - accuracy: 0.9833 - val_loss: 0.8933 - val_accuracy: 0.6000\n",
            "Epoch 45/100\n",
            "1/1 [==============================] - 0s 12ms/step - loss: 0.0896 - accuracy: 0.9833 - val_loss: 0.8195 - val_accuracy: 0.6000\n",
            "Epoch 46/100\n",
            "1/1 [==============================] - 0s 12ms/step - loss: 0.0804 - accuracy: 1.0000 - val_loss: 0.9289 - val_accuracy: 0.6000\n",
            "Epoch 47/100\n",
            "1/1 [==============================] - 0s 13ms/step - loss: 0.0719 - accuracy: 1.0000 - val_loss: 0.8703 - val_accuracy: 0.6000\n",
            "Epoch 48/100\n",
            "1/1 [==============================] - 0s 14ms/step - loss: 0.0639 - accuracy: 1.0000 - val_loss: 0.9416 - val_accuracy: 0.6000\n",
            "Epoch 49/100\n",
            "1/1 [==============================] - 0s 13ms/step - loss: 0.0568 - accuracy: 1.0000 - val_loss: 0.9910 - val_accuracy: 0.6000\n",
            "Epoch 50/100\n",
            "1/1 [==============================] - 0s 13ms/step - loss: 0.0506 - accuracy: 1.0000 - val_loss: 0.9603 - val_accuracy: 0.6000\n",
            "Epoch 51/100\n",
            "1/1 [==============================] - 0s 12ms/step - loss: 0.0452 - accuracy: 1.0000 - val_loss: 1.0356 - val_accuracy: 0.6000\n",
            "Epoch 52/100\n",
            "1/1 [==============================] - 0s 12ms/step - loss: 0.0401 - accuracy: 1.0000 - val_loss: 1.0524 - val_accuracy: 0.6000\n",
            "Epoch 53/100\n",
            "1/1 [==============================] - 0s 11ms/step - loss: 0.0355 - accuracy: 1.0000 - val_loss: 1.0438 - val_accuracy: 0.6000\n",
            "Epoch 54/100\n",
            "1/1 [==============================] - 0s 11ms/step - loss: 0.0315 - accuracy: 1.0000 - val_loss: 1.1253 - val_accuracy: 0.6000\n",
            "Epoch 55/100\n",
            "1/1 [==============================] - 0s 11ms/step - loss: 0.0276 - accuracy: 1.0000 - val_loss: 1.1334 - val_accuracy: 0.6000\n",
            "Epoch 56/100\n",
            "1/1 [==============================] - 0s 11ms/step - loss: 0.0242 - accuracy: 1.0000 - val_loss: 1.1186 - val_accuracy: 0.6000\n",
            "Epoch 57/100\n",
            "1/1 [==============================] - 0s 11ms/step - loss: 0.0215 - accuracy: 1.0000 - val_loss: 1.1730 - val_accuracy: 0.6000\n",
            "Epoch 58/100\n",
            "1/1 [==============================] - 0s 11ms/step - loss: 0.0192 - accuracy: 1.0000 - val_loss: 1.1876 - val_accuracy: 0.6000\n",
            "Epoch 59/100\n",
            "1/1 [==============================] - 0s 11ms/step - loss: 0.0173 - accuracy: 1.0000 - val_loss: 1.1718 - val_accuracy: 0.6000\n",
            "Epoch 60/100\n",
            "1/1 [==============================] - 0s 11ms/step - loss: 0.0156 - accuracy: 1.0000 - val_loss: 1.1949 - val_accuracy: 0.6000\n",
            "Epoch 61/100\n",
            "1/1 [==============================] - 0s 11ms/step - loss: 0.0140 - accuracy: 1.0000 - val_loss: 1.2414 - val_accuracy: 0.6000\n",
            "Epoch 62/100\n",
            "1/1 [==============================] - 0s 11ms/step - loss: 0.0127 - accuracy: 1.0000 - val_loss: 1.2503 - val_accuracy: 0.6000\n",
            "Epoch 63/100\n",
            "1/1 [==============================] - 0s 11ms/step - loss: 0.0114 - accuracy: 1.0000 - val_loss: 1.2431 - val_accuracy: 0.6000\n",
            "Epoch 64/100\n",
            "1/1 [==============================] - 0s 11ms/step - loss: 0.0104 - accuracy: 1.0000 - val_loss: 1.2682 - val_accuracy: 0.6000\n",
            "Epoch 65/100\n",
            "1/1 [==============================] - 0s 11ms/step - loss: 0.0095 - accuracy: 1.0000 - val_loss: 1.3158 - val_accuracy: 0.6000\n",
            "Epoch 66/100\n",
            "1/1 [==============================] - 0s 12ms/step - loss: 0.0086 - accuracy: 1.0000 - val_loss: 1.3371 - val_accuracy: 0.6000\n",
            "Epoch 67/100\n",
            "1/1 [==============================] - 0s 12ms/step - loss: 0.0079 - accuracy: 1.0000 - val_loss: 1.3303 - val_accuracy: 0.6000\n",
            "Epoch 68/100\n",
            "1/1 [==============================] - 0s 12ms/step - loss: 0.0072 - accuracy: 1.0000 - val_loss: 1.3307 - val_accuracy: 0.6000\n",
            "Epoch 69/100\n",
            "1/1 [==============================] - 0s 12ms/step - loss: 0.0066 - accuracy: 1.0000 - val_loss: 1.3548 - val_accuracy: 0.6000\n",
            "Epoch 70/100\n",
            "1/1 [==============================] - 0s 12ms/step - loss: 0.0060 - accuracy: 1.0000 - val_loss: 1.3890 - val_accuracy: 0.6000\n",
            "Epoch 71/100\n",
            "1/1 [==============================] - 0s 12ms/step - loss: 0.0056 - accuracy: 1.0000 - val_loss: 1.4085 - val_accuracy: 0.6000\n",
            "Epoch 72/100\n",
            "1/1 [==============================] - 0s 12ms/step - loss: 0.0052 - accuracy: 1.0000 - val_loss: 1.4061 - val_accuracy: 0.6000\n",
            "Epoch 73/100\n",
            "1/1 [==============================] - 0s 11ms/step - loss: 0.0048 - accuracy: 1.0000 - val_loss: 1.4016 - val_accuracy: 0.6000\n",
            "Epoch 74/100\n",
            "1/1 [==============================] - 0s 11ms/step - loss: 0.0045 - accuracy: 1.0000 - val_loss: 1.4146 - val_accuracy: 0.6000\n",
            "Epoch 75/100\n",
            "1/1 [==============================] - 0s 11ms/step - loss: 0.0042 - accuracy: 1.0000 - val_loss: 1.4437 - val_accuracy: 0.6000\n",
            "Epoch 76/100\n",
            "1/1 [==============================] - 0s 12ms/step - loss: 0.0039 - accuracy: 1.0000 - val_loss: 1.4718 - val_accuracy: 0.6000\n",
            "Epoch 77/100\n",
            "1/1 [==============================] - 0s 12ms/step - loss: 0.0037 - accuracy: 1.0000 - val_loss: 1.4864 - val_accuracy: 0.6000\n",
            "Epoch 78/100\n",
            "1/1 [==============================] - 0s 12ms/step - loss: 0.0035 - accuracy: 1.0000 - val_loss: 1.4888 - val_accuracy: 0.6000\n",
            "Epoch 79/100\n",
            "1/1 [==============================] - 0s 12ms/step - loss: 0.0033 - accuracy: 1.0000 - val_loss: 1.4889 - val_accuracy: 0.6000\n",
            "Epoch 80/100\n",
            "1/1 [==============================] - 0s 12ms/step - loss: 0.0031 - accuracy: 1.0000 - val_loss: 1.4973 - val_accuracy: 0.6000\n",
            "Epoch 81/100\n",
            "1/1 [==============================] - 0s 12ms/step - loss: 0.0030 - accuracy: 1.0000 - val_loss: 1.5194 - val_accuracy: 0.6000\n",
            "Epoch 82/100\n",
            "1/1 [==============================] - 0s 13ms/step - loss: 0.0028 - accuracy: 1.0000 - val_loss: 1.5455 - val_accuracy: 0.6000\n",
            "Epoch 83/100\n",
            "1/1 [==============================] - 0s 13ms/step - loss: 0.0027 - accuracy: 1.0000 - val_loss: 1.5673 - val_accuracy: 0.6000\n",
            "Epoch 84/100\n",
            "1/1 [==============================] - 0s 13ms/step - loss: 0.0026 - accuracy: 1.0000 - val_loss: 1.5779 - val_accuracy: 0.6000\n",
            "Epoch 85/100\n",
            "1/1 [==============================] - 0s 12ms/step - loss: 0.0025 - accuracy: 1.0000 - val_loss: 1.5798 - val_accuracy: 0.6000\n",
            "Epoch 86/100\n",
            "1/1 [==============================] - 0s 11ms/step - loss: 0.0024 - accuracy: 1.0000 - val_loss: 1.5812 - val_accuracy: 0.6000\n",
            "Epoch 87/100\n",
            "1/1 [==============================] - 0s 11ms/step - loss: 0.0023 - accuracy: 1.0000 - val_loss: 1.5876 - val_accuracy: 0.6000\n",
            "Epoch 88/100\n",
            "1/1 [==============================] - 0s 11ms/step - loss: 0.0022 - accuracy: 1.0000 - val_loss: 1.6038 - val_accuracy: 0.6000\n",
            "Epoch 89/100\n",
            "1/1 [==============================] - 0s 11ms/step - loss: 0.0021 - accuracy: 1.0000 - val_loss: 1.6244 - val_accuracy: 0.6000\n",
            "Epoch 90/100\n",
            "1/1 [==============================] - 0s 11ms/step - loss: 0.0020 - accuracy: 1.0000 - val_loss: 1.6395 - val_accuracy: 0.6000\n",
            "Epoch 91/100\n",
            "1/1 [==============================] - 0s 11ms/step - loss: 0.0019 - accuracy: 1.0000 - val_loss: 1.6446 - val_accuracy: 0.6000\n",
            "Epoch 92/100\n",
            "1/1 [==============================] - 0s 11ms/step - loss: 0.0019 - accuracy: 1.0000 - val_loss: 1.6463 - val_accuracy: 0.6000\n",
            "Epoch 93/100\n",
            "1/1 [==============================] - 0s 11ms/step - loss: 0.0018 - accuracy: 1.0000 - val_loss: 1.6487 - val_accuracy: 0.6000\n",
            "Epoch 94/100\n",
            "1/1 [==============================] - 0s 12ms/step - loss: 0.0018 - accuracy: 1.0000 - val_loss: 1.6561 - val_accuracy: 0.6000\n",
            "Epoch 95/100\n",
            "1/1 [==============================] - 0s 12ms/step - loss: 0.0017 - accuracy: 1.0000 - val_loss: 1.6681 - val_accuracy: 0.6000\n",
            "Epoch 96/100\n",
            "1/1 [==============================] - 0s 13ms/step - loss: 0.0016 - accuracy: 1.0000 - val_loss: 1.6820 - val_accuracy: 0.6000\n",
            "Epoch 97/100\n",
            "1/1 [==============================] - 0s 13ms/step - loss: 0.0016 - accuracy: 1.0000 - val_loss: 1.6919 - val_accuracy: 0.6000\n",
            "Epoch 98/100\n",
            "1/1 [==============================] - 0s 13ms/step - loss: 0.0016 - accuracy: 1.0000 - val_loss: 1.6959 - val_accuracy: 0.6000\n",
            "Epoch 99/100\n",
            "1/1 [==============================] - 0s 12ms/step - loss: 0.0015 - accuracy: 1.0000 - val_loss: 1.6963 - val_accuracy: 0.6000\n",
            "Epoch 100/100\n",
            "1/1 [==============================] - 0s 13ms/step - loss: 0.0015 - accuracy: 1.0000 - val_loss: 1.6969 - val_accuracy: 0.6000\n"
          ]
        }
      ],
      "source": [
        "# Compile with your desired optimizer and loss function with 'accuracy' as metric\n",
        "# # Don't forget to monitor the overfitting, you should take care of val_accuracy and val_loss\n",
        "\n",
        "batch_size = 64\n",
        "epochs = 100\n",
        "\n",
        "model.compile(loss=\"BinaryCrossentropy\", optimizer=\"adam\", metrics=[\"accuracy\"])\n",
        "\n",
        "history = model.fit(train_data, train_labels, batch_size=batch_size, epochs=epochs, shuffle=True, validation_split=0.2)\n",
        "\n"
      ]
    },
    {
      "cell_type": "markdown",
      "metadata": {},
      "source": [
        "### Plot results"
      ]
    },
    {
      "cell_type": "code",
      "execution_count": 237,
      "metadata": {
        "vscode": {
          "languageId": "python"
        }
      },
      "outputs": [
        {
          "data": {
            "image/png": "[encoded data removed]",
            "text/plain": [
              "<Figure size 432x288 with 1 Axes>"
            ]
          },
          "metadata": {
            "needs_background": "light"
          },
          "output_type": "display_data"
        },
        {
          "data": {
            "image/png": "[encoded data removed]",
            "text/plain": [
              "<Figure size 432x288 with 1 Axes>"
            ]
          },
          "metadata": {
            "needs_background": "light"
          },
          "output_type": "display_data"
        }
      ],
      "source": [
        "# Plot your data\n",
        "\n",
        "acc = history.history['accuracy']\n",
        "val_acc = history.history['val_accuracy']\n",
        "loss = history.history['loss']\n",
        "val_loss = history.history['val_loss']\n",
        "\n",
        "epochs = range(len(acc))\n",
        "\n",
        "plt.plot(epochs, acc, 'r', label='Training accuracy')\n",
        "plt.plot(epochs, val_acc, 'b', label='Validation accuracy')\n",
        "plt.title('Training and validation accuracy')\n",
        "plt.legend()\n",
        "\n",
        "plt.figure()\n",
        "\n",
        "plt.plot(epochs, loss, 'r', label='Training Loss')\n",
        "plt.plot(epochs, val_loss, 'b', label='Validation Loss')\n",
        "plt.title('Training and validation loss')\n",
        "plt.legend()\n",
        "\n",
        "plt.show()"
      ]
    },
    {
      "cell_type": "markdown",
      "metadata": {},
      "source": [
        "### Evaluate results"
      ]
    },
    {
      "cell_type": "code",
      "execution_count": 238,
      "metadata": {
        "vscode": {
          "languageId": "python"
        }
      },
      "outputs": [
        {
          "name": "stdout",
          "output_type": "stream",
          "text": [
            "Test loss: 1.9180108308792114\n",
            "Test accuracy: 0.5600000023841858\n"
          ]
        }
      ],
      "source": [
        "# Evaluate your model on the test data\n",
        "\n",
        "score = model.evaluate(\n",
        "    test_data, test_labels, verbose=0\n",
        ")\n",
        "\n",
        "print(\"Test loss:\", score[0])\n",
        "print(\"Test accuracy:\", score[1])\n"
      ]
    },
    {
      "cell_type": "markdown",
      "metadata": {},
      "source": [
        "# Compare results with and without using agumentation\n",
        "### Now we need to do agumentation to create more images to help us overcome underfitting"
      ]
    },
    {
      "cell_type": "markdown",
      "metadata": {},
      "source": [
        "### Agumentation Methods\n",
        "Here you should do the agumentation methods to produce more images\n"
      ]
    },
    {
      "cell_type": "code",
      "execution_count": 56,
      "metadata": {
        "id": "T6Y6_veDcNwt",
        "vscode": {
          "languageId": "python"
        }
      },
      "outputs": [],
      "source": [
        "# In this cell you need to implement agumentation methods to increase our data\n",
        "# NOTICE! Only use libraries in CV2 or others, DON'T use KERAS and Pytorch!\n",
        "\n",
        "\n",
        "def fill(img, h, w):\n",
        "    ''' \n",
        "    we use this function to resize the shifted image and fill border pixles with different methods\n",
        "    \n",
        "    arguments \n",
        "    input img: a Numpy ndarray from any size of h * w * ch\n",
        "          h: an integer defining the height of target image\n",
        "          w: an integer defining the width of target image\n",
        "    \n",
        "    output: resized and interpolated image \n",
        "\n",
        "    '''\n",
        "        \n",
        "    img = cv2.resize(img, (h, w), cv2.INTER_CUBIC)\n",
        "    return img\n",
        "\n",
        "\n",
        "def horizontal_shift(img, ratio=0.5):\n",
        "\n",
        "    ''' \n",
        "    we use this function to shift the image horizontally with the given ratio\n",
        "    width_target = width_input - ratio * width_input\n",
        "    \n",
        "    Hint: select ratio in range (-ratio to ratio) uniformly, to simulate horizontally shift to right and left with different ratios\n",
        "\n",
        "\n",
        "    arguments \n",
        "    input img: a Numpy ndarray from any size of h * w * ch\n",
        "          ratio: a float number between 0 and 1\n",
        "    \n",
        "    output: resized and interpolated image \n",
        "\n",
        "    '''\n",
        "    \n",
        "    if ratio > 1 or ratio < 0:\n",
        "        print('Value should be less than 1 and greater than 0')\n",
        "        return img\n",
        "    ratio = random.uniform(-ratio, ratio) # you can change this\n",
        "    h, w = img.shape[:2]\n",
        "    to_shift = w*ratio\n",
        "    if ratio > 0:\n",
        "        img = img[:, :int(w-to_shift), :]\n",
        "    if ratio < 0:\n",
        "        img = img[:, int(-1*to_shift):, :]\n",
        "\n",
        "    img = fill(img, h, w) # fill image borders\n",
        "\n",
        "    return img\n"
      ]
    },
    {
      "cell_type": "code",
      "execution_count": 57,
      "metadata": {
        "id": "cmDF6i2kdKli",
        "vscode": {
          "languageId": "python"
        }
      },
      "outputs": [],
      "source": [
        "    \n",
        "def vertical_shift(img, ratio=0.5):\n",
        "\n",
        "    ''' \n",
        "    we use this function to shift the image vertically with the given ratio\n",
        "    width_target = width_input - ratio * width_input\n",
        "    \n",
        "    Hint: select ratio in range (-ratio to ratio) uniformly, to simulate vertically shift to up and down with different ratios\n",
        "\n",
        "\n",
        "    arguments \n",
        "    input img: a Numpy ndarray from any size of h * w * ch\n",
        "          ratio: a float number between 0 and 1\n",
        "    \n",
        "    output: resized and interpolated image \n",
        "\n",
        "    '''\n",
        "\n",
        "    if ratio > 1 or ratio < 0:\n",
        "        print('Value should be less than 1 and greater than 0')\n",
        "        return img\n",
        "    ratio = random.uniform(-ratio, ratio)\n",
        "    h, w = img.shape[:2]\n",
        "    to_shift = h*ratio\n",
        "    if ratio > 0:\n",
        "        img = img[:int(h-to_shift), :, :]\n",
        "    if ratio < 0:\n",
        "        img = img[int(-1*to_shift):, :, :]\n",
        "        \n",
        "    img = fill(img, h, w)\n",
        "\n",
        "    return img\n",
        "\n"
      ]
    },
    {
      "cell_type": "code",
      "execution_count": 58,
      "metadata": {
        "id": "pJ31WDBQdNhz",
        "vscode": {
          "languageId": "python"
        }
      },
      "outputs": [],
      "source": [
        "def brightness(img, low, high):\n",
        "\n",
        "    ''' \n",
        "    we use this function to change the brightness of the image with given high and low values\n",
        "    \n",
        "    Hint: first convert to HSV color domain, Next make your image brighter or darker then convert back to BGR\n",
        "\n",
        "    arguments \n",
        "    input img: a Numpy ndarray from any size of h * w * ch\n",
        "          low:\n",
        "          high:\n",
        "    \n",
        "    output: image with different brightness\n",
        "\n",
        "    '''\n",
        "\n",
        "    value = random.uniform(low, high)\n",
        "    hsv = cv2.cvtColor(img, cv2.COLOR_BGR2HSV)\n",
        "    hsv = np.array(hsv, dtype = np.float64)\n",
        "    hsv[:,:,1] = hsv[:,:,1]*value\n",
        "    hsv[:,:,1][hsv[:,:,1]>255]  = 255\n",
        "    hsv[:,:,2] = hsv[:,:,2]*value \n",
        "    hsv[:,:,2][hsv[:,:,2]>255]  = 255\n",
        "    hsv = np.array(hsv, dtype = np.uint8)\n",
        "    img = cv2.cvtColor(hsv, cv2.COLOR_HSV2BGR)\n",
        "    \n",
        "    return img"
      ]
    },
    {
      "cell_type": "code",
      "execution_count": 59,
      "metadata": {
        "id": "buuw_F7Bdaq-",
        "vscode": {
          "languageId": "python"
        }
      },
      "outputs": [],
      "source": [
        "def zoom(img, value):\n",
        "\n",
        "    ''' \n",
        "    we use this function to zoom the image with given value\n",
        "    \n",
        "    arguments \n",
        "    input img: a Numpy ndarray from any size of h * w * ch\n",
        "          value: an integer number indicating the zoom effect\n",
        "    \n",
        "    output: zoomed image\n",
        "\n",
        "    '''\n",
        "    \n",
        "    if value > 1 or value < 0:\n",
        "        print('Value for zoom should be less than 1 and greater than 0')\n",
        "        return img\n",
        "    value = random.uniform(value, 1)\n",
        "    h, w = img.shape[:2]\n",
        "    h_taken = int(value*h)\n",
        "    w_taken = int(value*w)\n",
        "    h_start = random.randint(0, h-h_taken)\n",
        "    w_start = random.randint(0, w-w_taken)\n",
        "    img = img[h_start:h_start+h_taken, w_start:w_start+w_taken, :]\n",
        "    \n",
        "    img = fill(img, h, w)\n",
        "\n",
        "    return img"
      ]
    },
    {
      "cell_type": "code",
      "execution_count": 60,
      "metadata": {
        "id": "dRQTWQiYde3-",
        "vscode": {
          "languageId": "python"
        }
      },
      "outputs": [],
      "source": [
        "def channel_shift(img, value):\n",
        "\n",
        "    ''' \n",
        "    we use this function to shift color channels to play with colors in the image\n",
        "    \n",
        "    arguments \n",
        "    input img: a Numpy ndarray from any size of h * w * ch\n",
        "          value: an integer number indicating the color change effect\n",
        "    \n",
        "    output: image with changed colors\n",
        "\n",
        "    '''\n",
        "    \n",
        "    value = int(random.uniform(-value, value))\n",
        "    img = img + value\n",
        "    img[:,:,:][img[:,:,:]>255]  = 255\n",
        "    img[:,:,:][img[:,:,:]<0]  = 0\n",
        "    img = img.astype(np.uint8)\n",
        "    \n",
        "    return img"
      ]
    },
    {
      "cell_type": "code",
      "execution_count": 61,
      "metadata": {
        "id": "-8fUbL8odizd",
        "vscode": {
          "languageId": "python"
        }
      },
      "outputs": [],
      "source": [
        "def horizontal_flip(img):\n",
        "\n",
        "    ''' \n",
        "    we use this function to flip the image horizontally\n",
        "\n",
        "    arguments \n",
        "    input img: a Numpy ndarray from any size of h * w * ch\n",
        "    \n",
        "    output: horizontally fliped image\n",
        "\n",
        "    '''\n",
        "\n",
        "    return cv2.flip(img, 1)\n"
      ]
    },
    {
      "cell_type": "code",
      "execution_count": 62,
      "metadata": {
        "id": "_oXvmff4dtd7",
        "vscode": {
          "languageId": "python"
        }
      },
      "outputs": [],
      "source": [
        "def vertical_flip(img):\n",
        "\n",
        "    ''' \n",
        "    we use this function to flip the image vertically\n",
        "    \n",
        "    arguments \n",
        "    input img: a Numpy ndarray from any size of h * w * ch\n",
        "    \n",
        "    output: vertically fliped image\n",
        "\n",
        "    '''\n",
        "    \n",
        "    return cv2.flip(img, 0)\n"
      ]
    },
    {
      "cell_type": "markdown",
      "metadata": {},
      "source": [
        "### Prepare your dataset"
      ]
    },
    {
      "cell_type": "code",
      "execution_count": 194,
      "metadata": {
        "id": "AiAQnha9dwJ8",
        "vscode": {
          "languageId": "python"
        }
      },
      "outputs": [],
      "source": [
        "# For each image in our dataset run the previous methods and create a new dataset\n",
        "def augmentation(img):\n",
        "\n",
        "    if (random.randint(0,1) == 1):\n",
        "        img = zoom(img,random.uniform(0.001, 0.01))\n",
        "\n",
        "    if (random.randint(0,1) == 1):\n",
        "        img = vertical_flip(img)\n",
        "\n",
        "    if (random.randint(0,1) == 1):\n",
        "        img = horizontal_shift(img)\n",
        "\n",
        "    if (random.randint(0,1) == 1):\n",
        "        img = vertical_shift(img)\n",
        "\n",
        "    if (random.randint(0,1) == 1):\n",
        "        rand = random.randint(0,10)\n",
        "        img = brightness(img,-rand,rand)\n",
        "\n",
        "    if (random.randint(0,1) == 1):\n",
        "        img = channel_shift(img,random.randint(0,1))\n",
        "\n",
        "    if (random.randint(0,1) == 1):\n",
        "        img = horizontal_flip(img)\n",
        "\n",
        "    return img\n",
        "        \n",
        "\n",
        "def load_images_from_folder(folder):\n",
        "    images = []\n",
        "    labels = []\n",
        "    for filename in os.listdir(folder):\n",
        "        for counter in range(50):\n",
        "            path = os.path.join(folder,filename)\n",
        "            if \"cat\" in path:\n",
        "                labels.append(1)\n",
        "            else:\n",
        "                labels.append(0)\n",
        "\n",
        "            img = augmentation(cv2.imread(path))\n",
        "            # img = cv2.imread(path)\n",
        "            if img is not None:\n",
        "                images.append(img)\n",
        "\n",
        "    for filename in os.listdir(folder):\n",
        "            path = os.path.join(folder,filename)\n",
        "            if \"cat\" in path:\n",
        "                labels.append(1)\n",
        "            else:\n",
        "                labels.append(0)\n",
        "\n",
        "            img = cv2.imread(path)\n",
        "            if img is not None:\n",
        "                images.append(img)\n",
        "\n",
        "    return images, labels\n",
        "\n",
        "images, labels = load_images_from_folder(\"HW/data_aug\")\n"
      ]
    },
    {
      "cell_type": "code",
      "execution_count": 195,
      "metadata": {
        "id": "INX5G0lfgOz4",
        "vscode": {
          "languageId": "python"
        }
      },
      "outputs": [],
      "source": [
        "\n",
        "# Extend your labels array new size with correct labels maped to each agumented image\n",
        "\n",
        "    ########################\n",
        "    ## PUT YOUR CODE HERE ##\n",
        "    ########################\n"
      ]
    },
    {
      "cell_type": "code",
      "execution_count": 196,
      "metadata": {
        "id": "AhInWVpUeqI2",
        "vscode": {
          "languageId": "python"
        }
      },
      "outputs": [],
      "source": [
        "# Normalize your dataset in a way to have a image dataset with pixles in range (0 to 1)\n",
        "\n",
        "for counter in range(len(images)):\n",
        "    images[counter] = images[counter]/255\n",
        "\n"
      ]
    },
    {
      "cell_type": "code",
      "execution_count": 197,
      "metadata": {
        "id": "WJvVTTO1gwr4",
        "vscode": {
          "languageId": "python"
        }
      },
      "outputs": [],
      "source": [
        "# Resize your images to (28 * 28)\n",
        "\n",
        "for counter in range(len(images)):\n",
        "    images[counter] = cv2.resize(images[counter], (28 , 28), interpolation = cv2.INTER_AREA)\n"
      ]
    },
    {
      "cell_type": "code",
      "execution_count": 198,
      "metadata": {
        "id": "hHAp88v5hjOX",
        "vscode": {
          "languageId": "python"
        }
      },
      "outputs": [],
      "source": [
        "# Flatten your dataset images \n",
        "\n",
        "\n",
        "for counter in range(len(images)):\n",
        "    images[counter] = images[counter].flatten()\n"
      ]
    },
    {
      "cell_type": "code",
      "execution_count": 199,
      "metadata": {
        "id": "YC-_5hy7iQy7",
        "vscode": {
          "languageId": "python"
        }
      },
      "outputs": [
        {
          "name": "stdout",
          "output_type": "stream",
          "text": [
            "lebels shape: (5100,)\n",
            "images shape: (5100, 2352)\n"
          ]
        }
      ],
      "source": [
        "# Check your dataset and labels to be a numpy ndarray of sizes (100, 28 * 28 * 3) and (100, 1) respectively.\n",
        "images_np = np.asarray(images, dtype=np.float32)\n",
        "lebels_np = np.asarray(labels, dtype=np.float32)\n",
        "\n",
        "print(\"lebels shape: \"+str(lebels_np.shape))\n",
        "print(\"images shape: \"+str(images_np.shape))"
      ]
    },
    {
      "cell_type": "markdown",
      "metadata": {},
      "source": [
        "### Create your model"
      ]
    },
    {
      "cell_type": "code",
      "execution_count": 210,
      "metadata": {
        "vscode": {
          "languageId": "python"
        }
      },
      "outputs": [],
      "source": [
        "# create a simple model of Keras MLP with desired number of dense layers and units and activation function\n",
        "# don't forget to shuffle the data\n",
        "# this is a binary classification problem\n",
        "\n",
        "model = keras.Sequential(name=\"Aug\")\n",
        "model.add(layers.Dense(100, activation=\"relu\", name=\"hidden1\"))\n",
        "model.add(layers.Dense(50, activation=\"relu\", name=\"hidden2\"))\n",
        "model.add(layers.Dense(20, activation=\"relu\", name=\"hidden3\"))\n",
        "model.add(layers.Dense(1, activation=\"sigmoid\", name=\"out\"))"
      ]
    },
    {
      "cell_type": "code",
      "execution_count": 211,
      "metadata": {
        "vscode": {
          "languageId": "python"
        }
      },
      "outputs": [],
      "source": [
        "# Split your dataset to test and train with the desired implementation\n",
        "# use sklearn.model_selection.train_test_split\n",
        "\n",
        "\n",
        "from sklearn.model_selection import train_test_split\n",
        "\n",
        "train_data, test_data, train_labels, test_labels = train_test_split(images_np, lebels_np)"
      ]
    },
    {
      "cell_type": "code",
      "execution_count": 212,
      "metadata": {
        "vscode": {
          "languageId": "python"
        }
      },
      "outputs": [
        {
          "name": "stdout",
          "output_type": "stream",
          "text": [
            "Epoch 1/100\n",
            "48/48 [==============================] - 0s 3ms/step - loss: 0.6990 - accuracy: 0.5108 - val_loss: 0.6961 - val_accuracy: 0.5111\n",
            "Epoch 2/100\n",
            "48/48 [==============================] - 0s 1ms/step - loss: 0.6886 - accuracy: 0.5415 - val_loss: 0.7554 - val_accuracy: 0.5059\n",
            "Epoch 3/100\n",
            "48/48 [==============================] - 0s 1ms/step - loss: 0.6913 - accuracy: 0.5425 - val_loss: 0.6890 - val_accuracy: 0.5425\n",
            "Epoch 4/100\n",
            "48/48 [==============================] - 0s 1ms/step - loss: 0.6723 - accuracy: 0.5895 - val_loss: 0.6747 - val_accuracy: 0.5804\n",
            "Epoch 5/100\n",
            "48/48 [==============================] - 0s 1ms/step - loss: 0.6786 - accuracy: 0.5650 - val_loss: 0.6781 - val_accuracy: 0.5621\n",
            "Epoch 6/100\n",
            "48/48 [==============================] - 0s 1ms/step - loss: 0.6801 - accuracy: 0.5624 - val_loss: 0.6810 - val_accuracy: 0.5699\n",
            "Epoch 7/100\n",
            "48/48 [==============================] - 0s 1ms/step - loss: 0.6727 - accuracy: 0.5775 - val_loss: 0.6696 - val_accuracy: 0.5843\n",
            "Epoch 8/100\n",
            "48/48 [==============================] - 0s 1ms/step - loss: 0.6659 - accuracy: 0.5840 - val_loss: 0.6695 - val_accuracy: 0.5895\n",
            "Epoch 9/100\n",
            "48/48 [==============================] - 0s 1ms/step - loss: 0.6529 - accuracy: 0.6147 - val_loss: 0.6938 - val_accuracy: 0.5699\n",
            "Epoch 10/100\n",
            "48/48 [==============================] - 0s 1ms/step - loss: 0.6540 - accuracy: 0.6088 - val_loss: 0.6618 - val_accuracy: 0.5882\n",
            "Epoch 11/100\n",
            "48/48 [==============================] - 0s 1ms/step - loss: 0.6527 - accuracy: 0.6085 - val_loss: 0.6836 - val_accuracy: 0.5869\n",
            "Epoch 12/100\n",
            "48/48 [==============================] - 0s 1ms/step - loss: 0.6532 - accuracy: 0.6154 - val_loss: 0.6642 - val_accuracy: 0.6078\n",
            "Epoch 13/100\n",
            "48/48 [==============================] - 0s 1ms/step - loss: 0.6363 - accuracy: 0.6464 - val_loss: 0.6649 - val_accuracy: 0.6013\n",
            "Epoch 14/100\n",
            "48/48 [==============================] - 0s 1ms/step - loss: 0.6328 - accuracy: 0.6379 - val_loss: 0.6633 - val_accuracy: 0.5948\n",
            "Epoch 15/100\n",
            "48/48 [==============================] - 0s 1ms/step - loss: 0.6316 - accuracy: 0.6438 - val_loss: 0.6727 - val_accuracy: 0.5699\n",
            "Epoch 16/100\n",
            "48/48 [==============================] - 0s 1ms/step - loss: 0.6117 - accuracy: 0.6585 - val_loss: 0.7131 - val_accuracy: 0.5608\n",
            "Epoch 17/100\n",
            "48/48 [==============================] - 0s 1ms/step - loss: 0.6135 - accuracy: 0.6507 - val_loss: 0.6551 - val_accuracy: 0.6222\n",
            "Epoch 18/100\n",
            "48/48 [==============================] - 0s 1ms/step - loss: 0.5976 - accuracy: 0.6650 - val_loss: 0.6622 - val_accuracy: 0.5882\n",
            "Epoch 19/100\n",
            "48/48 [==============================] - 0s 1ms/step - loss: 0.6088 - accuracy: 0.6529 - val_loss: 0.6526 - val_accuracy: 0.6052\n",
            "Epoch 20/100\n",
            "48/48 [==============================] - 0s 1ms/step - loss: 0.5936 - accuracy: 0.6716 - val_loss: 0.6760 - val_accuracy: 0.5908\n",
            "Epoch 21/100\n",
            "48/48 [==============================] - 0s 1ms/step - loss: 0.5931 - accuracy: 0.6797 - val_loss: 0.6820 - val_accuracy: 0.5948\n",
            "Epoch 22/100\n",
            "48/48 [==============================] - 0s 1ms/step - loss: 0.5746 - accuracy: 0.6846 - val_loss: 0.6663 - val_accuracy: 0.6248\n",
            "Epoch 23/100\n",
            "48/48 [==============================] - 0s 1ms/step - loss: 0.5834 - accuracy: 0.6706 - val_loss: 0.6727 - val_accuracy: 0.6039\n",
            "Epoch 24/100\n",
            "48/48 [==============================] - 0s 1ms/step - loss: 0.5759 - accuracy: 0.6879 - val_loss: 0.7218 - val_accuracy: 0.5935\n",
            "Epoch 25/100\n",
            "48/48 [==============================] - 0s 1ms/step - loss: 0.5546 - accuracy: 0.7108 - val_loss: 0.6899 - val_accuracy: 0.6183\n",
            "Epoch 26/100\n",
            "48/48 [==============================] - 0s 1ms/step - loss: 0.5456 - accuracy: 0.7111 - val_loss: 0.6756 - val_accuracy: 0.6170\n",
            "Epoch 27/100\n",
            "48/48 [==============================] - 0s 1ms/step - loss: 0.5579 - accuracy: 0.6974 - val_loss: 0.6697 - val_accuracy: 0.6222\n",
            "Epoch 28/100\n",
            "48/48 [==============================] - 0s 1ms/step - loss: 0.5400 - accuracy: 0.7150 - val_loss: 0.7028 - val_accuracy: 0.6131\n",
            "Epoch 29/100\n",
            "48/48 [==============================] - 0s 1ms/step - loss: 0.5546 - accuracy: 0.6987 - val_loss: 0.6623 - val_accuracy: 0.6379\n",
            "Epoch 30/100\n",
            "48/48 [==============================] - 0s 1ms/step - loss: 0.5405 - accuracy: 0.7190 - val_loss: 0.6896 - val_accuracy: 0.5882\n",
            "Epoch 31/100\n",
            "48/48 [==============================] - 0s 1ms/step - loss: 0.5574 - accuracy: 0.6941 - val_loss: 0.6781 - val_accuracy: 0.6235\n",
            "Epoch 32/100\n",
            "48/48 [==============================] - 0s 1ms/step - loss: 0.5102 - accuracy: 0.7415 - val_loss: 0.6889 - val_accuracy: 0.6458\n",
            "Epoch 33/100\n",
            "48/48 [==============================] - 0s 1ms/step - loss: 0.5097 - accuracy: 0.7369 - val_loss: 0.6930 - val_accuracy: 0.6301\n",
            "Epoch 34/100\n",
            "48/48 [==============================] - 0s 1ms/step - loss: 0.5493 - accuracy: 0.7036 - val_loss: 0.6854 - val_accuracy: 0.6431\n",
            "Epoch 35/100\n",
            "48/48 [==============================] - 0s 1ms/step - loss: 0.4900 - accuracy: 0.7477 - val_loss: 0.7185 - val_accuracy: 0.6157\n",
            "Epoch 36/100\n",
            "48/48 [==============================] - 0s 1ms/step - loss: 0.5199 - accuracy: 0.7317 - val_loss: 0.6913 - val_accuracy: 0.6497\n",
            "Epoch 37/100\n",
            "48/48 [==============================] - 0s 1ms/step - loss: 0.5115 - accuracy: 0.7379 - val_loss: 0.7590 - val_accuracy: 0.6013\n",
            "Epoch 38/100\n",
            "48/48 [==============================] - 0s 1ms/step - loss: 0.4777 - accuracy: 0.7569 - val_loss: 0.7324 - val_accuracy: 0.6105\n",
            "Epoch 39/100\n",
            "48/48 [==============================] - 0s 1ms/step - loss: 0.4673 - accuracy: 0.7703 - val_loss: 0.7060 - val_accuracy: 0.6288\n",
            "Epoch 40/100\n",
            "48/48 [==============================] - 0s 1ms/step - loss: 0.4877 - accuracy: 0.7542 - val_loss: 0.7576 - val_accuracy: 0.5935\n",
            "Epoch 41/100\n",
            "48/48 [==============================] - 0s 1ms/step - loss: 0.4760 - accuracy: 0.7644 - val_loss: 0.7315 - val_accuracy: 0.6209\n",
            "Epoch 42/100\n",
            "48/48 [==============================] - 0s 1ms/step - loss: 0.4641 - accuracy: 0.7742 - val_loss: 0.7522 - val_accuracy: 0.6092\n",
            "Epoch 43/100\n",
            "48/48 [==============================] - 0s 1ms/step - loss: 0.4742 - accuracy: 0.7657 - val_loss: 0.7017 - val_accuracy: 0.6222\n",
            "Epoch 44/100\n",
            "48/48 [==============================] - 0s 1ms/step - loss: 0.4445 - accuracy: 0.7856 - val_loss: 0.7455 - val_accuracy: 0.6366\n",
            "Epoch 45/100\n",
            "48/48 [==============================] - 0s 1ms/step - loss: 0.4441 - accuracy: 0.7850 - val_loss: 0.7512 - val_accuracy: 0.6353\n",
            "Epoch 46/100\n",
            "48/48 [==============================] - 0s 1ms/step - loss: 0.4309 - accuracy: 0.7892 - val_loss: 0.7566 - val_accuracy: 0.6340\n",
            "Epoch 47/100\n",
            "48/48 [==============================] - 0s 1ms/step - loss: 0.4289 - accuracy: 0.7941 - val_loss: 0.7459 - val_accuracy: 0.6431\n",
            "Epoch 48/100\n",
            "48/48 [==============================] - 0s 1ms/step - loss: 0.4259 - accuracy: 0.7922 - val_loss: 0.7925 - val_accuracy: 0.6052\n",
            "Epoch 49/100\n",
            "48/48 [==============================] - 0s 1ms/step - loss: 0.4063 - accuracy: 0.8056 - val_loss: 0.7496 - val_accuracy: 0.6484\n",
            "Epoch 50/100\n",
            "48/48 [==============================] - 0s 1ms/step - loss: 0.4250 - accuracy: 0.7938 - val_loss: 0.7696 - val_accuracy: 0.6275\n",
            "Epoch 51/100\n",
            "48/48 [==============================] - 0s 1ms/step - loss: 0.3974 - accuracy: 0.8163 - val_loss: 0.7888 - val_accuracy: 0.6301\n",
            "Epoch 52/100\n",
            "48/48 [==============================] - 0s 1ms/step - loss: 0.3873 - accuracy: 0.8167 - val_loss: 0.8604 - val_accuracy: 0.6353\n",
            "Epoch 53/100\n",
            "48/48 [==============================] - 0s 1ms/step - loss: 0.4737 - accuracy: 0.7654 - val_loss: 0.7855 - val_accuracy: 0.6157\n",
            "Epoch 54/100\n",
            "48/48 [==============================] - 0s 1ms/step - loss: 0.4664 - accuracy: 0.7693 - val_loss: 0.8143 - val_accuracy: 0.6458\n",
            "Epoch 55/100\n",
            "48/48 [==============================] - 0s 1ms/step - loss: 0.3855 - accuracy: 0.8209 - val_loss: 0.8003 - val_accuracy: 0.6392\n",
            "Epoch 56/100\n",
            "48/48 [==============================] - 0s 1ms/step - loss: 0.3683 - accuracy: 0.8294 - val_loss: 0.8377 - val_accuracy: 0.6458\n",
            "Epoch 57/100\n",
            "48/48 [==============================] - 0s 1ms/step - loss: 0.3620 - accuracy: 0.8343 - val_loss: 1.0236 - val_accuracy: 0.5882\n",
            "Epoch 58/100\n",
            "48/48 [==============================] - 0s 1ms/step - loss: 0.3796 - accuracy: 0.8147 - val_loss: 0.8515 - val_accuracy: 0.6314\n",
            "Epoch 59/100\n",
            "48/48 [==============================] - 0s 1ms/step - loss: 0.3765 - accuracy: 0.8222 - val_loss: 0.8635 - val_accuracy: 0.6039\n",
            "Epoch 60/100\n",
            "48/48 [==============================] - 0s 1ms/step - loss: 0.3659 - accuracy: 0.8314 - val_loss: 0.8922 - val_accuracy: 0.6222\n",
            "Epoch 61/100\n",
            "48/48 [==============================] - 0s 1ms/step - loss: 0.3818 - accuracy: 0.8137 - val_loss: 0.8273 - val_accuracy: 0.6301\n",
            "Epoch 62/100\n",
            "48/48 [==============================] - 0s 1ms/step - loss: 0.3484 - accuracy: 0.8376 - val_loss: 0.8923 - val_accuracy: 0.6327\n",
            "Epoch 63/100\n",
            "48/48 [==============================] - 0s 1ms/step - loss: 0.4041 - accuracy: 0.8046 - val_loss: 0.9013 - val_accuracy: 0.6105\n",
            "Epoch 64/100\n",
            "48/48 [==============================] - 0s 1ms/step - loss: 0.3355 - accuracy: 0.8471 - val_loss: 1.0232 - val_accuracy: 0.6092\n",
            "Epoch 65/100\n",
            "48/48 [==============================] - 0s 1ms/step - loss: 0.3373 - accuracy: 0.8444 - val_loss: 0.9131 - val_accuracy: 0.6484\n",
            "Epoch 66/100\n",
            "48/48 [==============================] - 0s 1ms/step - loss: 0.3426 - accuracy: 0.8386 - val_loss: 0.8535 - val_accuracy: 0.6353\n",
            "Epoch 67/100\n",
            "48/48 [==============================] - 0s 1ms/step - loss: 0.3439 - accuracy: 0.8314 - val_loss: 0.9379 - val_accuracy: 0.6444\n",
            "Epoch 68/100\n",
            "48/48 [==============================] - 0s 1ms/step - loss: 0.3549 - accuracy: 0.8366 - val_loss: 1.0418 - val_accuracy: 0.6052\n",
            "Epoch 69/100\n",
            "48/48 [==============================] - 0s 1ms/step - loss: 0.3177 - accuracy: 0.8542 - val_loss: 0.9015 - val_accuracy: 0.6392\n",
            "Epoch 70/100\n",
            "48/48 [==============================] - 0s 1ms/step - loss: 0.3386 - accuracy: 0.8454 - val_loss: 0.9105 - val_accuracy: 0.6444\n",
            "Epoch 71/100\n",
            "48/48 [==============================] - 0s 1ms/step - loss: 0.3165 - accuracy: 0.8497 - val_loss: 1.0923 - val_accuracy: 0.6248\n",
            "Epoch 72/100\n",
            "48/48 [==============================] - 0s 1ms/step - loss: 0.3137 - accuracy: 0.8546 - val_loss: 0.9051 - val_accuracy: 0.6431\n",
            "Epoch 73/100\n",
            "48/48 [==============================] - 0s 1ms/step - loss: 0.2879 - accuracy: 0.8719 - val_loss: 0.9570 - val_accuracy: 0.6275\n",
            "Epoch 74/100\n",
            "48/48 [==============================] - 0s 1ms/step - loss: 0.2757 - accuracy: 0.8745 - val_loss: 0.9576 - val_accuracy: 0.6261\n",
            "Epoch 75/100\n",
            "48/48 [==============================] - 0s 1ms/step - loss: 0.2978 - accuracy: 0.8592 - val_loss: 1.0663 - val_accuracy: 0.6092\n",
            "Epoch 76/100\n",
            "48/48 [==============================] - 0s 1ms/step - loss: 0.3691 - accuracy: 0.8252 - val_loss: 1.1115 - val_accuracy: 0.6222\n",
            "Epoch 77/100\n",
            "48/48 [==============================] - 0s 1ms/step - loss: 0.3490 - accuracy: 0.8310 - val_loss: 1.1463 - val_accuracy: 0.5922\n",
            "Epoch 78/100\n",
            "48/48 [==============================] - 0s 1ms/step - loss: 0.3333 - accuracy: 0.8441 - val_loss: 1.0293 - val_accuracy: 0.6118\n",
            "Epoch 79/100\n",
            "48/48 [==============================] - 0s 1ms/step - loss: 0.2814 - accuracy: 0.8735 - val_loss: 1.0006 - val_accuracy: 0.6327\n",
            "Epoch 80/100\n",
            "48/48 [==============================] - 0s 1ms/step - loss: 0.2567 - accuracy: 0.8807 - val_loss: 1.1417 - val_accuracy: 0.6327\n",
            "Epoch 81/100\n",
            "48/48 [==============================] - 0s 1ms/step - loss: 0.2547 - accuracy: 0.8879 - val_loss: 1.0645 - val_accuracy: 0.6366\n",
            "Epoch 82/100\n",
            "48/48 [==============================] - 0s 1ms/step - loss: 0.2912 - accuracy: 0.8654 - val_loss: 1.0319 - val_accuracy: 0.6092\n",
            "Epoch 83/100\n",
            "48/48 [==============================] - 0s 1ms/step - loss: 0.3231 - accuracy: 0.8458 - val_loss: 0.9728 - val_accuracy: 0.6314\n",
            "Epoch 84/100\n",
            "48/48 [==============================] - 0s 1ms/step - loss: 0.2557 - accuracy: 0.8840 - val_loss: 1.0492 - val_accuracy: 0.6105\n",
            "Epoch 85/100\n",
            "48/48 [==============================] - 0s 1ms/step - loss: 0.2797 - accuracy: 0.8719 - val_loss: 1.0396 - val_accuracy: 0.6405\n",
            "Epoch 86/100\n",
            "48/48 [==============================] - 0s 1ms/step - loss: 0.2583 - accuracy: 0.8807 - val_loss: 1.1076 - val_accuracy: 0.6209\n",
            "Epoch 87/100\n",
            "48/48 [==============================] - 0s 1ms/step - loss: 0.2484 - accuracy: 0.8915 - val_loss: 1.1845 - val_accuracy: 0.6131\n",
            "Epoch 88/100\n",
            "48/48 [==============================] - 0s 1ms/step - loss: 0.2464 - accuracy: 0.8915 - val_loss: 1.1934 - val_accuracy: 0.6144\n",
            "Epoch 89/100\n",
            "48/48 [==============================] - 0s 1ms/step - loss: 0.2517 - accuracy: 0.8817 - val_loss: 1.1366 - val_accuracy: 0.6327\n",
            "Epoch 90/100\n",
            "48/48 [==============================] - 0s 1ms/step - loss: 0.2560 - accuracy: 0.8788 - val_loss: 1.1759 - val_accuracy: 0.6301\n",
            "Epoch 91/100\n",
            "48/48 [==============================] - 0s 1ms/step - loss: 0.2512 - accuracy: 0.8869 - val_loss: 1.2352 - val_accuracy: 0.6275\n",
            "Epoch 92/100\n",
            "48/48 [==============================] - 0s 1ms/step - loss: 0.2516 - accuracy: 0.8882 - val_loss: 1.1215 - val_accuracy: 0.6248\n",
            "Epoch 93/100\n",
            "48/48 [==============================] - 0s 1ms/step - loss: 0.2532 - accuracy: 0.8801 - val_loss: 1.1150 - val_accuracy: 0.6418\n",
            "Epoch 94/100\n",
            "48/48 [==============================] - 0s 1ms/step - loss: 0.2297 - accuracy: 0.8980 - val_loss: 1.2629 - val_accuracy: 0.6131\n",
            "Epoch 95/100\n",
            "48/48 [==============================] - 0s 1ms/step - loss: 0.2522 - accuracy: 0.8794 - val_loss: 1.2118 - val_accuracy: 0.6275\n",
            "Epoch 96/100\n",
            "48/48 [==============================] - 0s 1ms/step - loss: 0.2258 - accuracy: 0.8958 - val_loss: 1.1641 - val_accuracy: 0.6353\n",
            "Epoch 97/100\n",
            "48/48 [==============================] - 0s 1ms/step - loss: 0.2012 - accuracy: 0.9092 - val_loss: 1.2070 - val_accuracy: 0.6248\n",
            "Epoch 98/100\n",
            "48/48 [==============================] - 0s 1ms/step - loss: 0.2152 - accuracy: 0.9036 - val_loss: 1.2400 - val_accuracy: 0.6353\n",
            "Epoch 99/100\n",
            "48/48 [==============================] - 0s 1ms/step - loss: 0.2485 - accuracy: 0.8908 - val_loss: 1.2719 - val_accuracy: 0.6418\n",
            "Epoch 100/100\n",
            "48/48 [==============================] - 0s 1ms/step - loss: 0.2582 - accuracy: 0.8846 - val_loss: 1.3645 - val_accuracy: 0.5882\n"
          ]
        }
      ],
      "source": [
        "# Compile your model to introduce loss function optimizer and metrices to monitor accuracy metric and train on the data\n",
        "# Don't forget to monitor the overfitting, you should take care of val_accuracy and val_loss\n",
        "\n",
        "batch_size = 64\n",
        "epochs = 100\n",
        "\n",
        "model.compile(loss=\"BinaryCrossentropy\", optimizer=\"adam\", metrics=[\"accuracy\"])\n",
        "\n",
        "history = model.fit(train_data, train_labels, batch_size=batch_size, epochs=epochs, shuffle=True, validation_split=0.2)\n",
        "\n"
      ]
    },
    {
      "cell_type": "markdown",
      "metadata": {},
      "source": [
        "### Plot your results"
      ]
    },
    {
      "cell_type": "code",
      "execution_count": 213,
      "metadata": {
        "vscode": {
          "languageId": "python"
        }
      },
      "outputs": [
        {
          "data": {
            "image/png": "[encoded data removed]",
            "text/plain": [
              "<Figure size 432x288 with 1 Axes>"
            ]
          },
          "metadata": {
            "needs_background": "light"
          },
          "output_type": "display_data"
        },
        {
          "data": {
            "image/png": "[encoded data removed]",
            "text/plain": [
              "<Figure size 432x288 with 1 Axes>"
            ]
          },
          "metadata": {
            "needs_background": "light"
          },
          "output_type": "display_data"
        }
      ],
      "source": [
        "# Plot your data\n",
        "\n",
        "import matplotlib.pyplot as plt\n",
        "acc = history.history['accuracy']\n",
        "val_acc = history.history['val_accuracy']\n",
        "loss = history.history['loss']\n",
        "val_loss = history.history['val_loss']\n",
        "\n",
        "epochs = range(len(acc))\n",
        "\n",
        "plt.plot(epochs, acc, 'r', label='Training accuracy')\n",
        "plt.plot(epochs, val_acc, 'b', label='Validation accuracy')\n",
        "plt.title('Training and validation accuracy')\n",
        "plt.legend()\n",
        "\n",
        "plt.figure()\n",
        "\n",
        "plt.plot(epochs, loss, 'r', label='Training Loss')\n",
        "plt.plot(epochs, val_loss, 'b', label='Validation Loss')\n",
        "plt.title('Training and validation loss')\n",
        "plt.legend()\n",
        "\n",
        "plt.show()"
      ]
    },
    {
      "cell_type": "markdown",
      "metadata": {},
      "source": [
        "### Evaluate results"
      ]
    },
    {
      "cell_type": "code",
      "execution_count": 214,
      "metadata": {
        "vscode": {
          "languageId": "python"
        }
      },
      "outputs": [
        {
          "name": "stdout",
          "output_type": "stream",
          "text": [
            "Test loss: 1.4051415920257568\n",
            "Test accuracy: 0.6054902076721191\n"
          ]
        }
      ],
      "source": [
        "# Evaluate your model on the test data\n",
        "\n",
        "\n",
        "score = model.evaluate(\n",
        "    test_data, test_labels, verbose=0\n",
        ")\n",
        "\n",
        "print(\"Test loss:\", score[0])\n",
        "print(\"Test accuracy:\", score[1])\n",
        "\n"
      ]
    },
    {
      "cell_type": "markdown",
      "metadata": {},
      "source": [
        "# Compare your results with and without using agumentation to see the difference"
      ]
    },
    {
      "cell_type": "markdown",
      "metadata": {},
      "source": [
        "## Optional Bonus Activity"
      ]
    },
    {
      "cell_type": "code",
      "execution_count": 345,
      "metadata": {
        "id": "VuifPrHPm40L",
        "vscode": {
          "languageId": "python"
        }
      },
      "outputs": [
        {
          "name": "stdout",
          "output_type": "stream",
          "text": [
            "Found 100 images belonging to 2 classes.\n"
          ]
        }
      ],
      "source": [
        "# Optional\n",
        "\n",
        "# Keras data Augmentation\n",
        "from tensorflow.keras.preprocessing.image import ImageDataGenerator\n",
        "\n",
        "\n",
        "train_datagen = ImageDataGenerator(\n",
        "    rescale=1./255,\n",
        "    rotation_range=20,\n",
        "    width_shift_range=0.1,\n",
        "    height_shift_range=0.1,\n",
        "    shear_range=0.2,\n",
        "    zoom_range=0.2,\n",
        "    horizontal_flip=True,)\n",
        "\n",
        "# Flow training images in batches of 32 using train_datagen generator\n",
        "train_generator = train_datagen.flow_from_directory(\n",
        "        'HW/train/',  # This is the source directory for training images\n",
        "        target_size=(150, 150),  # All images will be resized to 150x150\n",
        "        batch_size=1,\n",
        "        # Since we use binary_crossentropy loss, we need binary labels\n",
        "        class_mode='binary')\n"
      ]
    },
    {
      "cell_type": "code",
      "execution_count": 327,
      "metadata": {
        "vscode": {
          "languageId": "python"
        }
      },
      "outputs": [],
      "source": [
        "from tensorflow.keras import layers\n",
        "from tensorflow.keras import Model\n",
        "from tensorflow.keras import optimizers\n",
        "\n",
        "img_input = layers.Input(shape=(150, 150, 3))\n",
        "\n",
        "x = layers.Conv2D(32, 3, activation='relu')(img_input) \n",
        "x = layers.MaxPooling2D(2)(x)\n",
        "\n",
        "x = layers.Conv2D(64, 3, activation='relu')(x) \n",
        "x = layers.MaxPooling2D(2)(x)\n",
        "\n",
        "x = layers.Convolution2D(128, 3, activation='relu')(x) \n",
        "x = layers.MaxPooling2D(2)(x)\n",
        "\n",
        "x = layers.Flatten()(x)\n",
        "\n",
        "x = layers.Dense(512, activation='relu')(x) \n",
        "\n",
        "x = layers.Dropout(0.2)(x)\n",
        "\n",
        "output = layers.Dense(1, activation=\"sigmoid\")(x)\n",
        "\n",
        "model = Model(img_input, output)\n",
        "model.compile(loss=\"BinaryCrossentropy\", optimizer=\"adam\", metrics=[\"accuracy\"])"
      ]
    },
    {
      "cell_type": "code",
      "execution_count": 322,
      "metadata": {
        "vscode": {
          "languageId": "python"
        }
      },
      "outputs": [],
      "source": [
        "def load_images_from_folder(folder):\n",
        "    images = []\n",
        "    labels = []\n",
        "    for filename in os.listdir(folder):\n",
        "        path = os.path.join(folder,filename)\n",
        "        if \"cat\" in path:\n",
        "            labels.append(1)\n",
        "        else:\n",
        "            labels.append(0)\n",
        "        img = cv2.imread(path)\n",
        "        if img is not None:\n",
        "            images.append(img)\n",
        "    return images, labels\n",
        "\n",
        "images, labels = load_images_from_folder(\"HW/test\")"
      ]
    },
    {
      "cell_type": "code",
      "execution_count": 328,
      "metadata": {
        "vscode": {
          "languageId": "python"
        }
      },
      "outputs": [
        {
          "name": "stdout",
          "output_type": "stream",
          "text": [
            "Epoch 1/5\n",
            "100/100 [==============================] - 7s 63ms/step - loss: 0.0067 - accuracy: 1.0000\n",
            "Epoch 2/5\n",
            "100/100 [==============================] - 6s 62ms/step - loss: 0.0000e+00 - accuracy: 1.0000\n",
            "Epoch 3/5\n",
            "100/100 [==============================] - 6s 62ms/step - loss: 0.0000e+00 - accuracy: 1.0000\n",
            "Epoch 4/5\n",
            "100/100 [==============================] - 6s 63ms/step - loss: 0.0000e+00 - accuracy: 1.0000\n",
            "Epoch 5/5\n",
            "100/100 [==============================] - 6s 63ms/step - loss: 0.0000e+00 - accuracy: 1.0000\n"
          ]
        }
      ],
      "source": [
        "batch_size = 64\n",
        "epochs = 5\n",
        "\n",
        "model.compile(loss=\"BinaryCrossentropy\", optimizer=\"adam\", metrics=[\"accuracy\"])\n",
        "\n",
        "history = model.fit(train_generator, batch_size=batch_size, epochs=epochs, shuffle=True)"
      ]
    },
    {
      "cell_type": "code",
      "execution_count": 335,
      "metadata": {
        "vscode": {
          "languageId": "python"
        }
      },
      "outputs": [
        {
          "name": "stdout",
          "output_type": "stream",
          "text": [
            "Found 12 images belonging to 2 classes.\n"
          ]
        }
      ],
      "source": [
        "test_datagen = ImageDataGenerator()\n",
        "\n",
        "# Flow training images in batches of 32 using train_datagen generator\n",
        "test_generator = test_datagen.flow_from_directory(\n",
        "        'HW/test',  # This is the source directory for training images\n",
        "        target_size=(150, 150),  # All images will be resized to 150x150\n",
        "        batch_size=1,\n",
        "        # Since we use binary_crossentropy loss, we need binary labels\n",
        "        class_mode='binary')"
      ]
    },
    {
      "cell_type": "code",
      "execution_count": 336,
      "metadata": {
        "vscode": {
          "languageId": "python"
        }
      },
      "outputs": [
        {
          "name": "stdout",
          "output_type": "stream",
          "text": [
            "Test loss: 0.0\n",
            "Test accuracy: 1.0\n"
          ]
        }
      ],
      "source": [
        "score = model.evaluate(\n",
        "    test_generator, verbose=0\n",
        ")\n",
        "\n",
        "print(\"Test loss:\", score[0])\n",
        "print(\"Test accuracy:\", score[1])\n"
      ]
    },
    {
      "cell_type": "code",
      "execution_count": 346,
      "metadata": {
        "vscode": {
          "languageId": "python"
        }
      },
      "outputs": [],
      "source": [
        "images=[]\n",
        "labels=[]\n",
        "for counter in range(100):\n",
        "    images.append(train_generator[counter][0])\n",
        "    labels.append(train_generator[counter][1])"
      ]
    },
    {
      "cell_type": "code",
      "execution_count": 360,
      "metadata": {
        "vscode": {
          "languageId": "python"
        }
      },
      "outputs": [
        {
          "name": "stdout",
          "output_type": "stream",
          "text": [
            "lebels shape: (100, 1)\n",
            "images shape: (100, 2352)\n"
          ]
        }
      ],
      "source": [
        "for counter in range(len(images)):\n",
        "    images[counter] = images[counter]/255\n",
        "\n",
        "for counter in range(len(images)):\n",
        "    images[counter] = cv2.resize(images[counter][0], (28 , 28), interpolation = cv2.INTER_AREA)\n",
        "\n",
        "for counter in range(len(images)):\n",
        "    images[counter] = images[counter].flatten()\n",
        "\n",
        "images_np = np.asarray(images, dtype=np.float32)\n",
        "lebels_np = np.asarray(labels, dtype=np.float32)\n",
        "\n",
        "print(\"lebels shape: \"+str(lebels_np.shape))\n",
        "print(\"images shape: \"+str(images_np.shape))\n",
        "\n"
      ]
    },
    {
      "cell_type": "code",
      "execution_count": 361,
      "metadata": {
        "vscode": {
          "languageId": "python"
        }
      },
      "outputs": [
        {
          "name": "stdout",
          "output_type": "stream",
          "text": [
            "Epoch 1/100\n",
            "1/1 [==============================] - 0s 322ms/step - loss: 0.6931 - accuracy: 0.0000e+00 - val_loss: 0.6902 - val_accuracy: 1.0000\n",
            "Epoch 2/100\n",
            "1/1 [==============================] - 0s 13ms/step - loss: 0.6902 - accuracy: 1.0000 - val_loss: 0.6865 - val_accuracy: 1.0000\n",
            "Epoch 3/100\n",
            "1/1 [==============================] - 0s 12ms/step - loss: 0.6865 - accuracy: 1.0000 - val_loss: 0.6830 - val_accuracy: 1.0000\n",
            "Epoch 4/100\n",
            "1/1 [==============================] - 0s 12ms/step - loss: 0.6830 - accuracy: 1.0000 - val_loss: 0.6793 - val_accuracy: 1.0000\n",
            "Epoch 5/100\n",
            "1/1 [==============================] - 0s 12ms/step - loss: 0.6793 - accuracy: 1.0000 - val_loss: 0.6754 - val_accuracy: 1.0000\n",
            "Epoch 6/100\n",
            "1/1 [==============================] - 0s 12ms/step - loss: 0.6754 - accuracy: 1.0000 - val_loss: 0.6713 - val_accuracy: 1.0000\n",
            "Epoch 7/100\n",
            "1/1 [==============================] - 0s 12ms/step - loss: 0.6713 - accuracy: 1.0000 - val_loss: 0.6672 - val_accuracy: 1.0000\n",
            "Epoch 8/100\n",
            "1/1 [==============================] - 0s 12ms/step - loss: 0.6672 - accuracy: 1.0000 - val_loss: 0.6628 - val_accuracy: 1.0000\n",
            "Epoch 9/100\n",
            "1/1 [==============================] - 0s 12ms/step - loss: 0.6628 - accuracy: 1.0000 - val_loss: 0.6583 - val_accuracy: 1.0000\n",
            "Epoch 10/100\n",
            "1/1 [==============================] - 0s 12ms/step - loss: 0.6583 - accuracy: 1.0000 - val_loss: 0.6536 - val_accuracy: 1.0000\n",
            "Epoch 11/100\n",
            "1/1 [==============================] - 0s 12ms/step - loss: 0.6536 - accuracy: 1.0000 - val_loss: 0.6486 - val_accuracy: 1.0000\n",
            "Epoch 12/100\n",
            "1/1 [==============================] - 0s 12ms/step - loss: 0.6486 - accuracy: 1.0000 - val_loss: 0.6435 - val_accuracy: 1.0000\n",
            "Epoch 13/100\n",
            "1/1 [==============================] - 0s 13ms/step - loss: 0.6435 - accuracy: 1.0000 - val_loss: 0.6381 - val_accuracy: 1.0000\n",
            "Epoch 14/100\n",
            "1/1 [==============================] - 0s 13ms/step - loss: 0.6381 - accuracy: 1.0000 - val_loss: 0.6326 - val_accuracy: 1.0000\n",
            "Epoch 15/100\n",
            "1/1 [==============================] - 0s 12ms/step - loss: 0.6326 - accuracy: 1.0000 - val_loss: 0.6268 - val_accuracy: 1.0000\n",
            "Epoch 16/100\n",
            "1/1 [==============================] - 0s 13ms/step - loss: 0.6268 - accuracy: 1.0000 - val_loss: 0.6207 - val_accuracy: 1.0000\n",
            "Epoch 17/100\n",
            "1/1 [==============================] - 0s 16ms/step - loss: 0.6207 - accuracy: 1.0000 - val_loss: 0.6144 - val_accuracy: 1.0000\n",
            "Epoch 18/100\n",
            "1/1 [==============================] - 0s 16ms/step - loss: 0.6144 - accuracy: 1.0000 - val_loss: 0.6078 - val_accuracy: 1.0000\n",
            "Epoch 19/100\n",
            "1/1 [==============================] - 0s 16ms/step - loss: 0.6078 - accuracy: 1.0000 - val_loss: 0.6009 - val_accuracy: 1.0000\n",
            "Epoch 20/100\n",
            "1/1 [==============================] - 0s 16ms/step - loss: 0.6009 - accuracy: 1.0000 - val_loss: 0.5938 - val_accuracy: 1.0000\n",
            "Epoch 21/100\n",
            "1/1 [==============================] - 0s 16ms/step - loss: 0.5938 - accuracy: 1.0000 - val_loss: 0.5863 - val_accuracy: 1.0000\n",
            "Epoch 22/100\n",
            "1/1 [==============================] - 0s 15ms/step - loss: 0.5863 - accuracy: 1.0000 - val_loss: 0.5785 - val_accuracy: 1.0000\n",
            "Epoch 23/100\n",
            "1/1 [==============================] - 0s 12ms/step - loss: 0.5785 - accuracy: 1.0000 - val_loss: 0.5704 - val_accuracy: 1.0000\n",
            "Epoch 24/100\n",
            "1/1 [==============================] - 0s 11ms/step - loss: 0.5704 - accuracy: 1.0000 - val_loss: 0.5620 - val_accuracy: 1.0000\n",
            "Epoch 25/100\n",
            "1/1 [==============================] - 0s 11ms/step - loss: 0.5620 - accuracy: 1.0000 - val_loss: 0.5532 - val_accuracy: 1.0000\n",
            "Epoch 26/100\n",
            "1/1 [==============================] - 0s 11ms/step - loss: 0.5532 - accuracy: 1.0000 - val_loss: 0.5441 - val_accuracy: 1.0000\n",
            "Epoch 27/100\n",
            "1/1 [==============================] - 0s 11ms/step - loss: 0.5441 - accuracy: 1.0000 - val_loss: 0.5346 - val_accuracy: 1.0000\n",
            "Epoch 28/100\n",
            "1/1 [==============================] - 0s 11ms/step - loss: 0.5346 - accuracy: 1.0000 - val_loss: 0.5248 - val_accuracy: 1.0000\n",
            "Epoch 29/100\n",
            "1/1 [==============================] - 0s 12ms/step - loss: 0.5248 - accuracy: 1.0000 - val_loss: 0.5146 - val_accuracy: 1.0000\n",
            "Epoch 30/100\n",
            "1/1 [==============================] - 0s 13ms/step - loss: 0.5146 - accuracy: 1.0000 - val_loss: 0.5042 - val_accuracy: 1.0000\n",
            "Epoch 31/100\n",
            "1/1 [==============================] - 0s 12ms/step - loss: 0.5042 - accuracy: 1.0000 - val_loss: 0.4934 - val_accuracy: 1.0000\n",
            "Epoch 32/100\n",
            "1/1 [==============================] - 0s 12ms/step - loss: 0.4934 - accuracy: 1.0000 - val_loss: 0.4822 - val_accuracy: 1.0000\n",
            "Epoch 33/100\n",
            "1/1 [==============================] - 0s 12ms/step - loss: 0.4822 - accuracy: 1.0000 - val_loss: 0.4708 - val_accuracy: 1.0000\n",
            "Epoch 34/100\n",
            "1/1 [==============================] - 0s 13ms/step - loss: 0.4708 - accuracy: 1.0000 - val_loss: 0.4590 - val_accuracy: 1.0000\n",
            "Epoch 35/100\n",
            "1/1 [==============================] - 0s 12ms/step - loss: 0.4590 - accuracy: 1.0000 - val_loss: 0.4470 - val_accuracy: 1.0000\n",
            "Epoch 36/100\n",
            "1/1 [==============================] - 0s 11ms/step - loss: 0.4470 - accuracy: 1.0000 - val_loss: 0.4345 - val_accuracy: 1.0000\n",
            "Epoch 37/100\n",
            "1/1 [==============================] - 0s 11ms/step - loss: 0.4345 - accuracy: 1.0000 - val_loss: 0.4219 - val_accuracy: 1.0000\n",
            "Epoch 38/100\n",
            "1/1 [==============================] - 0s 11ms/step - loss: 0.4219 - accuracy: 1.0000 - val_loss: 0.4090 - val_accuracy: 1.0000\n",
            "Epoch 39/100\n",
            "1/1 [==============================] - 0s 11ms/step - loss: 0.4090 - accuracy: 1.0000 - val_loss: 0.3960 - val_accuracy: 1.0000\n",
            "Epoch 40/100\n",
            "1/1 [==============================] - 0s 11ms/step - loss: 0.3960 - accuracy: 1.0000 - val_loss: 0.3827 - val_accuracy: 1.0000\n",
            "Epoch 41/100\n",
            "1/1 [==============================] - 0s 11ms/step - loss: 0.3827 - accuracy: 1.0000 - val_loss: 0.3692 - val_accuracy: 1.0000\n",
            "Epoch 42/100\n",
            "1/1 [==============================] - 0s 11ms/step - loss: 0.3692 - accuracy: 1.0000 - val_loss: 0.3556 - val_accuracy: 1.0000\n",
            "Epoch 43/100\n",
            "1/1 [==============================] - 0s 11ms/step - loss: 0.3556 - accuracy: 1.0000 - val_loss: 0.3418 - val_accuracy: 1.0000\n",
            "Epoch 44/100\n",
            "1/1 [==============================] - 0s 11ms/step - loss: 0.3418 - accuracy: 1.0000 - val_loss: 0.3280 - val_accuracy: 1.0000\n",
            "Epoch 45/100\n",
            "1/1 [==============================] - 0s 11ms/step - loss: 0.3280 - accuracy: 1.0000 - val_loss: 0.3142 - val_accuracy: 1.0000\n",
            "Epoch 46/100\n",
            "1/1 [==============================] - 0s 11ms/step - loss: 0.3142 - accuracy: 1.0000 - val_loss: 0.3004 - val_accuracy: 1.0000\n",
            "Epoch 47/100\n",
            "1/1 [==============================] - 0s 11ms/step - loss: 0.3004 - accuracy: 1.0000 - val_loss: 0.2866 - val_accuracy: 1.0000\n",
            "Epoch 48/100\n",
            "1/1 [==============================] - 0s 11ms/step - loss: 0.2866 - accuracy: 1.0000 - val_loss: 0.2730 - val_accuracy: 1.0000\n",
            "Epoch 49/100\n",
            "1/1 [==============================] - 0s 12ms/step - loss: 0.2730 - accuracy: 1.0000 - val_loss: 0.2595 - val_accuracy: 1.0000\n",
            "Epoch 50/100\n",
            "1/1 [==============================] - 0s 11ms/step - loss: 0.2595 - accuracy: 1.0000 - val_loss: 0.2461 - val_accuracy: 1.0000\n",
            "Epoch 51/100\n",
            "1/1 [==============================] - 0s 11ms/step - loss: 0.2461 - accuracy: 1.0000 - val_loss: 0.2330 - val_accuracy: 1.0000\n",
            "Epoch 52/100\n",
            "1/1 [==============================] - 0s 11ms/step - loss: 0.2330 - accuracy: 1.0000 - val_loss: 0.2201 - val_accuracy: 1.0000\n",
            "Epoch 53/100\n",
            "1/1 [==============================] - 0s 11ms/step - loss: 0.2201 - accuracy: 1.0000 - val_loss: 0.2076 - val_accuracy: 1.0000\n",
            "Epoch 54/100\n",
            "1/1 [==============================] - 0s 11ms/step - loss: 0.2076 - accuracy: 1.0000 - val_loss: 0.1954 - val_accuracy: 1.0000\n",
            "Epoch 55/100\n",
            "1/1 [==============================] - 0s 11ms/step - loss: 0.1954 - accuracy: 1.0000 - val_loss: 0.1836 - val_accuracy: 1.0000\n",
            "Epoch 56/100\n",
            "1/1 [==============================] - 0s 11ms/step - loss: 0.1836 - accuracy: 1.0000 - val_loss: 0.1722 - val_accuracy: 1.0000\n",
            "Epoch 57/100\n",
            "1/1 [==============================] - 0s 11ms/step - loss: 0.1722 - accuracy: 1.0000 - val_loss: 0.1612 - val_accuracy: 1.0000\n",
            "Epoch 58/100\n",
            "1/1 [==============================] - 0s 13ms/step - loss: 0.1612 - accuracy: 1.0000 - val_loss: 0.1507 - val_accuracy: 1.0000\n",
            "Epoch 59/100\n",
            "1/1 [==============================] - 0s 13ms/step - loss: 0.1507 - accuracy: 1.0000 - val_loss: 0.1407 - val_accuracy: 1.0000\n",
            "Epoch 60/100\n",
            "1/1 [==============================] - 0s 12ms/step - loss: 0.1407 - accuracy: 1.0000 - val_loss: 0.1311 - val_accuracy: 1.0000\n",
            "Epoch 61/100\n",
            "1/1 [==============================] - 0s 13ms/step - loss: 0.1311 - accuracy: 1.0000 - val_loss: 0.1221 - val_accuracy: 1.0000\n",
            "Epoch 62/100\n",
            "1/1 [==============================] - 0s 13ms/step - loss: 0.1221 - accuracy: 1.0000 - val_loss: 0.1135 - val_accuracy: 1.0000\n",
            "Epoch 63/100\n",
            "1/1 [==============================] - 0s 12ms/step - loss: 0.1135 - accuracy: 1.0000 - val_loss: 0.1055 - val_accuracy: 1.0000\n",
            "Epoch 64/100\n",
            "1/1 [==============================] - 0s 11ms/step - loss: 0.1055 - accuracy: 1.0000 - val_loss: 0.0979 - val_accuracy: 1.0000\n",
            "Epoch 65/100\n",
            "1/1 [==============================] - 0s 11ms/step - loss: 0.0979 - accuracy: 1.0000 - val_loss: 0.0908 - val_accuracy: 1.0000\n",
            "Epoch 66/100\n",
            "1/1 [==============================] - 0s 11ms/step - loss: 0.0908 - accuracy: 1.0000 - val_loss: 0.0842 - val_accuracy: 1.0000\n",
            "Epoch 67/100\n",
            "1/1 [==============================] - 0s 11ms/step - loss: 0.0842 - accuracy: 1.0000 - val_loss: 0.0780 - val_accuracy: 1.0000\n",
            "Epoch 68/100\n",
            "1/1 [==============================] - 0s 11ms/step - loss: 0.0780 - accuracy: 1.0000 - val_loss: 0.0723 - val_accuracy: 1.0000\n",
            "Epoch 69/100\n",
            "1/1 [==============================] - 0s 11ms/step - loss: 0.0723 - accuracy: 1.0000 - val_loss: 0.0670 - val_accuracy: 1.0000\n",
            "Epoch 70/100\n",
            "1/1 [==============================] - 0s 11ms/step - loss: 0.0670 - accuracy: 1.0000 - val_loss: 0.0621 - val_accuracy: 1.0000\n",
            "Epoch 71/100\n",
            "1/1 [==============================] - 0s 11ms/step - loss: 0.0621 - accuracy: 1.0000 - val_loss: 0.0576 - val_accuracy: 1.0000\n",
            "Epoch 72/100\n",
            "1/1 [==============================] - 0s 11ms/step - loss: 0.0576 - accuracy: 1.0000 - val_loss: 0.0535 - val_accuracy: 1.0000\n",
            "Epoch 73/100\n",
            "1/1 [==============================] - 0s 11ms/step - loss: 0.0535 - accuracy: 1.0000 - val_loss: 0.0496 - val_accuracy: 1.0000\n",
            "Epoch 74/100\n",
            "1/1 [==============================] - 0s 11ms/step - loss: 0.0496 - accuracy: 1.0000 - val_loss: 0.0461 - val_accuracy: 1.0000\n",
            "Epoch 75/100\n",
            "1/1 [==============================] - 0s 11ms/step - loss: 0.0461 - accuracy: 1.0000 - val_loss: 0.0429 - val_accuracy: 1.0000\n",
            "Epoch 76/100\n",
            "1/1 [==============================] - 0s 11ms/step - loss: 0.0429 - accuracy: 1.0000 - val_loss: 0.0399 - val_accuracy: 1.0000\n",
            "Epoch 77/100\n",
            "1/1 [==============================] - 0s 11ms/step - loss: 0.0399 - accuracy: 1.0000 - val_loss: 0.0372 - val_accuracy: 1.0000\n",
            "Epoch 78/100\n",
            "1/1 [==============================] - 0s 11ms/step - loss: 0.0372 - accuracy: 1.0000 - val_loss: 0.0347 - val_accuracy: 1.0000\n",
            "Epoch 79/100\n",
            "1/1 [==============================] - 0s 11ms/step - loss: 0.0347 - accuracy: 1.0000 - val_loss: 0.0324 - val_accuracy: 1.0000\n",
            "Epoch 80/100\n",
            "1/1 [==============================] - 0s 11ms/step - loss: 0.0324 - accuracy: 1.0000 - val_loss: 0.0303 - val_accuracy: 1.0000\n",
            "Epoch 81/100\n",
            "1/1 [==============================] - 0s 11ms/step - loss: 0.0303 - accuracy: 1.0000 - val_loss: 0.0284 - val_accuracy: 1.0000\n",
            "Epoch 82/100\n",
            "1/1 [==============================] - 0s 11ms/step - loss: 0.0284 - accuracy: 1.0000 - val_loss: 0.0266 - val_accuracy: 1.0000\n",
            "Epoch 83/100\n",
            "1/1 [==============================] - 0s 11ms/step - loss: 0.0266 - accuracy: 1.0000 - val_loss: 0.0250 - val_accuracy: 1.0000\n",
            "Epoch 84/100\n",
            "1/1 [==============================] - 0s 11ms/step - loss: 0.0250 - accuracy: 1.0000 - val_loss: 0.0235 - val_accuracy: 1.0000\n",
            "Epoch 85/100\n",
            "1/1 [==============================] - 0s 12ms/step - loss: 0.0235 - accuracy: 1.0000 - val_loss: 0.0221 - val_accuracy: 1.0000\n",
            "Epoch 86/100\n",
            "1/1 [==============================] - 0s 12ms/step - loss: 0.0221 - accuracy: 1.0000 - val_loss: 0.0209 - val_accuracy: 1.0000\n",
            "Epoch 87/100\n",
            "1/1 [==============================] - 0s 13ms/step - loss: 0.0209 - accuracy: 1.0000 - val_loss: 0.0197 - val_accuracy: 1.0000\n",
            "Epoch 88/100\n",
            "1/1 [==============================] - 0s 12ms/step - loss: 0.0197 - accuracy: 1.0000 - val_loss: 0.0187 - val_accuracy: 1.0000\n",
            "Epoch 89/100\n",
            "1/1 [==============================] - 0s 13ms/step - loss: 0.0187 - accuracy: 1.0000 - val_loss: 0.0177 - val_accuracy: 1.0000\n",
            "Epoch 90/100\n",
            "1/1 [==============================] - 0s 14ms/step - loss: 0.0177 - accuracy: 1.0000 - val_loss: 0.0168 - val_accuracy: 1.0000\n",
            "Epoch 91/100\n",
            "1/1 [==============================] - 0s 14ms/step - loss: 0.0168 - accuracy: 1.0000 - val_loss: 0.0160 - val_accuracy: 1.0000\n",
            "Epoch 92/100\n",
            "1/1 [==============================] - 0s 14ms/step - loss: 0.0160 - accuracy: 1.0000 - val_loss: 0.0152 - val_accuracy: 1.0000\n",
            "Epoch 93/100\n",
            "1/1 [==============================] - 0s 14ms/step - loss: 0.0152 - accuracy: 1.0000 - val_loss: 0.0145 - val_accuracy: 1.0000\n",
            "Epoch 94/100\n",
            "1/1 [==============================] - 0s 14ms/step - loss: 0.0145 - accuracy: 1.0000 - val_loss: 0.0138 - val_accuracy: 1.0000\n",
            "Epoch 95/100\n",
            "1/1 [==============================] - 0s 13ms/step - loss: 0.0138 - accuracy: 1.0000 - val_loss: 0.0132 - val_accuracy: 1.0000\n",
            "Epoch 96/100\n",
            "1/1 [==============================] - 0s 13ms/step - loss: 0.0132 - accuracy: 1.0000 - val_loss: 0.0126 - val_accuracy: 1.0000\n",
            "Epoch 97/100\n",
            "1/1 [==============================] - 0s 13ms/step - loss: 0.0126 - accuracy: 1.0000 - val_loss: 0.0121 - val_accuracy: 1.0000\n",
            "Epoch 98/100\n",
            "1/1 [==============================] - 0s 14ms/step - loss: 0.0121 - accuracy: 1.0000 - val_loss: 0.0116 - val_accuracy: 1.0000\n",
            "Epoch 99/100\n",
            "1/1 [==============================] - 0s 14ms/step - loss: 0.0116 - accuracy: 1.0000 - val_loss: 0.0112 - val_accuracy: 1.0000\n",
            "Epoch 100/100\n",
            "1/1 [==============================] - 0s 14ms/step - loss: 0.0112 - accuracy: 1.0000 - val_loss: 0.0107 - val_accuracy: 1.0000\n",
            "Test loss: 0.010720464400947094\n",
            "Test accuracy: 1.0\n"
          ]
        },
        {
          "data": {
            "image/png": "[encoded data removed]",
            "text/plain": [
              "<Figure size 432x288 with 1 Axes>"
            ]
          },
          "metadata": {
            "needs_background": "light"
          },
          "output_type": "display_data"
        },
        {
          "data": {
            "image/png": "[encoded data removed]",
            "text/plain": [
              "<Figure size 432x288 with 1 Axes>"
            ]
          },
          "metadata": {
            "needs_background": "light"
          },
          "output_type": "display_data"
        }
      ],
      "source": [
        "model = keras.Sequential(name=\"Aug\")\n",
        "model.add(layers.Dense(100, activation=\"relu\", name=\"hidden1\"))\n",
        "model.add(layers.Dense(50, activation=\"relu\", name=\"hidden2\"))\n",
        "model.add(layers.Dense(20, activation=\"relu\", name=\"hidden3\"))\n",
        "model.add(layers.Dense(1, activation=\"sigmoid\", name=\"out\"))\n",
        "\n",
        "from sklearn.model_selection import train_test_split\n",
        "\n",
        "train_data, test_data, train_labels, test_labels = train_test_split(images_np, lebels_np)\n",
        "batch_size = 64\n",
        "epochs = 100\n",
        "\n",
        "model.compile(loss=\"BinaryCrossentropy\", optimizer=\"adam\", metrics=[\"accuracy\"])\n",
        "\n",
        "history = model.fit(train_data, train_labels, batch_size=batch_size, epochs=epochs, shuffle=True, validation_split=0.2)\n",
        "\n",
        "import matplotlib.pyplot as plt\n",
        "acc = history.history['accuracy']\n",
        "val_acc = history.history['val_accuracy']\n",
        "loss = history.history['loss']\n",
        "val_loss = history.history['val_loss']\n",
        "\n",
        "epochs = range(len(acc))\n",
        "\n",
        "plt.plot(epochs, acc, 'r', label='Training accuracy')\n",
        "plt.plot(epochs, val_acc, 'b', label='Validation accuracy')\n",
        "plt.title('Training and validation accuracy')\n",
        "plt.legend()\n",
        "\n",
        "plt.figure()\n",
        "\n",
        "plt.plot(epochs, loss, 'r', label='Training Loss')\n",
        "plt.plot(epochs, val_loss, 'b', label='Validation Loss')\n",
        "plt.title('Training and validation loss')\n",
        "plt.legend()\n",
        "\n",
        "\n",
        "score = model.evaluate(\n",
        "    test_data, test_labels, verbose=0\n",
        ")\n",
        "\n",
        "print(\"Test loss:\", score[0])\n",
        "print(\"Test accuracy:\", score[1])\n",
        "plt.show()"
      ]
    }
  ],
  "metadata": {
    "colab": {
      "collapsed_sections": [],
      "provenance": []
    },
    "kernelspec": {
      "display_name": "Python 3",
      "language": "python",
      "name": "python3"
    },
    "vscode": {
      "interpreter": {
        "hash": "9787c3b6c284d730138f90a1bc0a4eeaaa4717a3b5f24e37908c0b0c62a2d0bc"
      }
    }
  },
  "nbformat": 4,
  "nbformat_minor": 0
}
