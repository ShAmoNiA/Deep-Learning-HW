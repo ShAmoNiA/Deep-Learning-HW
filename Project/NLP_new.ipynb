{
  "cells": [
    {
      "cell_type": "code",
      "execution_count": 161,
      "metadata": {},
      "outputs": [],
      "source": [
        "import pandas as pd\n",
        "import numpy as np\n",
        "import matplotlib.pyplot as plt\n",
        "import seaborn as sns\n",
        "from sklearn.model_selection import train_test_split\n",
        "from sklearn.preprocessing import LabelEncoder\n",
        "from keras.models import Model\n",
        "from keras.layers import LSTM, Activation, Dense, Dropout, Input, Embedding\n",
        "from tensorflow.keras.optimizers import RMSprop\n",
        "from keras.preprocessing.text import Tokenizer\n",
        "from keras.preprocessing import sequence\n",
        "from tensorflow.keras.utils import to_categorical\n",
        "from keras.callbacks import EarlyStopping\n",
        "from transformers import AutoConfig, AutoTokenizer, AutoModel, TFAutoModel, pipeline\n",
        "import math\n",
        "from keras import backend as K\n",
        "from tensorflow.keras.optimizers import Adam"
      ]
    },
    {
      "cell_type": "code",
      "execution_count": 162,
      "metadata": {},
      "outputs": [],
      "source": [
        "%matplotlib inline"
      ]
    },
    {
      "attachments": {},
      "cell_type": "markdown",
      "metadata": {},
      "source": [
        "## load Data\n",
        "First, we need to load our data set from the xlxs file. Simply, by using the panda library we can extract all of the text and data from it."
      ]
    },
    {
      "cell_type": "code",
      "execution_count": 163,
      "metadata": {
        "colab": {
          "base_uri": "https://localhost:8080/",
          "height": 523
        },
        "id": "FrMB8Emj_DPR",
        "outputId": "5acffb99-1bbc-48e1-bdeb-10072a4e3ef4"
      },
      "outputs": [
        {
          "data": {
            "text/html": [
              "<div>\n",
              "<style scoped>\n",
              "    .dataframe tbody tr th:only-of-type {\n",
              "        vertical-align: middle;\n",
              "    }\n",
              "\n",
              "    .dataframe tbody tr th {\n",
              "        vertical-align: top;\n",
              "    }\n",
              "\n",
              "    .dataframe thead th {\n",
              "        text-align: right;\n",
              "    }\n",
              "</style>\n",
              "<table border=\"1\" class=\"dataframe\">\n",
              "  <thead>\n",
              "    <tr style=\"text-align: right;\">\n",
              "      <th></th>\n",
              "      <th>question</th>\n",
              "      <th>answer</th>\n",
              "    </tr>\n",
              "  </thead>\n",
              "  <tbody>\n",
              "    <tr>\n",
              "      <th>0</th>\n",
              "      <td>چگونه می توان از موفقیت آمیز بودن خرید اینترنت...</td>\n",
              "      <td>پس ‎‎‎‎‎‎‎‎‎‎‎‎‎از انجام خرید سیم کارت از طریق...</td>\n",
              "    </tr>\n",
              "    <tr>\n",
              "      <th>1</th>\n",
              "      <td>چگونه باید از موفقیت آمیز بودن خرید اینترنتی ه...</td>\n",
              "      <td>پس ‎‎‎‎‎‎‎‎‎‎‎‎‎از انجام خرید سیم کارت از طریق...</td>\n",
              "    </tr>\n",
              "    <tr>\n",
              "      <th>2</th>\n",
              "      <td>از چه راهی باید وضعیت خرید اینترنتی را مشاهده ...</td>\n",
              "      <td>پس ‎‎‎‎‎‎‎‎‎‎‎‎‎از انجام خرید سیم کارت از طریق...</td>\n",
              "    </tr>\n",
              "    <tr>\n",
              "      <th>3</th>\n",
              "      <td>روشی که می‌توان مطمئن شد خرید اینترنتی به درست...</td>\n",
              "      <td>پس ‎‎‎‎‎‎‎‎‎‎‎‎‎از انجام خرید سیم کارت از طریق...</td>\n",
              "    </tr>\n",
              "    <tr>\n",
              "      <th>4</th>\n",
              "      <td>برای این‌که مطمئن بشیم که خرید اینترنتی به درس...</td>\n",
              "      <td>پس ‎‎‎‎‎‎‎‎‎‎‎‎‎از انجام خرید سیم کارت از طریق...</td>\n",
              "    </tr>\n",
              "  </tbody>\n",
              "</table>\n",
              "</div>"
            ],
            "text/plain": [
              "                                            question  \\\n",
              "0  چگونه می توان از موفقیت آمیز بودن خرید اینترنت...   \n",
              "1  چگونه باید از موفقیت آمیز بودن خرید اینترنتی ه...   \n",
              "2  از چه راهی باید وضعیت خرید اینترنتی را مشاهده ...   \n",
              "3  روشی که می‌توان مطمئن شد خرید اینترنتی به درست...   \n",
              "4  برای این‌که مطمئن بشیم که خرید اینترنتی به درس...   \n",
              "\n",
              "                                              answer  \n",
              "0  پس ‎‎‎‎‎‎‎‎‎‎‎‎‎از انجام خرید سیم کارت از طریق...  \n",
              "1  پس ‎‎‎‎‎‎‎‎‎‎‎‎‎از انجام خرید سیم کارت از طریق...  \n",
              "2  پس ‎‎‎‎‎‎‎‎‎‎‎‎‎از انجام خرید سیم کارت از طریق...  \n",
              "3  پس ‎‎‎‎‎‎‎‎‎‎‎‎‎از انجام خرید سیم کارت از طریق...  \n",
              "4  پس ‎‎‎‎‎‎‎‎‎‎‎‎‎از انجام خرید سیم کارت از طریق...  "
            ]
          },
          "execution_count": 163,
          "metadata": {},
          "output_type": "execute_result"
        }
      ],
      "source": [
        "csvFile = 'HW/Extension1.xlsx'\n",
        "df = pd.read_excel(csvFile, engine='openpyxl',)\n",
        "df.head()"
      ]
    },
    {
      "attachments": {},
      "cell_type": "markdown",
      "metadata": {},
      "source": [
        "After that, by looking at our answers(labels), we can find out we need to change the form of all of them. easiest way is changing them by a number.\n",
        "\n"
      ]
    },
    {
      "cell_type": "code",
      "execution_count": 164,
      "metadata": {},
      "outputs": [],
      "source": [
        "labels = {} \n",
        "counter = 0\n",
        "for count in range(len(df.answer)):\n",
        "    if df.answer[count] == df.answer[count]:\n",
        "        if df.answer[count] not in labels.values(): \n",
        "            labels[counter] = df.answer[count]\n",
        "            counter +=1\n",
        "        df.answer[count] = counter\n",
        "    "
      ]
    },
    {
      "attachments": {},
      "cell_type": "markdown",
      "metadata": {},
      "source": [
        "\n",
        "\n",
        "We had some col in our xlx file which had Null value; For training in best form, we need to remove all of them.\n",
        "\n",
        "\n"
      ]
    },
    {
      "cell_type": "code",
      "execution_count": 165,
      "metadata": {},
      "outputs": [],
      "source": [
        "df = df.dropna()"
      ]
    },
    {
      "cell_type": "code",
      "execution_count": 166,
      "metadata": {},
      "outputs": [
        {
          "name": "stderr",
          "output_type": "stream",
          "text": [
            "/workspace16/Shayan/Shayan-env/lib64/python3.6/site-packages/seaborn/_decorators.py:43: FutureWarning: Pass the following variable as a keyword arg: x. From version 0.12, the only valid positional argument will be `data`, and passing other arguments without an explicit keyword will result in an error or misinterpretation.\n",
            "  FutureWarning\n"
          ]
        },
        {
          "data": {
            "text/plain": [
              "Text(0.5, 1.0, 'Number of ham and spam messages')"
            ]
          },
          "execution_count": 166,
          "metadata": {},
          "output_type": "execute_result"
        },
        {
          "data": {
            "image/png": "[encoded data removed]",
            "text/plain": [
              "<Figure size 432x288 with 1 Axes>"
            ]
          },
          "metadata": {
            "needs_background": "light"
          },
          "output_type": "display_data"
        }
      ],
      "source": [
        "sns.countplot(df.answer)\n",
        "plt.xlabel('Label')\n",
        "plt.title('Number of ham and spam messages')"
      ]
    },
    {
      "attachments": {},
      "cell_type": "markdown",
      "metadata": {},
      "source": [
        "\n",
        "\n",
        "In this part, we split our data set into training and testing part.\n",
        "\n",
        "\n"
      ]
    },
    {
      "cell_type": "code",
      "execution_count": 167,
      "metadata": {
        "id": "BAAy603vDAYK"
      },
      "outputs": [],
      "source": [
        "X = df.question\n",
        "Y = df.answer\n",
        "le = LabelEncoder()\n",
        "Y = le.fit_transform(Y)\n",
        "Y = Y.reshape(-1,1)\n",
        "\n",
        "X_train,X_test,Y_train,Y_test = train_test_split(X,Y,test_size=0.2)\n",
        "\n"
      ]
    },
    {
      "attachments": {},
      "cell_type": "markdown",
      "metadata": {},
      "source": [
        "\n",
        "\n",
        "It is natural to change our labels which are number to binary form with \"to_categorical\" function\n",
        "\n",
        "\n"
      ]
    },
    {
      "cell_type": "code",
      "execution_count": 168,
      "metadata": {},
      "outputs": [],
      "source": [
        "Y_ = to_categorical(Y, num_classes=len(labels))\n",
        "Y__ = to_categorical(Y_test, num_classes=len(labels))"
      ]
    },
    {
      "cell_type": "code",
      "execution_count": 169,
      "metadata": {
        "id": "_YY3vOBdDOik"
      },
      "outputs": [
        {
          "name": "stderr",
          "output_type": "stream",
          "text": [
            "Some weights of the model checkpoint at HooshvareLab/bert-fa-zwnj-base were not used when initializing BertModel: ['cls.predictions.transform.dense.weight', 'cls.predictions.bias', 'cls.predictions.transform.LayerNorm.bias', 'cls.predictions.decoder.bias', 'cls.predictions.transform.LayerNorm.weight', 'cls.predictions.decoder.weight', 'cls.predictions.transform.dense.bias']\n",
            "- This IS expected if you are initializing BertModel from the checkpoint of a model trained on another task or with another architecture (e.g. initializing a BertForSequenceClassification model from a BertForPreTraining model).\n",
            "- This IS NOT expected if you are initializing BertModel from the checkpoint of a model that you expect to be exactly identical (initializing a BertForSequenceClassification model from a BertForSequenceClassification model).\n",
            "Some weights of BertModel were not initialized from the model checkpoint at HooshvareLab/bert-fa-zwnj-base and are newly initialized: ['bert.pooler.dense.bias', 'bert.pooler.dense.weight']\n",
            "You should probably TRAIN this model on a down-stream task to be able to use it for predictions and inference.\n"
          ]
        }
      ],
      "source": [
        "model_name_or_path = \"HooshvareLab/bert-fa-zwnj-base\"\n",
        "config = AutoConfig.from_pretrained(model_name_or_path)\n",
        "tokenizer = AutoTokenizer.from_pretrained(model_name_or_path)\n",
        "ParseBERT_model = AutoModel.from_pretrained(model_name_or_path)"
      ]
    },
    {
      "attachments": {},
      "cell_type": "markdown",
      "metadata": {},
      "source": [
        "    \n",
        "\n",
        "Our training data set are words which we cannot train our model with, based on that we need to use Tokenizer to create a token for each word and create many vectors as our input for training our model with them.\n",
        "\n",
        "\n"
      ]
    },
    {
      "cell_type": "code",
      "execution_count": 182,
      "metadata": {},
      "outputs": [],
      "source": [
        "max_words = 500\n",
        "max_len = 50\n",
        "tok = Tokenizer(num_words=max_words)\n",
        "tok.fit_on_texts(X)\n",
        "sequences = tok.texts_to_sequences(X)\n",
        "sequences_matrix_train = sequence.pad_sequences(sequences,maxlen=max_len, dtype='float')"
      ]
    },
    {
      "cell_type": "code",
      "execution_count": 171,
      "metadata": {},
      "outputs": [],
      "source": [
        "tok.fit_on_texts(X_test)\n",
        "sequences = tok.texts_to_sequences(X_test)\n",
        "sequences_matrix_test = sequence.pad_sequences(sequences,maxlen=max_len, dtype='float')"
      ]
    },
    {
      "cell_type": "code",
      "execution_count": 172,
      "metadata": {},
      "outputs": [],
      "source": [
        "def recall_m(y_true, y_pred):\n",
        "    true_positives = K.sum(K.round(K.clip(y_true * y_pred, 0, 1)))\n",
        "    possible_positives = K.sum(K.round(K.clip(y_true, 0, 1)))\n",
        "    recall = true_positives / (possible_positives + \n",
        "    K.epsilon())\n",
        "    return recall\n",
        "\n",
        "def precision_m(y_true, y_pred):\n",
        "    true_positives = K.sum(K.round(K.clip(y_true * y_pred, 0, 1)))\n",
        "    predicted_positives = K.sum(K.round(K.clip(y_pred, 0, 1)))\n",
        "    precision = true_positives / (predicted_positives + K.epsilon())\n",
        "    return precision\n",
        "\n",
        "def f1_score_m(y_true, y_pred):\n",
        "    precision = precision_m(y_true, y_pred)\n",
        "    recall = recall_m(y_true, y_pred)\n",
        "    return 2*((precision*recall)/(precision+recall+K.epsilon()))"
      ]
    },
    {
      "cell_type": "code",
      "execution_count": 173,
      "metadata": {
        "id": "zh4fyzcE_FG1"
      },
      "outputs": [],
      "source": [
        "def RNN():\n",
        "    inputs = Input(name='inputs',shape=[max_len])\n",
        "    layer = Embedding(max_words,150,input_length=max_len)(inputs)\n",
        "    layer = LSTM(32,return_sequences=True)(layer)\n",
        "    layer = Dropout(0.5)(layer)\n",
        "    layer = LSTM(32)(layer)\n",
        "    layer = Dropout(0.5)(layer)\n",
        "    layer = Dense(19,name='out_layer')(layer)\n",
        "    layer = Activation('softmax')(layer)\n",
        "    model = Model(inputs=inputs,outputs=layer)\n",
        "    return model"
      ]
    },
    {
      "cell_type": "code",
      "execution_count": 174,
      "metadata": {
        "colab": {
          "base_uri": "https://localhost:8080/"
        },
        "id": "IOrVSeRgDVFs",
        "outputId": "836d51d6-37fe-455e-d0f0-1f67b525108a"
      },
      "outputs": [
        {
          "name": "stdout",
          "output_type": "stream",
          "text": [
            "Model: \"model_7\"\n",
            "_________________________________________________________________\n",
            "Layer (type)                 Output Shape              Param #   \n",
            "=================================================================\n",
            "inputs (InputLayer)          [(None, 50)]              0         \n",
            "_________________________________________________________________\n",
            "embedding_7 (Embedding)      (None, 50, 150)           75000     \n",
            "_________________________________________________________________\n",
            "lstm_14 (LSTM)               (None, 50, 32)            23424     \n",
            "_________________________________________________________________\n",
            "dropout_14 (Dropout)         (None, 50, 32)            0         \n",
            "_________________________________________________________________\n",
            "lstm_15 (LSTM)               (None, 32)                8320      \n",
            "_________________________________________________________________\n",
            "dropout_15 (Dropout)         (None, 32)                0         \n",
            "_________________________________________________________________\n",
            "out_layer (Dense)            (None, 19)                627       \n",
            "_________________________________________________________________\n",
            "activation_7 (Activation)    (None, 19)                0         \n",
            "=================================================================\n",
            "Total params: 107,371\n",
            "Trainable params: 107,371\n",
            "Non-trainable params: 0\n",
            "_________________________________________________________________\n"
          ]
        }
      ],
      "source": [
        "model = RNN()\n",
        "model.summary()\n",
        "model.compile(loss='categorical_crossentropy',optimizer=Adam(),metrics=['accuracy',f1_score_m])"
      ]
    },
    {
      "cell_type": "code",
      "execution_count": 175,
      "metadata": {
        "colab": {
          "base_uri": "https://localhost:8080/"
        },
        "id": "YWTuVkcXDYlm",
        "outputId": "3f1caa1b-5450-4db9-ef8b-6df3bccc207b"
      },
      "outputs": [
        {
          "name": "stdout",
          "output_type": "stream",
          "text": [
            "Epoch 1/20\n",
            "162/162 [==============================] - 4s 13ms/step - loss: 2.6908 - accuracy: 0.1497 - f1_score_m: 0.0027 - val_loss: 2.2689 - val_accuracy: 0.1885 - val_f1_score_m: 0.0000e+00\n",
            "Epoch 2/20\n",
            "162/162 [==============================] - 2s 11ms/step - loss: 1.8967 - accuracy: 0.3673 - f1_score_m: 0.0993 - val_loss: 1.8016 - val_accuracy: 0.4308 - val_f1_score_m: 0.1453\n",
            "Epoch 3/20\n",
            "162/162 [==============================] - 2s 11ms/step - loss: 1.3779 - accuracy: 0.5424 - f1_score_m: 0.2705 - val_loss: 1.5311 - val_accuracy: 0.5038 - val_f1_score_m: 0.1861\n",
            "Epoch 4/20\n",
            "162/162 [==============================] - 2s 11ms/step - loss: 1.0336 - accuracy: 0.6582 - f1_score_m: 0.4867 - val_loss: 1.4411 - val_accuracy: 0.5500 - val_f1_score_m: 0.4161\n",
            "Epoch 5/20\n",
            "162/162 [==============================] - 2s 11ms/step - loss: 0.8352 - accuracy: 0.7230 - f1_score_m: 0.6087 - val_loss: 1.3838 - val_accuracy: 0.5846 - val_f1_score_m: 0.4889\n",
            "Epoch 6/20\n",
            "162/162 [==============================] - 2s 11ms/step - loss: 0.6592 - accuracy: 0.8140 - f1_score_m: 0.7180 - val_loss: 1.4065 - val_accuracy: 0.6077 - val_f1_score_m: 0.5518\n",
            "Epoch 7/20\n",
            "162/162 [==============================] - 2s 11ms/step - loss: 0.5568 - accuracy: 0.8395 - f1_score_m: 0.7728 - val_loss: 1.4160 - val_accuracy: 0.6192 - val_f1_score_m: 0.6217\n",
            "Epoch 8/20\n",
            "162/162 [==============================] - 2s 11ms/step - loss: 0.4783 - accuracy: 0.8765 - f1_score_m: 0.8379 - val_loss: 1.3526 - val_accuracy: 0.6538 - val_f1_score_m: 0.6211\n",
            "Epoch 9/20\n",
            "162/162 [==============================] - 2s 11ms/step - loss: 0.4255 - accuracy: 0.8935 - f1_score_m: 0.8644 - val_loss: 1.4850 - val_accuracy: 0.6038 - val_f1_score_m: 0.6148\n",
            "Epoch 10/20\n",
            "162/162 [==============================] - 2s 11ms/step - loss: 0.3383 - accuracy: 0.9244 - f1_score_m: 0.9045 - val_loss: 1.5102 - val_accuracy: 0.6154 - val_f1_score_m: 0.6311\n",
            "Epoch 11/20\n",
            "162/162 [==============================] - 2s 11ms/step - loss: 0.3257 - accuracy: 0.9244 - f1_score_m: 0.9053 - val_loss: 1.5298 - val_accuracy: 0.6077 - val_f1_score_m: 0.6132\n",
            "Epoch 12/20\n",
            "162/162 [==============================] - 2s 11ms/step - loss: 0.2719 - accuracy: 0.9460 - f1_score_m: 0.9400 - val_loss: 1.6094 - val_accuracy: 0.5962 - val_f1_score_m: 0.5970\n",
            "Epoch 13/20\n",
            "162/162 [==============================] - 2s 11ms/step - loss: 0.2575 - accuracy: 0.9429 - f1_score_m: 0.9294 - val_loss: 1.6620 - val_accuracy: 0.6000 - val_f1_score_m: 0.5843\n",
            "Epoch 14/20\n",
            "162/162 [==============================] - 2s 11ms/step - loss: 0.2142 - accuracy: 0.9599 - f1_score_m: 0.9514 - val_loss: 1.7079 - val_accuracy: 0.6077 - val_f1_score_m: 0.6118\n",
            "Epoch 15/20\n",
            "162/162 [==============================] - 2s 11ms/step - loss: 0.2037 - accuracy: 0.9576 - f1_score_m: 0.9485 - val_loss: 1.8238 - val_accuracy: 0.6077 - val_f1_score_m: 0.6157\n",
            "Epoch 16/20\n",
            "162/162 [==============================] - 2s 11ms/step - loss: 0.1827 - accuracy: 0.9599 - f1_score_m: 0.9545 - val_loss: 1.8188 - val_accuracy: 0.5923 - val_f1_score_m: 0.6057\n",
            "Epoch 17/20\n",
            "162/162 [==============================] - 2s 11ms/step - loss: 0.1856 - accuracy: 0.9576 - f1_score_m: 0.9539 - val_loss: 1.6949 - val_accuracy: 0.6154 - val_f1_score_m: 0.6180\n",
            "Epoch 18/20\n",
            "162/162 [==============================] - 2s 11ms/step - loss: 0.1635 - accuracy: 0.9660 - f1_score_m: 0.9612 - val_loss: 1.8751 - val_accuracy: 0.6115 - val_f1_score_m: 0.6081\n",
            "Epoch 19/20\n",
            "162/162 [==============================] - 2s 11ms/step - loss: 0.1386 - accuracy: 0.9691 - f1_score_m: 0.9639 - val_loss: 1.9558 - val_accuracy: 0.5885 - val_f1_score_m: 0.5956\n",
            "Epoch 20/20\n",
            "162/162 [==============================] - 2s 10ms/step - loss: 0.1633 - accuracy: 0.9653 - f1_score_m: 0.9595 - val_loss: 1.8735 - val_accuracy: 0.6154 - val_f1_score_m: 0.6005\n"
          ]
        },
        {
          "data": {
            "text/plain": [
              "<keras.callbacks.History at 0x7f35fb06a400>"
            ]
          },
          "execution_count": 175,
          "metadata": {},
          "output_type": "execute_result"
        }
      ],
      "source": [
        "model.fit(sequences_matrix_train,Y_,batch_size=8,epochs=20,validation_data=(sequences_matrix_test, Y__))"
      ]
    },
    {
      "cell_type": "code",
      "execution_count": 176,
      "metadata": {
        "colab": {
          "base_uri": "https://localhost:8080/"
        },
        "id": "0cn4q6QTEwMc",
        "outputId": "8e8f5c2e-bed0-4dee-ead3-17680133a412"
      },
      "outputs": [
        {
          "name": "stdout",
          "output_type": "stream",
          "text": [
            "9/9 [==============================] - 0s 4ms/step - loss: 1.8735 - accuracy: 0.6154 - f1_score_m: 0.5947\n",
            "Test set\n",
            "  Loss: 1.873\n",
            "  Accuracy: 0.615\n"
          ]
        }
      ],
      "source": [
        "test_sequences = tok.texts_to_sequences(X_test)\n",
        "test_sequences_matrix = sequence.pad_sequences(test_sequences,maxlen=max_len)\n",
        "accr = model.evaluate(test_sequences_matrix,Y__)\n",
        "print('Test set\\n  Loss: {:0.3f}\\n  Accuracy: {:0.3f}'.format(accr[0],accr[1]))"
      ]
    },
    {
      "cell_type": "code",
      "execution_count": 222,
      "metadata": {},
      "outputs": [],
      "source": [
        "def inference(question):\n",
        "  sequences = tok.texts_to_sequences(X)\n",
        "  sequences_matrix_test = sequence.pad_sequences(sequences,maxlen=max_len, dtype='float')\n",
        "\n",
        "  hold = model.predict(sequences_matrix_test)\n",
        "  A_ = np.argmax(hold,axis=1)\n",
        "  \n",
        "  labels_pred = {} \n",
        "  counter = 0\n",
        "  for count in range(A_.shape[0]):\n",
        "      if A_[count] == A_[count]:\n",
        "          if A_[count] not in labels_pred.values(): \n",
        "              labels_pred[counter] = A_[count]\n",
        "              counter +=1\n",
        "          A_[count] = counter\n",
        "          \n",
        "  indx = int(list(labels_pred.keys())[list(labels_pred.values()).index(max(labels_pred.values()))])\n",
        "  print(indx)\n",
        "  print(labels[indx])"
      ]
    },
    {
      "cell_type": "code",
      "execution_count": 223,
      "metadata": {},
      "outputs": [
        {
          "name": "stdout",
          "output_type": "stream",
          "text": [
            "18\n",
            "بسته خوش آمد سیم کارت اعتباری عادی همراه اول به شرح ذیل می باشد: 1 گیگابایت اینترنت هدیه به مدت 30 روز 24 گیگابایت اینترنت هدیه 6 ماهه (هر ماه 4 گیگابایت به مدت 7 روزه) 100 دقیقه مکالمه درون شبکه (تلفن ثابت و همراه اول) به مدت 30 روز بسته 10000 تومان شارژ هدیه درون شبکه به مدت 90 روز 10000 تومان شارژ هدیه، در صورت افزایش اعتبار ارائه می شود. مهلت زمانی اولین افزایش شارژ، حداکثر 90 روز پس از فعالسازی سیم کارت می باشد.\n"
          ]
        }
      ],
      "source": [
        "inference(\"بسته خوشامد سیمکارت اعتباری عادی شامل چی میشه\")"
      ]
    }
  ],
  "metadata": {
    "accelerator": "GPU",
    "colab": {
      "collapsed_sections": [],
      "name": "Untitled10.ipynb",
      "provenance": []
    },
    "gpuClass": "standard",
    "kernelspec": {
      "display_name": "Python 3",
      "language": "python",
      "name": "python3"
    },
    "language_info": {
      "codemirror_mode": {
        "name": "ipython",
        "version": 3
      },
      "file_extension": ".py",
      "mimetype": "text/x-python",
      "name": "python",
      "nbconvert_exporter": "python",
      "pygments_lexer": "ipython3",
      "version": "3.6.8"
    },
    "vscode": {
      "interpreter": {
        "hash": "f5814d06710fa1ab2eb306c97d24ec609388cf9dc442c28dc2a9b6d925a9517c"
      }
    }
  },
  "nbformat": 4,
  "nbformat_minor": 0
}
