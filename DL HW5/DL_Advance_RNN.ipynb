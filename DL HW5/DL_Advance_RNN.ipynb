{
  "cells": [
    {
      "cell_type": "markdown",
      "metadata": {
        "id": "YXGRiWv-Pdh-"
      },
      "source": [
        "# Import"
      ]
    },
    {
      "cell_type": "code",
      "execution_count": 13,
      "metadata": {
        "colab": {
          "base_uri": "https://localhost:8080/"
        },
        "id": "kJm7RKW0_jmS",
        "outputId": "665a8aa4-364e-4de8-81fd-b99d1dee45b6",
        "vscode": {
          "languageId": "python"
        }
      },
      "outputs": [
        {
          "name": "stdout",
          "output_type": "stream",
          "text": [
            "Mounted at /content/drive\n"
          ]
        }
      ],
      "source": [
        "from google.colab import drive\n",
        "drive.mount('/content/drive')"
      ]
    },
    {
      "cell_type": "code",
      "execution_count": 1,
      "metadata": {
        "colab": {
          "base_uri": "https://localhost:8080/"
        },
        "id": "MzgqBP8pjPyS",
        "outputId": "34e1168b-f056-4971-82e3-f7133028e6cf",
        "vscode": {
          "languageId": "python"
        }
      },
      "outputs": [
        {
          "name": "stdout",
          "output_type": "stream",
          "text": [
            "  Building wheel for tensorflow-docs (setup.py) ... \u001b[?25l\u001b[?25hdone\n"
          ]
        }
      ],
      "source": [
        "# this library is used for drawing the charts easily.\n",
        "# use this library to draw your charts in this homework.\n",
        "!pip install -q git+https://github.com/MJAHMADEE/docs"
      ]
    },
    {
      "cell_type": "code",
      "execution_count": 2,
      "metadata": {
        "id": "bZXb6-72gjcO",
        "vscode": {
          "languageId": "python"
        }
      },
      "outputs": [],
      "source": [
        "import numpy as np\n",
        "import matplotlib.pyplot as plt\n",
        "import pandas as pd\n",
        "\n",
        "from datetime import datetime, timedelta\n",
        "from sklearn.preprocessing import MinMaxScaler\n",
        "from sklearn.model_selection import train_test_split\n",
        "from sklearn.utils import shuffle\n",
        "\n",
        "import tensorflow as tf\n",
        "from tensorflow import keras\n",
        "from tensorflow.keras import layers\n",
        "import tensorflow_docs as tfdocs\n",
        "import tensorflow_docs.plots\n",
        "from keras import backend as K\n",
        "from keras.layers import Dense\n",
        "from keras.models import Model\n",
        "\n",
        "import os\n",
        "from keras.layers import LSTM, Activation, Dense, Dropout, Input, Embedding\n",
        "from tensorflow.keras.optimizers import RMSprop\n",
        "from tensorflow.keras.callbacks import EarlyStopping"
      ]
    },
    {
      "cell_type": "markdown",
      "metadata": {
        "id": "gqeka8hQPh-v"
      },
      "source": [
        "# 1.Prepare data"
      ]
    },
    {
      "cell_type": "code",
      "execution_count": 14,
      "metadata": {
        "colab": {
          "base_uri": "https://localhost:8080/"
        },
        "id": "PrZ_5svyjXgg",
        "outputId": "f3dc9a65-9cd1-4d2b-a418-a3407f68f306",
        "vscode": {
          "languageId": "python"
        }
      },
      "outputs": [
        {
          "name": "stdout",
          "output_type": "stream",
          "text": [
            "Archive:  /content/drive/MyDrive/time-series.zip\n",
            "  inflating: /content/data/4.csv     \n",
            "  inflating: /content/data/5.csv     \n",
            "  inflating: /content/data/6.csv     \n",
            "  inflating: /content/data/7.csv     \n",
            "  inflating: /content/data/8.csv     \n",
            "  inflating: /content/data/9.csv     \n",
            "  inflating: /content/data/10.csv    \n",
            "  inflating: /content/data/11.csv    \n",
            "  inflating: /content/data/12.csv    \n",
            "  inflating: /content/data/13.csv    \n",
            "  inflating: /content/data/14.csv    \n",
            "  inflating: /content/data/15.csv    \n",
            "  inflating: /content/data/16.csv    \n",
            "  inflating: /content/data/17.csv    \n",
            "  inflating: /content/data/18.csv    \n",
            "  inflating: /content/data/19.csv    \n",
            "  inflating: /content/data/20.csv    \n",
            "  inflating: /content/data/21.csv    \n",
            "  inflating: /content/data/22.csv    \n",
            "  inflating: /content/data/23.csv    \n",
            "  inflating: /content/data/24.csv    \n",
            "  inflating: /content/data/25.csv    \n",
            "  inflating: /content/data/26.csv    \n",
            "  inflating: /content/data/27.csv    \n",
            "  inflating: /content/data/28.csv    \n",
            "  inflating: /content/data/29.csv    \n",
            "  inflating: /content/data/30.csv    \n",
            "  inflating: /content/data/31.csv    \n",
            "  inflating: /content/data/32.csv    \n",
            "  inflating: /content/data/33.csv    \n",
            "  inflating: /content/data/34.csv    \n",
            "  inflating: /content/data/35.csv    \n",
            "  inflating: /content/data/36.csv    \n",
            "  inflating: /content/data/37.csv    \n",
            "  inflating: /content/data/38.csv    \n",
            "  inflating: /content/data/39.csv    \n",
            "  inflating: /content/data/40.csv    \n",
            "  inflating: /content/data/41.csv    \n",
            "  inflating: /content/data/42.csv    \n",
            "  inflating: /content/data/43.csv    \n",
            "  inflating: /content/data/44.csv    \n",
            "  inflating: /content/data/45.csv    \n",
            "  inflating: /content/data/46.csv    \n",
            "  inflating: /content/data/47.csv    \n",
            "  inflating: /content/data/48.csv    \n",
            "  inflating: /content/data/49.csv    \n",
            "  inflating: /content/data/50.csv    \n",
            "  inflating: /content/data/51.csv    \n",
            "  inflating: /content/data/52.csv    \n",
            "  inflating: /content/data/53.csv    \n",
            "  inflating: /content/data/54.csv    \n",
            "  inflating: /content/data/55.csv    \n",
            "  inflating: /content/data/56.csv    \n",
            "  inflating: /content/data/57.csv    \n",
            "  inflating: /content/data/58.csv    \n",
            "  inflating: /content/data/59.csv    \n",
            "  inflating: /content/data/60.csv    \n",
            "  inflating: /content/data/61.csv    \n",
            "  inflating: /content/data/62.csv    \n",
            "  inflating: /content/data/63.csv    \n",
            "  inflating: /content/data/64.csv    \n",
            "  inflating: /content/data/65.csv    \n",
            "  inflating: /content/data/66.csv    \n",
            "  inflating: /content/data/67.csv    \n",
            "  inflating: /content/data/68.csv    \n",
            "  inflating: /content/data/69.csv    \n",
            "  inflating: /content/data/70.csv    \n",
            "  inflating: /content/data/71.csv    \n",
            "  inflating: /content/data/72.csv    \n",
            "  inflating: /content/data/73.csv    \n",
            "  inflating: /content/data/74.csv    \n",
            "  inflating: /content/data/75.csv    \n",
            "  inflating: /content/data/76.csv    \n",
            "  inflating: /content/data/77.csv    \n",
            "  inflating: /content/data/78.csv    \n",
            "  inflating: /content/data/79.csv    \n",
            "  inflating: /content/data/80.csv    \n",
            "  inflating: /content/data/0.csv     \n",
            "  inflating: /content/data/1.csv     \n",
            "  inflating: /content/data/2.csv     \n",
            "  inflating: /content/data/3.csv     \n"
          ]
        }
      ],
      "source": [
        "# unzip data and load them\n",
        "!unzip /content/drive/MyDrive/time-series.zip -d /content/data/"
      ]
    },
    {
      "cell_type": "code",
      "execution_count": 15,
      "metadata": {
        "id": "JnK9s7_gyU_l",
        "vscode": {
          "languageId": "python"
        }
      },
      "outputs": [],
      "source": [
        "directory = os.path.join(\"/content/data/\")\n",
        "csv_file = []\n",
        "for root,dirs,files in os.walk(directory):\n",
        "    for file in files:\n",
        "       if file.endswith(\".csv\"):  \n",
        "           df = pd.read_csv(\"/content/data/\"+file)\n",
        "           df[\"timestamp\"] = pd.Series(df['timestamp'], dtype=\"int\")\n",
        "           csv_file.append(df)"
      ]
    },
    {
      "cell_type": "code",
      "execution_count": 4,
      "metadata": {
        "colab": {
          "base_uri": "https://localhost:8080/"
        },
        "id": "QLJfV4vuwYpq",
        "outputId": "665f0518-9e33-4b8b-a2b1-f25cdbe5e094",
        "vscode": {
          "languageId": "python"
        }
      },
      "outputs": [
        {
          "name": "stdout",
          "output_type": "stream",
          "text": [
            "       timestamp     value  label\n",
            "0     1469203200 -0.201017      0\n",
            "1     1469203500 -0.283928      0\n",
            "2     1469203800 -0.105569      0\n",
            "3     1469204100 -0.614691      0\n",
            "4     1469204400 -0.746266      0\n",
            "...          ...       ...    ...\n",
            "8858  1471880100 -0.296199      0\n",
            "8859  1471880400 -0.080123      0\n",
            "8860  1471880700  0.061144      0\n",
            "8861  1471881000  0.450105      0\n",
            "8862  1471881300  0.684554      0\n",
            "\n",
            "[8863 rows x 3 columns]\n",
            "       timestamp        value  label\n",
            "0     1416726000  -206.601939      0\n",
            "1     1416729600   136.595836      0\n",
            "2     1416733200  -125.936981      0\n",
            "3     1416736800   753.121958      0\n",
            "4     1416740400   407.953075      0\n",
            "...          ...          ...    ...\n",
            "1416  1421823600   797.847499      0\n",
            "1417  1421827200  1207.875208      0\n",
            "1418  1421830800  1349.758986      0\n",
            "1419  1421834400  1421.276165      0\n",
            "1420  1421838000  1395.888126      0\n",
            "\n",
            "[1421 rows x 3 columns]\n",
            "         timestamp   value  label\n",
            "0       1491041280  1839.0      0\n",
            "1       1491041340  1842.0      0\n",
            "2       1491041400  1947.0      0\n",
            "3       1491041460  1985.0      0\n",
            "4       1491041520  1931.0      0\n",
            "...            ...     ...    ...\n",
            "147663  1500105120  1591.0      0\n",
            "147664  1500105180  1514.0      0\n",
            "147665  1500105240  1497.0      0\n",
            "147666  1500105300  1532.0      0\n",
            "147667  1500105360  1587.0      0\n",
            "\n",
            "[147668 rows x 3 columns]\n",
            "       timestamp        value  label\n",
            "0     1416722400    -2.356612      0\n",
            "1     1416726000   432.757886      0\n",
            "2     1416729600   766.399413      0\n",
            "3     1416733200   939.943011      0\n",
            "4     1416736800   956.790859      0\n",
            "...          ...          ...    ...\n",
            "1675  1422752400 -2462.196683      0\n",
            "1676  1422756000 -2636.176958      0\n",
            "1677  1422759600 -2640.269046      0\n",
            "1678  1422763200 -2432.070237      0\n",
            "1679  1422766800 -2103.498366      0\n",
            "\n",
            "[1680 rows x 3 columns]\n",
            "       timestamp        value  label\n",
            "0     1416722400   -25.044716      0\n",
            "1     1416726000    88.974804      0\n",
            "2     1416729600   239.895847      0\n",
            "3     1416733200   267.013202      0\n",
            "4     1416736800   311.956858      0\n",
            "...          ...          ...    ...\n",
            "1675  1422752400 -5268.982723      0\n",
            "1676  1422756000 -5368.375881      0\n",
            "1677  1422759600 -5338.276465      0\n",
            "1678  1422763200 -5223.508339      0\n",
            "1679  1422766800 -5173.001790      0\n",
            "\n",
            "[1680 rows x 3 columns]\n"
          ]
        }
      ],
      "source": [
        "# show chart of 5 dataset(csv file) randomly\n",
        "print(csv_file[0])\n",
        "print(csv_file[1])\n",
        "print(csv_file[2])\n",
        "print(csv_file[3])\n",
        "print(csv_file[4])"
      ]
    },
    {
      "cell_type": "code",
      "execution_count": 16,
      "metadata": {
        "id": "qLS29lX5whHC",
        "vscode": {
          "languageId": "python"
        }
      },
      "outputs": [],
      "source": [
        "# split data to train and test\n",
        "csvmain = pd.concat(csv_file, ignore_index=True)\n",
        "# csvmain[\"timestamp\"] = pd.Series(csvmain['timestamp'], dtype=\"int\")\n",
        "# csvmain = csv_file[0]\n",
        "# csvmain.sort_values(by=['timestamp'])\n",
        "\n",
        "X = csvmain.loc[:, ['value']]\n",
        "y = csvmain.loc[:, ['label']]\n",
        "X_train, X_test, y_train, y_test = train_test_split(X, y, random_state=0, train_size = .9)"
      ]
    },
    {
      "cell_type": "code",
      "execution_count": 26,
      "metadata": {
        "colab": {
          "base_uri": "https://localhost:8080/",
          "height": 314
        },
        "id": "Bpx2MvtrkHr3",
        "outputId": "645afddd-5a1f-4b86-f77b-aa55ac320b6a",
        "vscode": {
          "languageId": "python"
        }
      },
      "outputs": [
        {
          "name": "stdout",
          "output_type": "stream",
          "text": [
            "Line graph: \n"
          ]
        },
        {
          "data": {
            "text/plain": [
              "<matplotlib.axes._subplots.AxesSubplot at 0x7f8ea87f3be0>"
            ]
          },
          "execution_count": 26,
          "metadata": {},
          "output_type": "execute_result"
        },
        {
          "data": {
            "image/png": "[encoded data removed]",
            "text/plain": [
              "<Figure size 432x288 with 1 Axes>"
            ]
          },
          "metadata": {
            "needs_background": "light"
          },
          "output_type": "display_data"
        }
      ],
      "source": [
        "csv_file[40].plot(x='timestamp', y='value')"
      ]
    },
    {
      "cell_type": "code",
      "execution_count": 40,
      "metadata": {
        "colab": {
          "base_uri": "https://localhost:8080/",
          "height": 296
        },
        "id": "4ZLkaw5zMcKp",
        "outputId": "bfedde92-7893-408e-bc6e-a077346dbe40",
        "vscode": {
          "languageId": "python"
        }
      },
      "outputs": [
        {
          "data": {
            "text/plain": [
              "<matplotlib.axes._subplots.AxesSubplot at 0x7f8ea8b24fd0>"
            ]
          },
          "execution_count": 40,
          "metadata": {},
          "output_type": "execute_result"
        },
        {
          "data": {
            "image/png": "[encoded data removed]",
            "text/plain": [
              "<Figure size 432x288 with 1 Axes>"
            ]
          },
          "metadata": {
            "needs_background": "light"
          },
          "output_type": "display_data"
        }
      ],
      "source": [
        "csv_file[0].plot(x='timestamp', y='value')"
      ]
    },
    {
      "cell_type": "code",
      "execution_count": 41,
      "metadata": {
        "colab": {
          "base_uri": "https://localhost:8080/",
          "height": 296
        },
        "id": "QDdvZ6zVMcl-",
        "outputId": "5abc7b55-1941-41dc-ccad-73a66a42afba",
        "vscode": {
          "languageId": "python"
        }
      },
      "outputs": [
        {
          "data": {
            "text/plain": [
              "<matplotlib.axes._subplots.AxesSubplot at 0x7f8e9614aca0>"
            ]
          },
          "execution_count": 41,
          "metadata": {},
          "output_type": "execute_result"
        },
        {
          "data": {
            "image/png": "[encoded data removed]",
            "text/plain": [
              "<Figure size 432x288 with 1 Axes>"
            ]
          },
          "metadata": {
            "needs_background": "light"
          },
          "output_type": "display_data"
        }
      ],
      "source": [
        "csv_file[20].plot(x='timestamp', y='value')"
      ]
    },
    {
      "cell_type": "code",
      "execution_count": 42,
      "metadata": {
        "colab": {
          "base_uri": "https://localhost:8080/",
          "height": 296
        },
        "id": "oozDQ5sFMcze",
        "outputId": "3009eba0-b1a5-4ac2-b2e7-5f53ce60e96e",
        "vscode": {
          "languageId": "python"
        }
      },
      "outputs": [
        {
          "data": {
            "text/plain": [
              "<matplotlib.axes._subplots.AxesSubplot at 0x7f8e9523d3d0>"
            ]
          },
          "execution_count": 42,
          "metadata": {},
          "output_type": "execute_result"
        },
        {
          "data": {
            "image/png": "[encoded data removed]",
            "text/plain": [
              "<Figure size 432x288 with 1 Axes>"
            ]
          },
          "metadata": {
            "needs_background": "light"
          },
          "output_type": "display_data"
        }
      ],
      "source": [
        "csv_file[60].plot(x='timestamp', y='value')"
      ]
    },
    {
      "cell_type": "code",
      "execution_count": 17,
      "metadata": {
        "id": "AOwNYDHlCDJ9",
        "vscode": {
          "languageId": "python"
        }
      },
      "outputs": [],
      "source": [
        "sequence = 200"
      ]
    },
    {
      "cell_type": "code",
      "execution_count": 18,
      "metadata": {
        "id": "zIqps8g7Jieo",
        "vscode": {
          "languageId": "python"
        }
      },
      "outputs": [],
      "source": [
        "def preprocessing_Y(df):  \n",
        "  arr_1 = np.array([df[\"label\"]])\n",
        "\n",
        "  x =[]\n",
        "  for i in range(len(arr_1[0])-sequence):\n",
        "    if np.all(arr_1[0][i:i+sequence]==0):\n",
        "      x.append(0)\n",
        "    else:\n",
        "      x.append(1)\n",
        "\n",
        "  # print(x)\n",
        "  hold = np.array(x).astype(int)\n",
        "  return hold"
      ]
    },
    {
      "cell_type": "code",
      "execution_count": 19,
      "metadata": {
        "id": "B3ZnlqRtWx5t",
        "vscode": {
          "languageId": "python"
        }
      },
      "outputs": [],
      "source": [
        "def preprocessing_X(df):  \n",
        "  arr_2 = np.array([df[\"value\"]])\n",
        "\n",
        "\n",
        "  x, y = [], []\n",
        "  for i in range(len(arr_2[0])-sequence):\n",
        "    x.append([arr_2[0][i:i+sequence]])\n",
        "\n",
        "  # print(x)\n",
        "  hold = np.array(x).astype(int)\n",
        "\n",
        "  return hold"
      ]
    },
    {
      "cell_type": "code",
      "execution_count": 20,
      "metadata": {
        "id": "nw0W8_vrXzJs",
        "vscode": {
          "languageId": "python"
        }
      },
      "outputs": [],
      "source": [
        "A = preprocessing_X(X)\n",
        "B = preprocessing_Y(y)"
      ]
    },
    {
      "cell_type": "markdown",
      "metadata": {
        "id": "rw90mtkiP-DQ"
      },
      "source": [
        "# Metric functions"
      ]
    },
    {
      "cell_type": "code",
      "execution_count": 9,
      "metadata": {
        "id": "A6PCpO0q8zSL",
        "vscode": {
          "languageId": "python"
        }
      },
      "outputs": [],
      "source": [
        "def recall_m(y_true, y_pred):\n",
        "    true_positives = K.sum(K.round(K.clip(y_true * y_pred, 0, 1)))\n",
        "    possible_positives = K.sum(K.round(K.clip(y_true, 0, 1)))\n",
        "    recall = true_positives / (possible_positives + \n",
        "    K.epsilon())\n",
        "    return recall\n",
        "\n",
        "def precision_m(y_true, y_pred):\n",
        "    true_positives = K.sum(K.round(K.clip(y_true * y_pred, 0, 1)))\n",
        "    predicted_positives = K.sum(K.round(K.clip(y_pred, 0, 1)))\n",
        "    precision = true_positives / (predicted_positives + K.epsilon())\n",
        "    return precision\n",
        "\n",
        "def f1_score_m(y_true, y_pred):\n",
        "    precision = precision_m(y_true, y_pred)\n",
        "    recall = recall_m(y_true, y_pred)\n",
        "    return 2*((precision*recall)/(precision+recall+K.epsilon()))"
      ]
    },
    {
      "cell_type": "markdown",
      "metadata": {
        "id": "dFcsB8LKwzsT"
      },
      "source": [
        "# 3. Create and train 3 RNN model(Simple, LSTM, GRU)"
      ]
    },
    {
      "cell_type": "code",
      "execution_count": null,
      "metadata": {
        "colab": {
          "base_uri": "https://localhost:8080/"
        },
        "id": "YYnnffg2zlb1",
        "outputId": "4d91d2ca-c6bb-4b4d-8200-66d8979491ca",
        "vscode": {
          "languageId": "python"
        }
      },
      "outputs": [
        {
          "name": "stdout",
          "output_type": "stream",
          "text": [
            "Model: \"sequential_19\"\n",
            "_________________________________________________________________\n",
            " Layer (type)                Output Shape              Param #   \n",
            "=================================================================\n",
            " simple_rnn_9 (SimpleRNN)    (None, 200)               80200     \n",
            "                                                                 \n",
            " dense_37 (Dense)            (None, 200)               40200     \n",
            "                                                                 \n",
            " dense_38 (Dense)            (None, 1)                 201       \n",
            "                                                                 \n",
            "=================================================================\n",
            "Total params: 120,601\n",
            "Trainable params: 120,601\n",
            "Non-trainable params: 0\n",
            "_________________________________________________________________\n",
            "Epoch 1/100\n",
            "18916/18916 [==============================] - 111s 6ms/step - loss: 0.0843 - accuracy: 0.8989 - recall_m: 0.1662 - precision_m: 0.5186 - f1_score_m: 0.2367 - val_loss: 0.0980 - val_accuracy: 0.8847 - val_recall_m: 0.0240 - val_precision_m: 0.0367 - val_f1_score_m: 0.0255\n",
            "Epoch 2/100\n",
            "18916/18916 [==============================] - 121s 6ms/step - loss: 0.0828 - accuracy: 0.9002 - recall_m: 0.1856 - precision_m: 0.5476 - f1_score_m: 0.2609 - val_loss: 0.0975 - val_accuracy: 0.8850 - val_recall_m: 0.0229 - val_precision_m: 0.0330 - val_f1_score_m: 0.0240\n",
            "Epoch 3/100\n",
            "18916/18916 [==============================] - 109s 6ms/step - loss: 0.0820 - accuracy: 0.9009 - recall_m: 0.1987 - precision_m: 0.5610 - f1_score_m: 0.2764 - val_loss: 0.0981 - val_accuracy: 0.8828 - val_recall_m: 0.0208 - val_precision_m: 0.0343 - val_f1_score_m: 0.0231\n",
            "Epoch 4/100\n",
            "18916/18916 [==============================] - 107s 6ms/step - loss: 0.0809 - accuracy: 0.9022 - recall_m: 0.2138 - precision_m: 0.5771 - f1_score_m: 0.2936 - val_loss: 0.0974 - val_accuracy: 0.8853 - val_recall_m: 0.0243 - val_precision_m: 0.0352 - val_f1_score_m: 0.0255\n",
            "Epoch 5/100\n",
            "18916/18916 [==============================] - 109s 6ms/step - loss: 0.0802 - accuracy: 0.9029 - recall_m: 0.2220 - precision_m: 0.5894 - f1_score_m: 0.3038 - val_loss: 0.0979 - val_accuracy: 0.8843 - val_recall_m: 0.0263 - val_precision_m: 0.0389 - val_f1_score_m: 0.0282\n",
            "Epoch 6/100\n",
            "18916/18916 [==============================] - 119s 6ms/step - loss: 0.0793 - accuracy: 0.9034 - recall_m: 0.2309 - precision_m: 0.5960 - f1_score_m: 0.3133 - val_loss: 0.0961 - val_accuracy: 0.8844 - val_recall_m: 0.0257 - val_precision_m: 0.0405 - val_f1_score_m: 0.0277\n",
            "Epoch 7/100\n",
            "18916/18916 [==============================] - 109s 6ms/step - loss: 0.0789 - accuracy: 0.9039 - recall_m: 0.2344 - precision_m: 0.6008 - f1_score_m: 0.3179 - val_loss: 0.0974 - val_accuracy: 0.8847 - val_recall_m: 0.0270 - val_precision_m: 0.0396 - val_f1_score_m: 0.0285\n",
            "Epoch 8/100\n",
            "18916/18916 [==============================] - 115s 6ms/step - loss: 0.0784 - accuracy: 0.9042 - recall_m: 0.2410 - precision_m: 0.6041 - f1_score_m: 0.3243 - val_loss: 0.0969 - val_accuracy: 0.8836 - val_recall_m: 0.0276 - val_precision_m: 0.0384 - val_f1_score_m: 0.0294\n"
          ]
        }
      ],
      "source": [
        "# Simple\n",
        "from tensorflow.keras import regularizers\n",
        "\n",
        "model_RNN = tf.keras.Sequential([\n",
        "                             tf.keras.layers.SimpleRNN(units=sequence,  input_shape=(1,sequence)),\n",
        "                             tf.keras.layers.Dense(sequence, activation='relu'),\n",
        "                             tf.keras.layers.Dense(1, activation='sigmoid')\n",
        "                            ])\n",
        "\n",
        "model_RNN.compile(optimizer='adam', loss='mean_squared_error', metrics=['accuracy',recall_m,precision_m,f1_score_m])\n",
        "model_RNN.summary()\n",
        "\n",
        "history_RNN = model_RNN.fit(A, B, epochs=100, verbose=1,validation_split=0.2,batch_size=64,\n",
        "                            callbacks=keras.callbacks.EarlyStopping(monitor='val_f1_score_m',\n",
        "                                            patience=5,\n",
        "                                            restore_best_weights=True))"
      ]
    },
    {
      "cell_type": "code",
      "execution_count": null,
      "metadata": {
        "colab": {
          "base_uri": "https://localhost:8080/"
        },
        "id": "wPx4uL7IxBwA",
        "outputId": "cbaa2259-3e81-4e63-ee46-fd166b0a2969",
        "vscode": {
          "languageId": "python"
        }
      },
      "outputs": [
        {
          "name": "stdout",
          "output_type": "stream",
          "text": [
            "Model: \"sequential_21\"\n",
            "_________________________________________________________________\n",
            " Layer (type)                Output Shape              Param #   \n",
            "=================================================================\n",
            " lstm_11 (LSTM)              (None, 200)               320800    \n",
            "                                                                 \n",
            " dropout_3 (Dropout)         (None, 200)               0         \n",
            "                                                                 \n",
            " dense_41 (Dense)            (None, 200)               40200     \n",
            "                                                                 \n",
            " dense_42 (Dense)            (None, 1)                 201       \n",
            "                                                                 \n",
            "=================================================================\n",
            "Total params: 361,201\n",
            "Trainable params: 361,201\n",
            "Non-trainable params: 0\n",
            "_________________________________________________________________\n",
            "Epoch 1/100\n",
            "18916/18916 [==============================] - 189s 10ms/step - loss: 0.0833 - accuracy: 0.8999 - recall_m: 0.1819 - precision_m: 0.5424 - f1_score_m: 0.2565 - val_loss: 0.0979 - val_accuracy: 0.8843 - val_recall_m: 0.0219 - val_precision_m: 0.0315 - val_f1_score_m: 0.0230\n",
            "Epoch 2/100\n",
            "18916/18916 [==============================] - 199s 11ms/step - loss: 0.0817 - accuracy: 0.9018 - recall_m: 0.2042 - precision_m: 0.5734 - f1_score_m: 0.2840 - val_loss: 0.0986 - val_accuracy: 0.8850 - val_recall_m: 0.0272 - val_precision_m: 0.0368 - val_f1_score_m: 0.0286\n",
            "Epoch 3/100\n",
            "18916/18916 [==============================] - 214s 11ms/step - loss: 0.0805 - accuracy: 0.9027 - recall_m: 0.2188 - precision_m: 0.5904 - f1_score_m: 0.3006 - val_loss: 0.0995 - val_accuracy: 0.8833 - val_recall_m: 0.0260 - val_precision_m: 0.0375 - val_f1_score_m: 0.0277\n",
            "Epoch 4/100\n",
            "18916/18916 [==============================] - 223s 12ms/step - loss: 0.0799 - accuracy: 0.9033 - recall_m: 0.2264 - precision_m: 0.5939 - f1_score_m: 0.3091 - val_loss: 0.0987 - val_accuracy: 0.8829 - val_recall_m: 0.0240 - val_precision_m: 0.0391 - val_f1_score_m: 0.0257\n",
            "Epoch 5/100\n",
            "18916/18916 [==============================] - 216s 11ms/step - loss: 0.0796 - accuracy: 0.9037 - recall_m: 0.2299 - precision_m: 0.6014 - f1_score_m: 0.3134 - val_loss: 0.0994 - val_accuracy: 0.8833 - val_recall_m: 0.0251 - val_precision_m: 0.0382 - val_f1_score_m: 0.0271\n",
            "Epoch 6/100\n",
            "18916/18916 [==============================] - 222s 12ms/step - loss: 0.0785 - accuracy: 0.9046 - recall_m: 0.2410 - precision_m: 0.6091 - f1_score_m: 0.3258 - val_loss: 0.0988 - val_accuracy: 0.8824 - val_recall_m: 0.0267 - val_precision_m: 0.0386 - val_f1_score_m: 0.0280\n"
          ]
        }
      ],
      "source": [
        "# LSTM\n",
        "model_LSTM = tf.keras.Sequential([\n",
        "                             tf.keras.layers.LSTM(units=sequence,  input_shape=(1,sequence)),\n",
        "                             tf.keras.layers.Dropout(.1),\n",
        "                             tf.keras.layers.Dense(sequence, activation='relu'),\n",
        "                             tf.keras.layers.Dense(1, activation='sigmoid')\n",
        "                            ])\n",
        "\n",
        "model_LSTM.compile(optimizer='adam', loss='mean_squared_error', metrics=['accuracy',recall_m,precision_m,f1_score_m])\n",
        "model_LSTM.summary()\n",
        "\n",
        "history_LSTM = model_LSTM.fit(A, B, epochs=100, verbose=1,validation_split=0.2,batch_size=64,callbacks=keras.callbacks.EarlyStopping(monitor='val_f1_score_m',\n",
        "                                            patience=5,\n",
        "                                            restore_best_weights=True))"
      ]
    },
    {
      "cell_type": "code",
      "execution_count": 32,
      "metadata": {
        "colab": {
          "base_uri": "https://localhost:8080/"
        },
        "id": "T0Br5f3sxDTy",
        "outputId": "31cd3c01-a35a-455d-dbea-f0ff11ab334f",
        "vscode": {
          "languageId": "python"
        }
      },
      "outputs": [
        {
          "name": "stdout",
          "output_type": "stream",
          "text": [
            "Model: \"sequential\"\n",
            "_________________________________________________________________\n",
            " Layer (type)                Output Shape              Param #   \n",
            "=================================================================\n",
            " gru (GRU)                   (None, 200)               241200    \n",
            "                                                                 \n",
            " dropout (Dropout)           (None, 200)               0         \n",
            "                                                                 \n",
            " dense (Dense)               (None, 200)               40200     \n",
            "                                                                 \n",
            " dense_1 (Dense)             (None, 1)                 201       \n",
            "                                                                 \n",
            "=================================================================\n",
            "Total params: 281,601\n",
            "Trainable params: 281,601\n",
            "Non-trainable params: 0\n",
            "_________________________________________________________________\n",
            "Epoch 1/100\n",
            "18916/18916 [==============================] - 400s 21ms/step - loss: 0.0890 - accuracy: 0.8927 - recall_m: 0.1979 - precision_m: 0.5649 - f1_score_m: 0.2765 - val_loss: 0.0737 - val_accuracy: 0.9160 - val_recall_m: 0.0170 - val_precision_m: 0.0194 - val_f1_score_m: 0.0167\n",
            "Epoch 2/100\n",
            "18916/18916 [==============================] - 353s 19ms/step - loss: 0.0866 - accuracy: 0.8953 - recall_m: 0.2322 - precision_m: 0.5996 - f1_score_m: 0.3164 - val_loss: 0.0735 - val_accuracy: 0.9166 - val_recall_m: 0.0164 - val_precision_m: 0.0205 - val_f1_score_m: 0.0165\n",
            "Epoch 3/100\n",
            "18916/18916 [==============================] - 349s 18ms/step - loss: 0.0855 - accuracy: 0.8965 - recall_m: 0.2425 - precision_m: 0.6117 - f1_score_m: 0.3282 - val_loss: 0.0735 - val_accuracy: 0.9161 - val_recall_m: 0.0168 - val_precision_m: 0.0203 - val_f1_score_m: 0.0167\n",
            "Epoch 4/100\n",
            "18916/18916 [==============================] - 246s 13ms/step - loss: 0.0845 - accuracy: 0.8976 - recall_m: 0.2551 - precision_m: 0.6239 - f1_score_m: 0.3423 - val_loss: 0.0737 - val_accuracy: 0.9154 - val_recall_m: 0.0195 - val_precision_m: 0.0228 - val_f1_score_m: 0.0196\n",
            "Epoch 5/100\n",
            "18916/18916 [==============================] - 319s 17ms/step - loss: 0.0839 - accuracy: 0.8981 - recall_m: 0.2607 - precision_m: 0.6285 - f1_score_m: 0.3483 - val_loss: 0.0737 - val_accuracy: 0.9148 - val_recall_m: 0.0155 - val_precision_m: 0.0208 - val_f1_score_m: 0.0160\n",
            "Epoch 6/100\n",
            "18916/18916 [==============================] - 330s 17ms/step - loss: 0.0832 - accuracy: 0.8989 - recall_m: 0.2678 - precision_m: 0.6357 - f1_score_m: 0.3570 - val_loss: 0.0733 - val_accuracy: 0.9152 - val_recall_m: 0.0186 - val_precision_m: 0.0228 - val_f1_score_m: 0.0190\n",
            "Epoch 7/100\n",
            "18916/18916 [==============================] - 367s 19ms/step - loss: 0.0830 - accuracy: 0.8992 - recall_m: 0.2686 - precision_m: 0.6355 - f1_score_m: 0.3580 - val_loss: 0.0731 - val_accuracy: 0.9152 - val_recall_m: 0.0193 - val_precision_m: 0.0239 - val_f1_score_m: 0.0196\n",
            "Epoch 8/100\n",
            "18916/18916 [==============================] - 228s 12ms/step - loss: 0.0824 - accuracy: 0.8997 - recall_m: 0.2768 - precision_m: 0.6419 - f1_score_m: 0.3664 - val_loss: 0.0728 - val_accuracy: 0.9151 - val_recall_m: 0.0183 - val_precision_m: 0.0231 - val_f1_score_m: 0.0186\n",
            "Epoch 9/100\n",
            "18916/18916 [==============================] - 300s 16ms/step - loss: 0.0820 - accuracy: 0.9002 - recall_m: 0.2809 - precision_m: 0.6465 - f1_score_m: 0.3707 - val_loss: 0.0740 - val_accuracy: 0.9139 - val_recall_m: 0.0164 - val_precision_m: 0.0227 - val_f1_score_m: 0.0173\n",
            "Epoch 10/100\n",
            "18916/18916 [==============================] - 251s 13ms/step - loss: 0.0819 - accuracy: 0.9001 - recall_m: 0.2801 - precision_m: 0.6457 - f1_score_m: 0.3697 - val_loss: 0.0742 - val_accuracy: 0.9151 - val_recall_m: 0.0171 - val_precision_m: 0.0222 - val_f1_score_m: 0.0177\n"
          ]
        }
      ],
      "source": [
        "# GRU\n",
        "model_GRU = tf.keras.Sequential([\n",
        "                             tf.keras.layers.GRU(units=sequence,  input_shape=(1,sequence)),\n",
        "                             tf.keras.layers.Dropout(.1),\n",
        "                             tf.keras.layers.Dense(sequence, activation='relu'),\n",
        "                             tf.keras.layers.Dense(1, activation='sigmoid')\n",
        "                            ])\n",
        "\n",
        "model_GRU.compile(optimizer='adam', loss='mean_squared_error', metrics=['accuracy',recall_m,precision_m,f1_score_m])\n",
        "model_GRU.summary()\n",
        "\n",
        "history_GRU = model_GRU.fit(A, B, epochs=100, verbose=1,validation_split=0.2,batch_size=64,callbacks=keras.callbacks.EarlyStopping(monitor='val_f1_score_m',\n",
        "                                            patience=5,\n",
        "                                            restore_best_weights=True))"
      ]
    },
    {
      "cell_type": "markdown",
      "metadata": {
        "id": "WkfPzfdQxLfr"
      },
      "source": [
        "# 4. Preprocces data to get better performance"
      ]
    },
    {
      "cell_type": "code",
      "execution_count": 12,
      "metadata": {
        "id": "SS179XhEwr3s",
        "vscode": {
          "languageId": "python"
        }
      },
      "outputs": [],
      "source": [
        "from sklearn import preprocessing"
      ]
    },
    {
      "cell_type": "code",
      "execution_count": 12,
      "metadata": {
        "id": "3BophiYRpNC2",
        "vscode": {
          "languageId": "python"
        }
      },
      "outputs": [],
      "source": [
        "# Preprocces method 1\n",
        "# we used shuffel \n",
        "\n",
        "# csvmain = pd.concat(csv_file, ignore_index=True)\n",
        "# csvmain[\"timestamp\"] = pd.Series(csvmain['timestamp'], dtype=\"int\")\n",
        "# # csvmain = csv_file[0]\n",
        "# csvmain = csvmain.sample(frac = 1)\n",
        "\n",
        "# features = ['timestamp','value']\n",
        "# X = csvmain.loc[:, features]\n",
        "# y = csvmain.loc[:, ['label']]\n",
        "scaler = preprocessing.StandardScaler().fit(X)"
      ]
    },
    {
      "cell_type": "code",
      "execution_count": 13,
      "metadata": {
        "colab": {
          "base_uri": "https://localhost:8080/"
        },
        "id": "tl0QqEdzw9D0",
        "outputId": "5c75caaf-0e08-43fd-f240-eccff4b8cc05",
        "vscode": {
          "languageId": "python"
        }
      },
      "outputs": [
        {
          "data": {
            "text/plain": [
              "array([6566.65945079])"
            ]
          },
          "execution_count": 13,
          "metadata": {},
          "output_type": "execute_result"
        }
      ],
      "source": [
        "scaler.mean_"
      ]
    },
    {
      "cell_type": "code",
      "execution_count": 14,
      "metadata": {
        "id": "4cNmgDBZxS9R",
        "vscode": {
          "languageId": "python"
        }
      },
      "outputs": [],
      "source": [
        "# Preprocces method 2\n",
        "# Normalization(L2)\n"
      ]
    },
    {
      "cell_type": "code",
      "execution_count": 21,
      "metadata": {
        "id": "qej83WJpYLCd",
        "vscode": {
          "languageId": "python"
        }
      },
      "outputs": [],
      "source": [
        "def preprocessing_X_new(df): \n",
        "  arr_2 = np.array([df[\"value\"]])\n",
        "  arr_2 = preprocessing.normalize(arr_2, norm='l2')\n",
        "\n",
        "  x, y = [], []\n",
        "  for i in range(len(arr_2[0])-sequence):\n",
        "    x.append(arr_2[0][i:i+sequence])\n",
        "\n",
        "  return np.array(x)"
      ]
    },
    {
      "cell_type": "code",
      "execution_count": 22,
      "metadata": {
        "id": "ILmgkDPyh3rx",
        "vscode": {
          "languageId": "python"
        }
      },
      "outputs": [],
      "source": [
        "A_new = preprocessing_X_new(X)"
      ]
    },
    {
      "cell_type": "code",
      "execution_count": 17,
      "metadata": {
        "colab": {
          "base_uri": "https://localhost:8080/"
        },
        "id": "a1XsNu6SZDSZ",
        "outputId": "4be21eff-6a22-4761-9959-e9f0557dcb5f",
        "vscode": {
          "languageId": "python"
        }
      },
      "outputs": [
        {
          "data": {
            "text/plain": [
              "(1513281, 200)"
            ]
          },
          "execution_count": 17,
          "metadata": {},
          "output_type": "execute_result"
        }
      ],
      "source": [
        "A_new.shape"
      ]
    },
    {
      "cell_type": "code",
      "execution_count": 18,
      "metadata": {
        "colab": {
          "base_uri": "https://localhost:8080/"
        },
        "id": "628Phgs6xaxh",
        "outputId": "0d3acb8c-850a-47e4-9497-a4fbe00b2eab",
        "vscode": {
          "languageId": "python"
        }
      },
      "outputs": [
        {
          "name": "stdout",
          "output_type": "stream",
          "text": [
            "Model: \"sequential\"\n",
            "_________________________________________________________________\n",
            " Layer (type)                Output Shape              Param #   \n",
            "=================================================================\n",
            " simple_rnn (SimpleRNN)      (None, 200)               80200     \n",
            "                                                                 \n",
            " dense (Dense)               (None, 200)               40200     \n",
            "                                                                 \n",
            " dense_1 (Dense)             (None, 1)                 201       \n",
            "                                                                 \n",
            "=================================================================\n",
            "Total params: 120,601\n",
            "Trainable params: 120,601\n",
            "Non-trainable params: 0\n",
            "_________________________________________________________________\n",
            "Epoch 1/100\n",
            "18916/18916 [==============================] - 249s 13ms/step - loss: 0.0897 - accuracy: 0.8917 - recall_m: 0.1845 - precision_m: 0.5482 - f1_score_m: 0.2601 - val_loss: 0.0744 - val_accuracy: 0.9155 - val_recall_m: 0.0147 - val_precision_m: 0.0177 - val_f1_score_m: 0.0146\n",
            "Epoch 2/100\n",
            "18916/18916 [==============================] - 220s 12ms/step - loss: 0.0881 - accuracy: 0.8934 - recall_m: 0.2065 - precision_m: 0.5770 - f1_score_m: 0.2871 - val_loss: 0.0746 - val_accuracy: 0.9156 - val_recall_m: 0.0155 - val_precision_m: 0.0196 - val_f1_score_m: 0.0156\n",
            "Epoch 3/100\n",
            "18916/18916 [==============================] - 156s 8ms/step - loss: 0.0868 - accuracy: 0.8946 - recall_m: 0.2211 - precision_m: 0.5933 - f1_score_m: 0.3038 - val_loss: 0.0735 - val_accuracy: 0.9157 - val_recall_m: 0.0150 - val_precision_m: 0.0189 - val_f1_score_m: 0.0152\n",
            "Epoch 4/100\n",
            "18916/18916 [==============================] - 158s 8ms/step - loss: 0.0859 - accuracy: 0.8956 - recall_m: 0.2312 - precision_m: 0.6043 - f1_score_m: 0.3159 - val_loss: 0.0741 - val_accuracy: 0.9159 - val_recall_m: 0.0174 - val_precision_m: 0.0228 - val_f1_score_m: 0.0180\n",
            "Epoch 5/100\n",
            "18916/18916 [==============================] - 141s 7ms/step - loss: 0.0848 - accuracy: 0.8967 - recall_m: 0.2447 - precision_m: 0.6134 - f1_score_m: 0.3304 - val_loss: 0.0736 - val_accuracy: 0.9151 - val_recall_m: 0.0174 - val_precision_m: 0.0218 - val_f1_score_m: 0.0178\n",
            "Epoch 6/100\n",
            "18916/18916 [==============================] - 129s 7ms/step - loss: 0.0836 - accuracy: 0.8976 - recall_m: 0.2578 - precision_m: 0.6233 - f1_score_m: 0.3445 - val_loss: 0.0742 - val_accuracy: 0.9150 - val_recall_m: 0.0186 - val_precision_m: 0.0226 - val_f1_score_m: 0.0187\n"
          ]
        }
      ],
      "source": [
        "# Train 3 models again\n",
        "# Simple\n",
        "from tensorflow.keras import regularizers\n",
        "\n",
        "model_RNN = tf.keras.Sequential([\n",
        "                             tf.keras.layers.SimpleRNN(units=sequence,  input_shape=(1,sequence)),\n",
        "                             tf.keras.layers.Dense(sequence, activation='relu'),\n",
        "                             tf.keras.layers.Dense(1, activation='sigmoid')\n",
        "                            ])\n",
        "\n",
        "model_RNN.compile(optimizer='adam', loss='mean_squared_error', metrics=['accuracy',recall_m,precision_m,f1_score_m])\n",
        "model_RNN.summary()\n",
        "\n",
        "history_RNN_new = model_RNN.fit(A, B, epochs=100, verbose=1,validation_split=0.2,batch_size=64,\n",
        "                            callbacks=keras.callbacks.EarlyStopping(monitor='val_f1_score_m',\n",
        "                                            patience=5,\n",
        "                                            restore_best_weights=True))"
      ]
    },
    {
      "cell_type": "code",
      "execution_count": 19,
      "metadata": {
        "colab": {
          "base_uri": "https://localhost:8080/"
        },
        "id": "DU0ddHzcll4W",
        "outputId": "e6ed2089-9810-48ba-c22d-ee20e3d8b870",
        "vscode": {
          "languageId": "python"
        }
      },
      "outputs": [
        {
          "name": "stdout",
          "output_type": "stream",
          "text": [
            "Model: \"sequential_1\"\n",
            "_________________________________________________________________\n",
            " Layer (type)                Output Shape              Param #   \n",
            "=================================================================\n",
            " lstm (LSTM)                 (None, 200)               320800    \n",
            "                                                                 \n",
            " dense_2 (Dense)             (None, 200)               40200     \n",
            "                                                                 \n",
            " dense_3 (Dense)             (None, 1)                 201       \n",
            "                                                                 \n",
            "=================================================================\n",
            "Total params: 361,201\n",
            "Trainable params: 361,201\n",
            "Non-trainable params: 0\n",
            "_________________________________________________________________\n",
            "Epoch 1/100\n",
            "18916/18916 [==============================] - 319s 17ms/step - loss: 0.0882 - accuracy: 0.8933 - recall_m: 0.2088 - precision_m: 0.5766 - f1_score_m: 0.2889 - val_loss: 0.0767 - val_accuracy: 0.9165 - val_recall_m: 0.0155 - val_precision_m: 0.0191 - val_f1_score_m: 0.0155\n",
            "Epoch 2/100\n",
            "18916/18916 [==============================] - 282s 15ms/step - loss: 0.0859 - accuracy: 0.8957 - recall_m: 0.2386 - precision_m: 0.6041 - f1_score_m: 0.3235 - val_loss: 0.0732 - val_accuracy: 0.9160 - val_recall_m: 0.0173 - val_precision_m: 0.0224 - val_f1_score_m: 0.0176\n",
            "Epoch 3/100\n",
            "18916/18916 [==============================] - 294s 16ms/step - loss: 0.0845 - accuracy: 0.8975 - recall_m: 0.2571 - precision_m: 0.6184 - f1_score_m: 0.3435 - val_loss: 0.0740 - val_accuracy: 0.9144 - val_recall_m: 0.0171 - val_precision_m: 0.0214 - val_f1_score_m: 0.0174\n",
            "Epoch 4/100\n",
            "18916/18916 [==============================] - 285s 15ms/step - loss: 0.0833 - accuracy: 0.8985 - recall_m: 0.2690 - precision_m: 0.6289 - f1_score_m: 0.3570 - val_loss: 0.0738 - val_accuracy: 0.9152 - val_recall_m: 0.0183 - val_precision_m: 0.0225 - val_f1_score_m: 0.0186\n",
            "Epoch 5/100\n",
            "18916/18916 [==============================] - 261s 14ms/step - loss: 0.0828 - accuracy: 0.8995 - recall_m: 0.2737 - precision_m: 0.6406 - f1_score_m: 0.3629 - val_loss: 0.0740 - val_accuracy: 0.9146 - val_recall_m: 0.0174 - val_precision_m: 0.0231 - val_f1_score_m: 0.0181\n",
            "Epoch 6/100\n",
            "18916/18916 [==============================] - 272s 14ms/step - loss: 0.0818 - accuracy: 0.9001 - recall_m: 0.2808 - precision_m: 0.6433 - f1_score_m: 0.3703 - val_loss: 0.0741 - val_accuracy: 0.9151 - val_recall_m: 0.0178 - val_precision_m: 0.0225 - val_f1_score_m: 0.0182\n"
          ]
        }
      ],
      "source": [
        "# LSTM\n",
        "model_LSTM = tf.keras.Sequential([\n",
        "                             tf.keras.layers.LSTM(units=sequence,  input_shape=(1,sequence)),\n",
        "                             tf.keras.layers.Dense(sequence, activation='relu'),\n",
        "                             tf.keras.layers.Dense(1, activation='sigmoid')\n",
        "                            ])\n",
        "\n",
        "model_LSTM.compile(optimizer='adam', loss='mean_squared_error', metrics=['accuracy',recall_m,precision_m,f1_score_m])\n",
        "model_LSTM.summary()\n",
        "\n",
        "history_LSTM_new = model_LSTM.fit(A, B, epochs=100, verbose=1,validation_split=0.2,batch_size=64,callbacks=keras.callbacks.EarlyStopping(monitor='val_f1_score_m',\n",
        "                                            patience=5,\n",
        "                                            restore_best_weights=True))"
      ]
    },
    {
      "cell_type": "code",
      "execution_count": 25,
      "metadata": {
        "colab": {
          "base_uri": "https://localhost:8080/"
        },
        "id": "DR9wW6WGlmHS",
        "outputId": "d0d46c35-80da-4337-e093-df7ab197f397",
        "vscode": {
          "languageId": "python"
        }
      },
      "outputs": [
        {
          "name": "stdout",
          "output_type": "stream",
          "text": [
            "Model: \"sequential_2\"\n",
            "_________________________________________________________________\n",
            " Layer (type)                Output Shape              Param #   \n",
            "=================================================================\n",
            " gru_2 (GRU)                 (None, 200)               241200    \n",
            "                                                                 \n",
            " dense_4 (Dense)             (None, 200)               40200     \n",
            "                                                                 \n",
            " dense_5 (Dense)             (None, 1)                 201       \n",
            "                                                                 \n",
            "=================================================================\n",
            "Total params: 281,601\n",
            "Trainable params: 281,601\n",
            "Non-trainable params: 0\n",
            "_________________________________________________________________\n",
            "Epoch 1/100\n",
            "18916/18916 [==============================] - 449s 24ms/step - loss: 0.0885 - accuracy: 0.8929 - recall_m: 0.2013 - precision_m: 0.5692 - f1_score_m: 0.2808 - val_loss: 0.0750 - val_accuracy: 0.9159 - val_recall_m: 0.0164 - val_precision_m: 0.0205 - val_f1_score_m: 0.0166\n",
            "Epoch 2/100\n",
            "18916/18916 [==============================] - 323s 17ms/step - loss: 0.0861 - accuracy: 0.8955 - recall_m: 0.2401 - precision_m: 0.6013 - f1_score_m: 0.3245 - val_loss: 0.0733 - val_accuracy: 0.9137 - val_recall_m: 0.0184 - val_precision_m: 0.0226 - val_f1_score_m: 0.0186\n",
            "Epoch 3/100\n",
            "18916/18916 [==============================] - 352s 19ms/step - loss: 0.0845 - accuracy: 0.8974 - recall_m: 0.2647 - precision_m: 0.6179 - f1_score_m: 0.3504 - val_loss: 0.0745 - val_accuracy: 0.9149 - val_recall_m: 0.0168 - val_precision_m: 0.0219 - val_f1_score_m: 0.0172\n",
            "Epoch 4/100\n",
            "18916/18916 [==============================] - 309s 16ms/step - loss: 0.0834 - accuracy: 0.8984 - recall_m: 0.2696 - precision_m: 0.6266 - f1_score_m: 0.3567 - val_loss: 0.0734 - val_accuracy: 0.9154 - val_recall_m: 0.0187 - val_precision_m: 0.0233 - val_f1_score_m: 0.0190\n",
            "Epoch 5/100\n",
            "18916/18916 [==============================] - 361s 19ms/step - loss: 0.0829 - accuracy: 0.8989 - recall_m: 0.2786 - precision_m: 0.6311 - f1_score_m: 0.3660 - val_loss: 0.0742 - val_accuracy: 0.9149 - val_recall_m: 0.0165 - val_precision_m: 0.0205 - val_f1_score_m: 0.0168\n",
            "Epoch 6/100\n",
            "18916/18916 [==============================] - 314s 17ms/step - loss: 0.0819 - accuracy: 0.8999 - recall_m: 0.2871 - precision_m: 0.6399 - f1_score_m: 0.3754 - val_loss: 0.0736 - val_accuracy: 0.9148 - val_recall_m: 0.0189 - val_precision_m: 0.0240 - val_f1_score_m: 0.0193\n"
          ]
        }
      ],
      "source": [
        "# GRU\n",
        "model_GRU = tf.keras.Sequential([\n",
        "                             tf.keras.layers.GRU(units=sequence,  input_shape=(1,sequence)),\n",
        "                             tf.keras.layers.Dense(sequence, activation='relu'),\n",
        "                             tf.keras.layers.Dense(1, activation='sigmoid')\n",
        "                            ])\n",
        "\n",
        "model_GRU.compile(optimizer='adam', loss='mean_squared_error', metrics=['accuracy',recall_m,precision_m,f1_score_m])\n",
        "model_GRU.summary()\n",
        "\n",
        "history_GRU_new = model_GRU.fit(A, B, epochs=100, verbose=1,validation_split=0.2,batch_size=64,callbacks=keras.callbacks.EarlyStopping(monitor='val_f1_score_m',\n",
        "                                            patience=5,\n",
        "                                            restore_best_weights=True))"
      ]
    },
    {
      "cell_type": "markdown",
      "metadata": {
        "id": "3kx1ZZOatIV1"
      },
      "source": [
        "Based on val_f1_score_m, we can say that in this models:\n",
        "  # GRU > RNN > LSTM"
      ]
    },
    {
      "cell_type": "markdown",
      "metadata": {
        "id": "vwjFRmdfxnPd"
      },
      "source": [
        "# 6. Train a self supervise model"
      ]
    },
    {
      "cell_type": "code",
      "execution_count": 26,
      "metadata": {
        "id": "UWz-u-mDVK7p",
        "vscode": {
          "languageId": "python"
        }
      },
      "outputs": [],
      "source": [
        "sequence = 100"
      ]
    },
    {
      "cell_type": "code",
      "execution_count": 27,
      "metadata": {
        "id": "rpK9Ql1xVJcS",
        "vscode": {
          "languageId": "python"
        }
      },
      "outputs": [],
      "source": [
        "def preprocessing_X_new(df):  \n",
        "  arr_2 = np.array([df[\"value\"]])\n",
        "\n",
        "  x, y = [], []\n",
        "  for i in range(len(arr_2[0])-sequence-1):\n",
        "    x.append([arr_2[0][i:i+sequence]])\n",
        "\n",
        "  # print(x)\n",
        "  hold = np.array(x)\n",
        "\n",
        "  return hold\n",
        "\n",
        "def preprocessing_Y_new(df):  \n",
        "  arr_2 = np.array([df[\"value\"]])\n",
        "\n",
        "  x, y = [], []\n",
        "  for i in range(len(arr_2[0])-sequence-1):\n",
        "    x.append([arr_2[0][i+sequence-1]])\n",
        "\n",
        "  # print(x)\n",
        "  hold = np.array(x)\n",
        "\n",
        "  return hold"
      ]
    },
    {
      "cell_type": "code",
      "execution_count": 28,
      "metadata": {
        "id": "Vo9Q0DS8WR-k",
        "vscode": {
          "languageId": "python"
        }
      },
      "outputs": [],
      "source": [
        "A_new = preprocessing_X_new(X)\n",
        "B_new = preprocessing_Y_new(X)"
      ]
    },
    {
      "cell_type": "code",
      "execution_count": 29,
      "metadata": {
        "colab": {
          "base_uri": "https://localhost:8080/"
        },
        "id": "dVs4Qpxax1TH",
        "outputId": "da3eeee1-a87f-4644-e1cf-1521635c385c",
        "vscode": {
          "languageId": "python"
        }
      },
      "outputs": [
        {
          "name": "stdout",
          "output_type": "stream",
          "text": [
            "Model: \"sequential_3\"\n",
            "_________________________________________________________________\n",
            " Layer (type)                Output Shape              Param #   \n",
            "=================================================================\n",
            " lstm (LSTM)                 (None, 100)               80400     \n",
            "                                                                 \n",
            " dense_6 (Dense)             (None, 100)               10100     \n",
            "                                                                 \n",
            " dense_7 (Dense)             (None, 1)                 101       \n",
            "                                                                 \n",
            "=================================================================\n",
            "Total params: 90,601\n",
            "Trainable params: 90,601\n",
            "Non-trainable params: 0\n",
            "_________________________________________________________________\n",
            "Epoch 1/100\n",
            "18918/18918 [==============================] - 119s 6ms/step - loss: 41237676032.0000 - accuracy: 0.1050 - recall_m: 0.9972 - precision_m: 0.9957 - f1_score_m: 0.9964 - val_loss: 23096180.0000 - val_accuracy: 2.6431e-04 - val_recall_m: 0.9825 - val_precision_m: 2115.1482 - val_f1_score_m: 0.9823\n",
            "Epoch 2/100\n",
            "18918/18918 [==============================] - 115s 6ms/step - loss: 41237786624.0000 - accuracy: 0.1054 - recall_m: 0.9973 - precision_m: 0.9964 - f1_score_m: 0.9968 - val_loss: 23096180.0000 - val_accuracy: 2.4779e-04 - val_recall_m: 0.9830 - val_precision_m: 8457.6152 - val_f1_score_m: 0.9836\n",
            "Epoch 3/100\n",
            "18918/18918 [==============================] - 117s 6ms/step - loss: 41237647360.0000 - accuracy: 0.1054 - recall_m: 0.9976 - precision_m: 0.9964 - f1_score_m: 0.9969 - val_loss: 23096180.0000 - val_accuracy: 2.4449e-04 - val_recall_m: 0.9822 - val_precision_m: 4229.2920 - val_f1_score_m: 0.9818\n",
            "Epoch 4/100\n",
            "18918/18918 [==============================] - 119s 6ms/step - loss: 41237770240.0000 - accuracy: 0.1054 - recall_m: 0.9969 - precision_m: 0.9960 - f1_score_m: 0.9964 - val_loss: 23096180.0000 - val_accuracy: 2.4118e-04 - val_recall_m: 0.9825 - val_precision_m: 0.9809 - val_f1_score_m: 0.9814\n",
            "Epoch 5/100\n",
            "18918/18918 [==============================] - 124s 7ms/step - loss: 41237663744.0000 - accuracy: 0.1054 - recall_m: 0.9970 - precision_m: 0.9963 - f1_score_m: 0.9966 - val_loss: 23096182.0000 - val_accuracy: 3.0726e-04 - val_recall_m: 0.9818 - val_precision_m: 0.9828 - val_f1_score_m: 0.9820\n",
            "Epoch 6/100\n",
            "18918/18918 [==============================] - 120s 6ms/step - loss: 41237725184.0000 - accuracy: 0.1054 - recall_m: 0.9971 - precision_m: 0.9963 - f1_score_m: 0.9967 - val_loss: 23096180.0000 - val_accuracy: 2.5770e-04 - val_recall_m: 0.9813 - val_precision_m: 0.9820 - val_f1_score_m: 0.9812\n",
            "Epoch 7/100\n",
            "18918/18918 [==============================] - 125s 7ms/step - loss: 41237594112.0000 - accuracy: 0.1054 - recall_m: 0.9970 - precision_m: 0.9963 - f1_score_m: 0.9966 - val_loss: 23096180.0000 - val_accuracy: 2.4779e-04 - val_recall_m: 0.9829 - val_precision_m: 2115.1482 - val_f1_score_m: 0.9823\n",
            "Epoch 8/100\n",
            "18918/18918 [==============================] - 118s 6ms/step - loss: 41237737472.0000 - accuracy: 0.1054 - recall_m: 0.9967 - precision_m: 0.9964 - f1_score_m: 0.9965 - val_loss: 23096178.0000 - val_accuracy: 3.0396e-04 - val_recall_m: 0.9819 - val_precision_m: 2115.1479 - val_f1_score_m: 0.9816\n",
            "Epoch 9/100\n",
            "18918/18918 [==============================] - 121s 6ms/step - loss: 41237590016.0000 - accuracy: 0.1054 - recall_m: 0.9969 - precision_m: 0.9962 - f1_score_m: 0.9965 - val_loss: 23096180.0000 - val_accuracy: 2.6761e-04 - val_recall_m: 0.9836 - val_precision_m: 0.9828 - val_f1_score_m: 0.9829\n",
            "Epoch 10/100\n",
            "18918/18918 [==============================] - 119s 6ms/step - loss: 41237741568.0000 - accuracy: 0.1054 - recall_m: 0.9972 - precision_m: 0.9960 - f1_score_m: 0.9966 - val_loss: 23096178.0000 - val_accuracy: 2.3788e-04 - val_recall_m: 0.9833 - val_precision_m: 0.9830 - val_f1_score_m: 0.9828\n",
            "Epoch 11/100\n",
            "18918/18918 [==============================] - 121s 6ms/step - loss: 41237721088.0000 - accuracy: 0.1054 - recall_m: 0.9973 - precision_m: 0.9963 - f1_score_m: 0.9967 - val_loss: 23096180.0000 - val_accuracy: 3.7334e-04 - val_recall_m: 0.9821 - val_precision_m: 0.9827 - val_f1_score_m: 0.9821\n"
          ]
        }
      ],
      "source": [
        "# compile and train the model\n",
        "\n",
        "\n",
        "model_LSTM = tf.keras.Sequential([\n",
        "                             tf.keras.layers.LSTM(units=sequence,  input_shape=(1,sequence)),\n",
        "                             tf.keras.layers.Dense(sequence, activation='relu'),\n",
        "                             tf.keras.layers.Dense(1, activation='sigmoid')\n",
        "                            ])\n",
        "\n",
        "model_LSTM.compile(optimizer='adam', loss='mean_squared_error', metrics=['accuracy',recall_m,precision_m,f1_score_m])\n",
        "model_LSTM.summary()\n",
        "\n",
        "history_LSTM_ss = model_LSTM.fit(A_new, B_new, epochs=100, verbose=1,validation_split=0.2,batch_size=64,callbacks=keras.callbacks.EarlyStopping(monitor='val_f1_score_m',\n",
        "                                            patience=5,\n",
        "                                            restore_best_weights=True))"
      ]
    },
    {
      "cell_type": "code",
      "execution_count": 54,
      "metadata": {
        "colab": {
          "base_uri": "https://localhost:8080/"
        },
        "id": "VmHroOswl3Bd",
        "outputId": "e629ee2b-7825-48a2-a803-063e91273dd4",
        "vscode": {
          "languageId": "python"
        }
      },
      "outputs": [
        {
          "name": "stdout",
          "output_type": "stream",
          "text": [
            "Model: \"sequential_11\"\n",
            "_________________________________________________________________\n",
            " Layer (type)                Output Shape              Param #   \n",
            "=================================================================\n",
            " lstm (LSTM)                 (None, 100)               80400     \n",
            "                                                                 \n",
            " dense_6 (Dense)             (None, 100)               10100     \n",
            "                                                                 \n",
            "=================================================================\n",
            "Total params: 90,500\n",
            "Trainable params: 0\n",
            "Non-trainable params: 90,500\n",
            "_________________________________________________________________\n"
          ]
        }
      ],
      "source": [
        "# delete last layer of model\n",
        "model_LSTM_new = tf.keras.Sequential()\n",
        "\n",
        "for layer in model_LSTM.layers[:-1]: \n",
        "  model_LSTM_new.add(layer)\n",
        "\n",
        "model_LSTM_new.summary()"
      ]
    },
    {
      "cell_type": "code",
      "execution_count": 55,
      "metadata": {
        "id": "1oQr4l3ix9SC",
        "vscode": {
          "languageId": "python"
        }
      },
      "outputs": [],
      "source": [
        "# freeze all remaining layers except the last one\n",
        "\n",
        "for layer in model_LSTM_new.layers[:-1]:\n",
        "    layer.trainable = False"
      ]
    },
    {
      "cell_type": "code",
      "execution_count": 56,
      "metadata": {
        "id": "HpriTEpgyiuD",
        "vscode": {
          "languageId": "python"
        }
      },
      "outputs": [],
      "source": [
        "# add 2 dence layer to the model\n",
        "model_LSTM_new.add(tf.keras.layers.Dense(10, activation='relu'))\n",
        "model_LSTM_new.add(tf.keras.layers.Dense(1, activation='sigmoid'))"
      ]
    },
    {
      "cell_type": "code",
      "execution_count": 59,
      "metadata": {
        "id": "F2xcNxCInQdq",
        "vscode": {
          "languageId": "python"
        }
      },
      "outputs": [],
      "source": [
        "def preprocessing_Y(df):  \n",
        "  arr_1 = np.array([df[\"label\"]])\n",
        "\n",
        "  x =[]\n",
        "  for i in range(len(arr_1[0])-sequence):\n",
        "    if np.all(arr_1[0][i:i+sequence]==0):\n",
        "      x.append(0)\n",
        "    else:\n",
        "      x.append(1)\n",
        "\n",
        "  # print(x)\n",
        "  hold = np.array(x).astype(int)\n",
        "  return hold"
      ]
    },
    {
      "cell_type": "code",
      "execution_count": 58,
      "metadata": {
        "id": "bx0UqcUmnOvC",
        "vscode": {
          "languageId": "python"
        }
      },
      "outputs": [],
      "source": [
        "def preprocessing_X_new(df): \n",
        "  arr_2 = np.array([df[\"value\"]])\n",
        "  arr_2 = preprocessing.normalize(arr_2, norm='l2')\n",
        "\n",
        "  x, y = [], []\n",
        "  for i in range(len(arr_2[0])-sequence):\n",
        "    x.append(arr_2[0][i:i+sequence])\n",
        "\n",
        "  return np.array(x)"
      ]
    },
    {
      "cell_type": "code",
      "execution_count": 60,
      "metadata": {
        "id": "DbmuTgmknZBa",
        "vscode": {
          "languageId": "python"
        }
      },
      "outputs": [],
      "source": [
        "A = preprocessing_X(X)\n",
        "B = preprocessing_Y(y)"
      ]
    },
    {
      "cell_type": "code",
      "execution_count": 61,
      "metadata": {
        "colab": {
          "base_uri": "https://localhost:8080/"
        },
        "id": "hmSYGO-hyopy",
        "outputId": "0091d719-f281-4bfd-cd0e-53455d183cec",
        "vscode": {
          "languageId": "python"
        }
      },
      "outputs": [
        {
          "name": "stdout",
          "output_type": "stream",
          "text": [
            "Model: \"sequential_11\"\n",
            "_________________________________________________________________\n",
            " Layer (type)                Output Shape              Param #   \n",
            "=================================================================\n",
            " lstm (LSTM)                 (None, 100)               80400     \n",
            "                                                                 \n",
            " dense_6 (Dense)             (None, 100)               10100     \n",
            "                                                                 \n",
            " dense_10 (Dense)            (None, 10)                1010      \n",
            "                                                                 \n",
            " dense_11 (Dense)            (None, 1)                 11        \n",
            "                                                                 \n",
            "=================================================================\n",
            "Total params: 91,521\n",
            "Trainable params: 1,021\n",
            "Non-trainable params: 90,500\n",
            "_________________________________________________________________\n",
            "Epoch 1/100\n",
            "18918/18918 [==============================] - 74s 4ms/step - loss: 0.0633 - accuracy: 0.9216 - recall_m: 0.0907 - precision_m: 0.2584 - f1_score_m: 0.1222 - val_loss: 0.0476 - val_accuracy: 0.9430 - val_recall_m: 0.0063 - val_precision_m: 0.0203 - val_f1_score_m: 0.0077\n",
            "Epoch 2/100\n",
            "18918/18918 [==============================] - 73s 4ms/step - loss: 0.0587 - accuracy: 0.9254 - recall_m: 0.1104 - precision_m: 0.3210 - f1_score_m: 0.1527 - val_loss: 0.0478 - val_accuracy: 0.9415 - val_recall_m: 0.0093 - val_precision_m: 0.0224 - val_f1_score_m: 0.0094\n",
            "Epoch 3/100\n",
            "18918/18918 [==============================] - 69s 4ms/step - loss: 0.0580 - accuracy: 0.9261 - recall_m: 0.1201 - precision_m: 0.3486 - f1_score_m: 0.1662 - val_loss: 0.0479 - val_accuracy: 0.9425 - val_recall_m: 0.0068 - val_precision_m: 0.0319 - val_f1_score_m: 0.0087\n",
            "Epoch 4/100\n",
            "18918/18918 [==============================] - 83s 4ms/step - loss: 0.0574 - accuracy: 0.9268 - recall_m: 0.1177 - precision_m: 0.3550 - f1_score_m: 0.1656 - val_loss: 0.0478 - val_accuracy: 0.9423 - val_recall_m: 0.0070 - val_precision_m: 0.0316 - val_f1_score_m: 0.0088\n",
            "Epoch 5/100\n",
            "18918/18918 [==============================] - 96s 5ms/step - loss: 0.0571 - accuracy: 0.9272 - recall_m: 0.1237 - precision_m: 0.3667 - f1_score_m: 0.1726 - val_loss: 0.0480 - val_accuracy: 0.9419 - val_recall_m: 0.0043 - val_precision_m: 0.0299 - val_f1_score_m: 0.0064\n",
            "Epoch 6/100\n",
            "18918/18918 [==============================] - 88s 5ms/step - loss: 0.0568 - accuracy: 0.9274 - recall_m: 0.1290 - precision_m: 0.3795 - f1_score_m: 0.1802 - val_loss: 0.0487 - val_accuracy: 0.9411 - val_recall_m: 0.0082 - val_precision_m: 0.0349 - val_f1_score_m: 0.0103\n",
            "Epoch 7/100\n",
            "18918/18918 [==============================] - 84s 4ms/step - loss: 0.0565 - accuracy: 0.9277 - recall_m: 0.1359 - precision_m: 0.3894 - f1_score_m: 0.1878 - val_loss: 0.0476 - val_accuracy: 0.9424 - val_recall_m: 0.0055 - val_precision_m: 0.0306 - val_f1_score_m: 0.0080\n",
            "Epoch 8/100\n",
            "18918/18918 [==============================] - 89s 5ms/step - loss: 0.0563 - accuracy: 0.9280 - recall_m: 0.1417 - precision_m: 0.4003 - f1_score_m: 0.1953 - val_loss: 0.0491 - val_accuracy: 0.9400 - val_recall_m: 0.0088 - val_precision_m: 0.0444 - val_f1_score_m: 0.0122\n",
            "Epoch 9/100\n",
            "18918/18918 [==============================] - 91s 5ms/step - loss: 0.0560 - accuracy: 0.9282 - recall_m: 0.1463 - precision_m: 0.4083 - f1_score_m: 0.2008 - val_loss: 0.0479 - val_accuracy: 0.9409 - val_recall_m: 0.0052 - val_precision_m: 0.0339 - val_f1_score_m: 0.0075\n",
            "Epoch 10/100\n",
            "18918/18918 [==============================] - 82s 4ms/step - loss: 0.0558 - accuracy: 0.9285 - recall_m: 0.1511 - precision_m: 0.4205 - f1_score_m: 0.2070 - val_loss: 0.0481 - val_accuracy: 0.9422 - val_recall_m: 0.0078 - val_precision_m: 0.0292 - val_f1_score_m: 0.0094\n"
          ]
        }
      ],
      "source": [
        "# train the main task(anomaly detection)\n",
        "model_LSTM_new.compile(optimizer='adam', loss='mean_squared_error', metrics=['accuracy',recall_m,precision_m,f1_score_m])\n",
        "model_LSTM_new.summary()\n",
        "\n",
        "his_model_LSTM_new = model_LSTM_new.fit(A, B, epochs=100, verbose=1,validation_split=0.2,batch_size=64,callbacks=keras.callbacks.EarlyStopping(monitor='val_f1_score_m',\n",
        "                                            patience=5,\n",
        "                                            restore_best_weights=True))"
      ]
    },
    {
      "cell_type": "markdown",
      "metadata": {
        "id": "2f0gkgxmsy_7"
      },
      "source": [
        "Did you get a better result?\n",
        " # NO"
      ]
    },
    {
      "cell_type": "markdown",
      "metadata": {
        "id": "bkAIrck-y6SU"
      },
      "source": [
        "# 7. Handle unbalanced data problem"
      ]
    },
    {
      "cell_type": "markdown",
      "metadata": {
        "id": "6AwuQpsg6Ykn"
      },
      "source": [
        "I tried many case to handle this event! Howerver, none of them was success.\n",
        "\n",
        "The appropriate handler for this part is using class weights,though, it just accept label in lower than 2 dims. Our y_train has 20 dims!"
      ]
    },
    {
      "cell_type": "code",
      "execution_count": 6,
      "metadata": {
        "id": "Spt_-xfxznse",
        "vscode": {
          "languageId": "python"
        }
      },
      "outputs": [],
      "source": [
        "sequence = 200"
      ]
    },
    {
      "cell_type": "code",
      "execution_count": 7,
      "metadata": {
        "id": "-zURamgMzhYG",
        "vscode": {
          "languageId": "python"
        }
      },
      "outputs": [],
      "source": [
        "def preprocessing_X(df):  \n",
        "  arr_2 = np.array([df[\"value\"]])\n",
        "\n",
        "  x, y = [], []\n",
        "  for i in range(len(arr_2[0])-sequence-1):\n",
        "    x.append([arr_2[0][i:i+sequence]])\n",
        "\n",
        "  # print(x)\n",
        "  hold = np.array(x)\n",
        "\n",
        "  return hold\n"
      ]
    },
    {
      "cell_type": "code",
      "execution_count": 15,
      "metadata": {
        "id": "8BaaCQCVzl9l",
        "vscode": {
          "languageId": "python"
        }
      },
      "outputs": [],
      "source": [
        "def preprocessing_Y(df):  \n",
        "  arr_1 = np.array([df[\"label\"]])\n",
        "\n",
        "  x =[]\n",
        "  for i in range(len(arr_1[0])-sequence):\n",
        "    if np.all(arr_1[0][i:i+sequence]==0):\n",
        "      x.append(0)\n",
        "    else:\n",
        "      x.append(1)\n",
        "\n",
        "  # print(x)\n",
        "  hold = np.array(x).astype(int)\n",
        "  return hold"
      ]
    },
    {
      "cell_type": "code",
      "execution_count": 9,
      "metadata": {
        "id": "MaO6TsV7zsBk",
        "vscode": {
          "languageId": "python"
        }
      },
      "outputs": [],
      "source": [
        "A = preprocessing_X(X)\n",
        "B = preprocessing_Y(y)"
      ]
    },
    {
      "cell_type": "code",
      "execution_count": 10,
      "metadata": {
        "id": "gIP30huc5mOU",
        "vscode": {
          "languageId": "python"
        }
      },
      "outputs": [],
      "source": [
        "def generate_sample_weights(training_data, class_weight_dictionary): \n",
        "    sample_weights = [class_weight_dictionary[np.where(one_hot_row==1)[0][0]] for one_hot_row in training_data]\n",
        "    return np.asarray(sample_weights)"
      ]
    },
    {
      "cell_type": "code",
      "execution_count": 19,
      "metadata": {
        "id": "oSJ89qAsG54d",
        "vscode": {
          "languageId": "python"
        }
      },
      "outputs": [],
      "source": [
        "unique, counts = np.unique(B, return_counts=True)\n",
        "num = dict(zip(unique, counts))"
      ]
    },
    {
      "cell_type": "code",
      "execution_count": 20,
      "metadata": {
        "colab": {
          "base_uri": "https://localhost:8080/"
        },
        "id": "hVL1QuqyzGuH",
        "outputId": "20397955-382a-402e-adc1-7a4252a11968",
        "vscode": {
          "languageId": "python"
        }
      },
      "outputs": [
        {
          "name": "stdout",
          "output_type": "stream",
          "text": [
            "Model: \"sequential_3\"\n",
            "_________________________________________________________________\n",
            " Layer (type)                Output Shape              Param #   \n",
            "=================================================================\n",
            " lstm_3 (LSTM)               (None, 200)               320800    \n",
            "                                                                 \n",
            " dense_6 (Dense)             (None, 200)               40200     \n",
            "                                                                 \n",
            " dense_7 (Dense)             (None, 1)                 201       \n",
            "                                                                 \n",
            "=================================================================\n",
            "Total params: 361,201\n",
            "Trainable params: 361,201\n",
            "Non-trainable params: 0\n",
            "_________________________________________________________________\n",
            "Epoch 1/100\n",
            "18916/18916 [==============================] - 231s 12ms/step - loss: 0.3719 - accuracy: 0.7619 - recall_m: 0.5059 - precision_m: 0.3454 - f1_score_m: 0.3589 - val_loss: 0.1600 - val_accuracy: 0.9112 - val_recall_m: 0.0248 - val_precision_m: 0.0259 - val_f1_score_m: 0.0240\n",
            "Epoch 2/100\n",
            "18916/18916 [==============================] - 196s 10ms/step - loss: 0.3612 - accuracy: 0.7824 - recall_m: 0.5145 - precision_m: 0.3707 - f1_score_m: 0.3821 - val_loss: 0.1867 - val_accuracy: 0.9069 - val_recall_m: 0.0250 - val_precision_m: 0.0257 - val_f1_score_m: 0.0239\n",
            "Epoch 3/100\n",
            "18916/18916 [==============================] - 199s 11ms/step - loss: 0.3504 - accuracy: 0.8087 - recall_m: 0.5252 - precision_m: 0.3891 - f1_score_m: 0.4070 - val_loss: 0.2757 - val_accuracy: 0.1788 - val_recall_m: 0.1053 - val_precision_m: 0.0899 - val_f1_score_m: 0.0917\n",
            "Epoch 4/100\n",
            "18916/18916 [==============================] - 189s 10ms/step - loss: 0.3481 - accuracy: 0.8108 - recall_m: 0.5293 - precision_m: 0.4016 - f1_score_m: 0.4161 - val_loss: 0.1655 - val_accuracy: 0.8894 - val_recall_m: 0.0313 - val_precision_m: 0.0451 - val_f1_score_m: 0.0315\n",
            "Epoch 5/100\n",
            "18916/18916 [==============================] - 190s 10ms/step - loss: 0.3456 - accuracy: 0.8115 - recall_m: 0.5395 - precision_m: 0.3998 - f1_score_m: 0.4199 - val_loss: 0.1440 - val_accuracy: 0.9100 - val_recall_m: 0.0267 - val_precision_m: 0.0289 - val_f1_score_m: 0.0258\n",
            "Epoch 6/100\n",
            "18916/18916 [==============================] - 187s 10ms/step - loss: 0.3440 - accuracy: 0.8081 - recall_m: 0.5490 - precision_m: 0.3896 - f1_score_m: 0.4169 - val_loss: 0.2178 - val_accuracy: 0.7451 - val_recall_m: 0.0440 - val_precision_m: 0.0659 - val_f1_score_m: 0.0456\n",
            "Epoch 7/100\n",
            "18916/18916 [==============================] - 191s 10ms/step - loss: 0.3418 - accuracy: 0.8211 - recall_m: 0.5381 - precision_m: 0.4091 - f1_score_m: 0.4272 - val_loss: 0.2128 - val_accuracy: 0.8549 - val_recall_m: 0.0333 - val_precision_m: 0.0388 - val_f1_score_m: 0.0325\n"
          ]
        }
      ],
      "source": [
        "class_weight = {0: 1,\n",
        "                1: (num[0]/num[1])}\n",
        "# LSTM\n",
        "model_LSTM = tf.keras.Sequential([\n",
        "                             tf.keras.layers.LSTM(units=sequence,  input_shape=(1,sequence)),\n",
        "                             tf.keras.layers.Dense(sequence, activation='relu'),\n",
        "                             tf.keras.layers.Dense(1, activation='sigmoid')\n",
        "                            ])\n",
        "\n",
        "model_LSTM.compile(optimizer='adam', loss='mean_squared_error', metrics=['accuracy',recall_m,precision_m,f1_score_m])\n",
        "model_LSTM.summary()\n",
        "\n",
        "history_LSTM_new = model_LSTM.fit(A, B, epochs=100, verbose=1,validation_split=0.2,batch_size=64,callbacks=keras.callbacks.EarlyStopping(monitor='val_f1_score_m',\n",
        "                                            patience=5,\n",
        "                                            restore_best_weights=True),\n",
        "                                            class_weight =class_weight)"
      ]
    },
    {
      "cell_type": "markdown",
      "metadata": {
        "id": "yK5gFpMLzMOa"
      },
      "source": [
        "# 8. Statistical method for anomaly detection"
      ]
    },
    {
      "cell_type": "code",
      "execution_count": null,
      "metadata": {
        "colab": {
          "base_uri": "https://localhost:8080/"
        },
        "id": "YL8bwNoYzR9k",
        "outputId": "9750b4a0-905a-4379-bde9-3da27ad1dfd9",
        "vscode": {
          "languageId": "python"
        }
      },
      "outputs": [
        {
          "name": "stdout",
          "output_type": "stream",
          "text": [
            "mean of the dataset is 6566.659450792839\n",
            "std. deviation is 181523.86640913255\n"
          ]
        }
      ],
      "source": [
        "mean = np.mean(np.array([csvmain[\"value\"]]))\n",
        "std = np.std(np.array([csvmain[\"value\"]]))\n",
        "print('mean of the dataset is', mean)\n",
        "print('std. deviation is', std)"
      ]
    },
    {
      "cell_type": "code",
      "execution_count": null,
      "metadata": {
        "colab": {
          "base_uri": "https://localhost:8080/"
        },
        "id": "nBPFcICwNTOc",
        "outputId": "8d16d387-52d6-4e88-ebf0-95d67813a7db",
        "vscode": {
          "languageId": "python"
        }
      },
      "outputs": [
        {
          "name": "stdout",
          "output_type": "stream",
          "text": [
            "outlier in dataset is [385974.0, 5672537.0, 6137598.0, 6287383.0, 6432308.0, 6508432.0, 6549646.0, 6425122.0, 6394650.0, 6583999.0, 6702820.0, 6810665.0, 6933764.0, 6998573.0, 6954333.0, 6859216.0, 6413081.0, 5555578.0, 4951760.0, 4630941.0, 4436129.0, 4325486.0, 4351925.0, 4543583.0, 5144027.0, 5728072.0, 6278373.0, 6427613.0, 6499127.0, 6527612.0, 6487843.0, 6382173.0, 6336180.0, 6491087.0, 6653153.0, 6797699.0, 6860933.0, 6896223.0, 6862816.0, 6792429.0, 6461352.0, 5607012.0, 5004276.0, 4592193.0, 4476948.0, 4363292.0, 4361465.0, 4587468.0, 5144174.0, 5852746.0, 6240918.0, 6354072.0, 6632705.0, 6494849.0, 6432447.0, 6358303.0, 6338294.0, 6555386.0, 6917160.0, 6985742.0, 6957827.0, 6968296.0, 6424790.0, 6452954.0, 6396051.0, 5615112.0, 4997594.0, 4640227.0, 4446677.0, 3894358.0, 4333245.0, 4588276.0, 5176114.0, 5860921.0, 6303637.0, 6374797.0, 6370847.0, 6446197.0, 6560011.0, 6394519.0, 6378939.0, 6437646.0, 6538304.0, 6723370.0, 6719247.0, 6698006.0, 6724209.0, 6674355.0, 6372073.0, 5552571.0, 4948818.0, 4559357.0, 4409721.0, 4035844.0, 4314024.0, 4501715.0, 5110582.0, 5936110.0, 6439804.0, 6403949.0, 6574449.0, 6661092.0, 6503463.0, 6517837.0, 6489205.0, 6705365.0, 6878345.0, 6999669.0, 6943996.0, 5949495.0, 6532091.0, 6323859.0, 5986337.0, 5386759.0, 4888655.0, 4550309.0, 4323630.0, 4188752.0, 4183480.0, 4322528.0, 4729334.0, 5435287.0, 5910009.0, 6247482.0, 6317009.0, 6204210.0, 6023070.0, 5984691.0, 5895372.0, 5989396.0, 6037622.0, 6085415.0, 6021387.0, 5973128.0, 5959999.0, 5900600.0, 5729634.0, 5237583.0, 4845245.0, 4515830.0, 4260807.0, 4158262.0, 4177126.0, 4274114.0, 4672366.0, 5096204.0, 5734372.0, 6023579.0, 6423930.0, 6110859.0, 6001855.0, 5885838.0, 5909103.0, 5966515.0, 6105854.0, 6271483.0, 6300238.0, 6654396.0, 6530012.0, 6407769.0, 6024520.0, 5366301.0, 4883045.0, 4531528.0, 4354270.0, 4306631.0, 4293372.0, 4140270.0, 5025086.0, 5641928.0, 6064543.0, 6248638.0, 6366743.0, 6471527.0, 6382323.0, 6319845.0, 6289583.0, 6451653.0, 6710233.0, 6868274.0, 6842543.0, 6892992.0, 6915395.0, 6836541.0, 6471218.0, 5505234.0, 4935942.0, 4594355.0, 4419378.0, 4324133.0, 4328096.0, 4092933.0, 5067010.0, 5748484.0, 6143934.0, 6427404.0, 6504322.0, 6485599.0, 6401804.0, 6348356.0, 6319595.0, 6462800.0, 6661115.0, 6869325.0, 6886397.0, 6917586.0, 6901607.0, 6750422.0, 6351162.0, 5531036.0, 4909937.0, 4555110.0, 4409776.0, 4298433.0, 4320911.0, 4506696.0, 5011851.0, 5687190.0, 6190501.0, 6348826.0, 6431766.0, 6488449.0, 6397404.0, 6326227.0, 6329085.0, 6543900.0, 6642336.0, 6865058.0, 6870766.0, 6977117.0, 6783119.0, 6778228.0, 6448590.0, 5619539.0, 4999742.0, 4663664.0, 4414387.0, 4321501.0, 4359492.0, 4532711.0, 5159011.0, 5825451.0, 6283484.0, 6401576.0, 6407312.0, 6468372.0, 6447530.0, 6298158.0, 6302837.0, 6452212.0, 6608235.0, 6812316.0, 6789711.0, 6842092.0, 6712390.0, 6646266.0, 6254046.0, 5519192.0, 4951013.0, 4596745.0, 4405760.0, 4319215.0, 4352465.0, 4499355.0, 5027521.0, 5732138.0, 6400387.0, 6447974.0, 6592963.0, 6514139.0, 6419436.0, 6374883.0, 6413028.0, 6628666.0, 6824147.0, 6787872.0, 6720965.0, 6636907.0, 6368545.0, 6330043.0, 6010656.0, 4769551.0, 4874655.0, 4539906.0, 4367615.0, 4227634.0, 4246327.0, 4366666.0, 4802786.0, 5398091.0, 5950075.0, 6277499.0, 6307635.0, 6080945.0, 5952611.0, 5848546.0, 5768419.0, 5883769.0, 5896109.0, 5972430.0, 6002425.0, 6048774.0, 5998754.0, 5887126.0, 5652980.0, 5213525.0, 4830187.0, 4499724.0, 4270911.0, 4174701.0, 4187732.0, 4278746.0, 4235655.0, 5055712.0, 5699206.0, 6138196.0, 6482311.0, 6540123.0, 6196821.0, 6174159.0, 6141323.0, 6248050.0, 6317572.0, 6424403.0, 6419622.0, 6746136.0, 6573554.0, 6383523.0, 5998425.0, 5292115.0, 4818495.0, 4510412.0, 4300723.0, 4219964.0, 4246604.0, 4450093.0, 4929091.0, 5504890.0, 5979491.0, 6192459.0, 6344461.0, 6415569.0, 6446902.0, 6410052.0, 6403689.0, 6547813.0, 6672601.0, 6799530.0, 6955594.0, 7006319.0, 5815652.0, 6713551.0, 6263100.0, 5427005.0, 4907767.0, 4590100.0, 4382951.0, 3734003.0, 279978.0, 4505527.0, 5051685.0, 5709659.0, 6189727.0, 6229045.0, 6451370.0, 6507318.0, 6329644.0, 6285728.0, 6325060.0, 6573139.0, 6668232.0, 6792783.0, 6943871.0, 6851150.0, 6862542.0, 6663384.0, 6250426.0, 5417927.0, 4873066.0, 4537580.0, 4405431.0, 4292497.0, 4344440.0, 4525293.0, 5025329.0, 5696656.0, 6072931.0, 6300077.0, 6460557.0, 6518272.0, 6397834.0, 6403253.0, 6328225.0, 6511653.0, 6723829.0, 6907671.0, 7009854.0, 7012584.0, 6825450.0, 6037338.0, 6097580.0, 5426798.0, 4895614.0, 4544745.0, 4365616.0, 4279935.0, 4309985.0, 4489203.0, 5052044.0, 5814959.0, 6300416.0, 6364056.0, 6420549.0, 6531725.0, 6435033.0, 6507313.0, 6400110.0, 6556053.0, 6667987.0, 6892018.0, 6852445.0, 6947373.0, 6744061.0, 6597121.0, 6249965.0, 5484747.0, 4894585.0, 4556313.0, 4364218.0, 4255838.0, 4298438.0, 4471427.0, 5003631.0, 5716720.0, 6122654.0, 6300169.0, 6426289.0, 6546999.0, 6433783.0, 6306033.0, 6355397.0, 6509169.0, 6661746.0, 6937924.0, 6753573.0, 6597270.0, 6464905.0, 6308244.0, 5961669.0, 5334431.0, 4849562.0, 4498994.0, 4320353.0, 3846510.0, 4195230.0, 4308484.0, 4774594.0, 5316115.0, 5898093.0, 6408498.0, 6313548.0, 6235560.0, 5969311.0, 5874539.0, 5789766.0, 5904643.0, 5972081.0, 6020079.0, 6004327.0, 6020558.0, 5886462.0, 5745154.0, 5590753.0, 5139891.0, 4758443.0, 4452458.0, 4236126.0, 4132321.0, 4143642.0, 4266357.0, 4588386.0, 5077615.0, 5661116.0, 6004513.0, 6267292.0, 6213994.0, 6156412.0, 6027625.0, 6018252.0, 6141577.0, 6231290.0, 6436200.0, 6399551.0, 6768719.0, 6572438.0, 6362949.0, 5964034.0, 5255603.0, 4783198.0, 4500146.0, 4293820.0, 4224971.0, 4268092.0, 4409528.0, 4855666.0, 5452624.0, 5931040.0, 6075842.0, 6172782.0, 6380147.0, 5938921.0, 6305319.0, 6227397.0, 6463919.0, 6746587.0, 6742644.0, 6710168.0, 6795663.0, 6721042.0, 6550455.0, 6100964.0, 5275136.0, 4730766.0, 4391298.0, 4209885.0, 4145271.0, 4173960.0, 4369668.0, 4822781.0, 5603171.0, 6046563.0, 6117050.0, 6209092.0, 6255057.0, 6240807.0, 6138649.0, 6060110.0, 6183340.0, 6417731.0, 6592177.0, 6605925.0, 6672778.0, 6626792.0, 6537433.0, 6160603.0, 5241382.0, 4692481.0, 4356334.0, 4238747.0, 4142738.0, 4181727.0, 4334500.0, 4720361.0, 4959336.0, 5919167.0, 6205055.0, 6311205.0, 6190945.0, 6258949.0, 6159303.0, 6057090.0, 6180872.0, 6430320.0, 6615103.0, 6660644.0, 6660907.0, 6514930.0, 6404699.0, 5998440.0, 5183808.0, 4647193.0, 4325466.0, 4124280.0, 4098544.0, 4146334.0, 4315987.0, 4838133.0, 5527381.0, 5958397.0, 6162320.0, 6248579.0, 6252168.0, 6227327.0, 6124143.0, 5727257.0, 6381479.0, 6569456.0, 6654072.0, 6644596.0, 6614690.0, 6466833.0, 6304944.0, 5875675.0, 5150618.0, 4701000.0, 4309500.0, 4183725.0, 4021534.0, 4069114.0, 4275408.0, 4789688.0, 5398349.0, 5982999.0, 6144751.0, 6264596.0, 6165689.0, 6187674.0, 6092320.0, 5709589.0, 6165696.0, 6426245.0, 6506835.0, 6452252.0, 6363752.0, 6116457.0, 5973364.0, 5635943.0, 5058886.0, 4595608.0, 4276520.0, 4047053.0, 3951708.0, 3997090.0, 4108982.0, 4475919.0, 4996278.0, 5663629.0, 5956181.0, 5948728.0, 5919541.0, 5620690.0, 5555300.0, 5506315.0, 5598260.0, 5655683.0, 5790152.0, 5722176.0, 5628348.0, 5608987.0, 5540922.0, 5316395.0, 4880236.0, 4504731.0, 4174891.0, 3974429.0, 3914500.0, 3925286.0, 4024631.0, 4342972.0, 4802749.0, 5342789.0, 5623006.0, 5396882.0, 5789695.0, 5779157.0, 5533893.0, 5524582.0, 5573459.0, 5676630.0, 5447162.0, 5875999.0, 6217822.0, 6006491.0, 5832392.0, 5496276.0, 4929483.0, 4554213.0, 4230311.0, 4035592.0, 3947577.0, 3969418.0, 4053231.0, 4429911.0, 4967567.0, 5536249.0, 5679865.0, 6404296.0, 6350487.0, 6264980.0, 6107136.0, 6077522.0, 6275336.0, 6364862.0, 6439266.0, 6465197.0, 6542676.0, 6458739.0, 6228826.0, 5790651.0, 5039869.0, 4570409.0, 4252139.0, 4006502.0, 3939338.0, 3961556.0, 4126503.0, 4627887.0, 5354024.0, 5718661.0, 5938923.0, 6061260.0, 6076534.0, 6152228.0, 6066068.0, 6020361.0, 6180677.0, 6382094.0, 6620008.0, 6621227.0, 6667985.0, 6580245.0, 6441551.0, 6058551.0, 5182106.0, 4645449.0, 4116931.0, 4088695.0, 3931052.0, 3941676.0, 4123145.0, 4138831.0, 5240890.0, 5777242.0, 5793712.0, 5912752.0, 5926423.0, 5994427.0, 5923026.0, 5899418.0, 6036341.0, 6319938.0, 6403024.0, 6652532.0, 6531234.0, 6483283.0, 6411659.0, 5899991.0, 5112855.0, 4561627.0, 4205403.0, 4012157.0, 3922503.0, 3941340.0, 4118673.0, 4577082.0, 5359254.0, 5751252.0, 5888937.0, 6024265.0, 6064046.0, 6087238.0, 5983240.0, 5884365.0, 6037393.0, 6299288.0, 6568100.0, 6546451.0, 6472167.0, 6347988.0, 4835595.0, 5734891.0, 5128431.0, 4776360.0, 4227101.0, 4001598.0, 3917281.0, 3950992.0, 4131149.0, 4659919.0, 5197684.0, 5960261.0, 6092680.0, 6306174.0, 6279311.0, 5906551.0, 6014408.0, 6114046.0, 993206.0, 2103049.0, 6596467.0, 6508237.0, 6332179.0, 6204442.0, 6021600.0, 5784756.0, 5126217.0, 4627360.0, 4253358.0, 4036411.0, 3916915.0, 3950845.0, 4056247.0, 4437428.0, 5051713.0, 5687399.0, 5986697.0, 6091416.0, 6055436.0, 5756043.0, 5685511.0, 5604126.0, 5733339.0, 5795115.0, 6076203.0, 5904940.0, 5815585.0, 5749471.0, 5660438.0, 5412841.0, 4245131.0, 4573474.0, 4163285.0, 3996181.0, 3876355.0, 3903985.0, 3999585.0, 4446207.0, 4863639.0, 5487262.0, 5842508.0, 6105418.0, 5951988.0, 5872786.0, 5727201.0, 5703931.0, 5770102.0, 5936113.0, 6117730.0, 6138629.0, 6477404.0, 6354755.0, 6212838.0, 5768911.0, 5049760.0, 4571607.0, 4268476.0, 4062686.0, 3973659.0, 4034332.0, 4220109.0, 4689747.0, 5366566.0, 5782373.0, 5990407.0, 6111726.0, 6197425.0, 6271929.0, 6189259.0, 6183865.0, 6322205.0, 6598450.0, 6745236.0, 6835276.0, 6814029.0, 6817457.0, 6567841.0, 6101909.0, 5180052.0, 4570548.0, 4228772.0, 4032242.0, 3938367.0, 3975575.0, 4174772.0, 4769325.0, 5511590.0, 5843306.0, 5947094.0, 6136689.0, 5999217.0, 6013127.0, 6003873.0, 5876436.0, 6056937.0, 6268625.0, 6511414.0, 6591496.0, 6463746.0, 6496747.0, 6377410.0, 5904539.0, 5016050.0, 4442454.0, 4088039.0, 3981531.0, 3804826.0, 3837511.0, 4072372.0, 4597024.0, 5242531.0, 5598412.0, 5642175.0, 5766771.0, 5744358.0, 5701027.0, 5701916.0, 5692682.0, 5902310.0, 6175858.0, 6405181.0, 6401873.0, 6474318.0, 6319535.0, 6404922.0, 5829581.0, 4964764.0, 4321985.0, 4006951.0, 3841097.0, 3802703.0, 3769159.0, 3944559.0, 4565359.0, 5400889.0, 5619545.0, 5715981.0, 5747047.0, 5703691.0, 5771518.0, 5688439.0, 5667841.0, 5868137.0, 6239216.0, 6375833.0, 6360559.0, 6355596.0, 6313050.0, 6215400.0, 5738085.0, 4900533.0, 4346605.0, 4081917.0, 4003579.0, 3895313.0, 3954678.0, 4159936.0, 4767868.0, 5516797.0, 5780908.0, 5790943.0, 6003847.0, 6251536.0, 6143158.0, 6006318.0, 6017977.0, 6176755.0, 6390372.0, 6512609.0, 6558518.0, 6456304.0, 6232849.0, 6013186.0, 5623448.0, 5003950.0, 4490172.0, 4151369.0, 3934982.0, 3814963.0, 3846569.0, 3961760.0, 4316315.0, 5030912.0, 5743692.0, 6158270.0, 6209205.0, 6302239.0, 6350463.0, 6297661.0, 6237683.0, 6331639.0, 6384126.0, 6523804.0, 6530914.0, 6404545.0, 6349584.0, 6241225.0, 6002775.0, 5513493.0, 5109125.0, 4777406.0, 4411391.0, 4517193.0, 4480757.0, 4573954.0, 4929058.0, 5532663.0, 6241541.0, 6523543.0, 6734191.0, 6572034.0, 6513832.0, 6346638.0, 6337417.0, 6415586.0, 6572514.0, 6762351.0, 6857682.0, 7206002.0, 7070531.0, 6886818.0, 6370135.0, 5548665.0, 5056912.0, 4766851.0, 4562557.0, 4542915.0, 4584960.0, 4780804.0, 5378178.0, 6012365.0, 6349362.0, 6470631.0, 6580356.0, 6560919.0, 6788005.0, 6747460.0, 6675090.0, 6847039.0, 7078310.0, 7342626.0, 7424219.0, 7421118.0, 7470026.0, 7219469.0, 6675023.0, 5673696.0, 5108545.0, 4793456.0, 4614823.0, 4555826.0, 4619029.0, 4805694.0, 5422212.0, 6260945.0, 6569256.0, 6507123.0, 6682083.0, 6681324.0, 6669942.0, 6702296.0, 6599222.0, 6760257.0, 7164365.0, 7414782.0, 7444983.0, 7399865.0, 7419423.0, 7253195.0, 6317315.0, 5705934.0, 5122936.0, 4845921.0, 4670703.0, 4581488.0, 4627948.0, 4827766.0, 5494785.0, 6284539.0, 6432294.0, 6566348.0, 6715734.0, 6710165.0, 6808337.0, 6670865.0, 6691354.0, 7117031.0, 7330191.0, 7347201.0, 7462522.0, 7433228.0, 7215703.0, 6642577.0, 5721549.0, 5125151.0, 4800529.0, 4664863.0, 4550034.0, 4585978.0, 4797376.0, 5537791.0, 6385329.0, 6738809.0, 6589165.0, 6113480.0, 6768297.0, 6768459.0, 6553238.0, 6573074.0, 6705118.0, 7152709.0, 7425641.0, 7440492.0, 7337062.0, 7308191.0, 7095659.0, 6612768.0, 5710180.0, 5153618.0, 4812528.0, 4220472.0, 4564325.0, 4626656.0, 4838265.0, 5491186.0, 6309549.0, 6618501.0, 6717362.0, 7013192.0, 6924545.0, 6903381.0, 6555037.0, 6804584.0, 6957194.0, 7159201.0, 7335069.0, 6778197.0, 7073577.0, 6945568.0, 6724598.0, 6346940.0, 5690162.0, 5172369.0, 4833675.0, 4611866.0, 4518646.0, 4555484.0, 4682708.0, 5087963.0, 5821941.0, 6400908.0, 6764579.0, 6807250.0, 6570393.0, 6420518.0, 6354722.0, 6274028.0, 6427976.0, 6665834.0, 6615346.0, 6634664.0, 6562331.0, 6509798.0, 6330339.0, 6049285.0, 5546686.0, 5137195.0, 4827628.0, 4615404.0, 4476637.0, 4493403.0, 4595191.0, 4963084.0, 5529148.0, 6200335.0, 6577832.0, 6740118.0, 6713228.0, 6640986.0, 6531548.0, 6538534.0, 6661561.0, 6782483.0, 6935192.0, 7056865.0, 7378105.0, 7187232.0, 6959440.0, 6426348.0, 5617921.0, 5122370.0, 4849816.0, 4653171.0, 4586152.0, 4650224.0, 4839320.0, 5394220.0, 6343820.0, 6470018.0, 6586799.0, 6764027.0, 6833327.0, 6939250.0, 6863647.0, 6836859.0, 7071193.0, 7297051.0, 7526647.0, 6898887.0, 7508349.0, 6950282.0, 7317998.0, 6754319.0, 5758277.0, 4997842.0, 4929469.0, 4138659.0, 4652695.0, 3992475.0, 4893110.0, 4883559.0, 6222357.0, 6515102.0, 6703288.0, 6782312.0, 6553237.0, 6820311.0, 6754542.0, 6862805.0, 6937479.0, 6922339.0, 7662132.0, 7526982.0, 7516209.0, 7577435.0, 7285972.0, 6675364.0, 5791202.0, 5221111.0, 4848225.0, 4591769.0, 4682244.0, 4705482.0, 4907995.0, 5549375.0, 6406376.0, 6573651.0, 6698797.0, 6721163.0, 6438406.0, 6868791.0, 6887261.0, 6839824.0, 6966257.0, 7228091.0, 7529672.0, 7576660.0, 7608842.0, 7602589.0, 7432477.0, 6845240.0, 5881788.0, 5270517.0, 4184836.0, 4831531.0, 4712389.0, 1425385.0, 4737033.0, 4097880.0, 5728917.0, 6623186.0, 6597681.0, 6885666.0, 6905805.0, 7059466.0, 6481911.0, 6845998.0, 7071338.0, 7443682.0, 7655563.0, 7845760.0, 7724325.0, 7636386.0, 7456452.0, 6953395.0, 5960472.0, 5356605.0, 5033277.0, 4880342.0, 4755162.0, 4780586.0, 4982966.0, 5644361.0, 6548865.0, 6832761.0, 7046170.0, 7185044.0, 7136275.0, 7123628.0, 7143327.0, 6989163.0, 7186922.0, 7559164.0, 7648059.0, 7716273.0, 7321230.0, 7230599.0, 7102288.0, 6710780.0, 5899002.0, 5350354.0, 4971657.0, 4718407.0, 4610209.0, 4651977.0, 4802786.0, 5197336.0, 5917803.0, 6622546.0, 6951032.0, 7063004.0, 6959564.0, 6699135.0, 6605893.0, 6588626.0, 6717761.0, 6812381.0, 6877994.0, 6828822.0, 6742808.0, 6713894.0, 6575412.0, 6294695.0, 5751975.0, 5324793.0, 4972645.0, 4722002.0, 4603830.0, 4626313.0, 4709140.0, 5081163.0, 5654068.0, 6453376.0, 6876755.0, 6964976.0, 6829072.0, 6823131.0, 6699036.0, 6705560.0, 6844645.0, 7043773.0, 7184061.0, 7279205.0, 7587517.0, 7416340.0, 7089011.0, 6582421.0, 5768462.0, 5268415.0, 4949111.0, 4738265.0, 4675839.0, 4495977.0, 4905989.0, 5549180.0, 6360981.0, 6584062.0, 6769561.0, 6807153.0, 6837817.0, 6986693.0, 6908611.0, 6865111.0, 7060018.0, 7349731.0, 7706644.0, 7792234.0, 7827975.0, 7794516.0, 7459629.0, 6835175.0, 5687968.0, 5087530.0, 4739126.0, 4668722.0, 4585967.0, 4636562.0, 4819518.0, 5482371.0, 6335125.0, 6573575.0, 6775618.0, 5906634.0, 6844638.0, 6878984.0, 6876658.0, 6866054.0, 7015633.0, 7353338.0, 7604485.0, 7658275.0, 7257139.0, 7708697.0, 7364424.0, 6810682.0, 5868177.0, 5195211.0, 4877305.0, 4810272.0, 4704522.0, 4699611.0, 4904955.0, 5439293.0, 6492615.0, 6668892.0, 6776302.0, 6917198.0, 6928776.0, 7025690.0, 6894121.0, 6897782.0, 7101230.0, 7544177.0, 7593565.0, 7663478.0, 7764675.0, 7679129.0, 7418792.0, 6859037.0, 6140058.0, 5252085.0, 4843999.0, 4772837.0, 4631371.0, 4656735.0, 4882862.0, 5599318.0, 6520793.0, 6830501.0, 6803784.0, 6896333.0, 7062091.0, 6912236.0, 6952072.0, 6933157.0, 7136547.0, 7535748.0, 7774467.0, 7732922.0, 7687922.0, 7588335.0]\n"
          ]
        }
      ],
      "source": [
        "threshold = 1\n",
        "outlier = []\n",
        "for i in np.array([csvmain[\"value\"]])[0]:\n",
        "    z = (i-mean)/std\n",
        "    if z > threshold:\n",
        "        outlier.append(i)\n",
        "print('outlier in dataset is', outlier)"
      ]
    },
    {
      "cell_type": "code",
      "execution_count": null,
      "metadata": {
        "id": "yW2iHIOxO9Qr",
        "vscode": {
          "languageId": "python"
        }
      },
      "outputs": [],
      "source": [
        "real_abn = csvmain.loc[csvmain['label'] == 1][\"value\"].values.tolist()"
      ]
    },
    {
      "cell_type": "code",
      "execution_count": null,
      "metadata": {
        "colab": {
          "base_uri": "https://localhost:8080/"
        },
        "id": "mo9_X-GiQTfz",
        "outputId": "428369b6-c617-4323-a92d-d6740b1ee9b9",
        "vscode": {
          "languageId": "python"
        }
      },
      "outputs": [
        {
          "data": {
            "text/plain": [
              "[]"
            ]
          },
          "execution_count": 177,
          "metadata": {},
          "output_type": "execute_result"
        }
      ],
      "source": [
        "[i for i, j in zip(outlier, real_abn) if i == j]"
      ]
    },
    {
      "cell_type": "markdown",
      "metadata": {
        "id": "C8KI7onnQtK3"
      },
      "source": [
        "Z score is bulls*it :)"
      ]
    }
  ],
  "metadata": {
    "colab": {
      "provenance": []
    },
    "gpuClass": "standard",
    "kernelspec": {
      "display_name": "Python 3",
      "language": "python",
      "name": "python3"
    }
  },
  "nbformat": 4,
  "nbformat_minor": 0
}
