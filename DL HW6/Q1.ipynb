{
 "cells": [
  {
   "cell_type": "code",
   "execution_count": 2,
   "metadata": {},
   "outputs": [],
   "source": [
    "import numpy as np"
   ]
  },
  {
   "cell_type": "code",
   "execution_count": 3,
   "metadata": {},
   "outputs": [],
   "source": [
    "x = np.array([[20, 17, 32, 42, 65],\n",
    "              [13, 65, 96, 53, 21],\n",
    "              [45, 63, 74, 38, 64],\n",
    "              [23, 76, 40, 34, 26],\n",
    "              [14, 66, 78, 49, 23]])"
   ]
  },
  {
   "cell_type": "code",
   "execution_count": 5,
   "metadata": {},
   "outputs": [],
   "source": [
    "def layer(x, gamma, beta, eps=1e-5):\n",
    "    N, D = x.shape\n",
    "    \n",
    "    sample_mean = x.mean(axis=1)\n",
    "    sample_var = x.var(axis=1)\n",
    "    \n",
    "    std = np.sqrt(sample_var + eps)\n",
    "    x_centered = x - sample_mean\n",
    "    x_norm = x_centered / std\n",
    "    out = gamma * x_norm + beta\n",
    "    \n",
    "    cache = (x_norm, x_centered, std, gamma)\n",
    "\n",
    "    return out, cache"
   ]
  },
  {
   "cell_type": "code",
   "execution_count": 6,
   "metadata": {},
   "outputs": [],
   "source": [
    "## it's exactly like above function; we just change axis to 1 for changing normalization area from rows to columns\n",
    "def batch(x, gamma, beta, eps=1e-5):\n",
    "    N, D = x.shape\n",
    "    \n",
    "    sample_mean = x.mean(axis=0) \n",
    "    sample_var = x.var(axis=0)\n",
    "    \n",
    "    std = np.sqrt(sample_var + eps)\n",
    "    x_centered = x - sample_mean\n",
    "    x_norm = x_centered / std\n",
    "    out = gamma * x_norm + beta\n",
    "    \n",
    "    cache = (x_norm, x_centered, std, gamma)\n",
    "\n",
    "    return out, cache"
   ]
  },
  {
   "cell_type": "code",
   "execution_count": 10,
   "metadata": {},
   "outputs": [
    {
     "name": "stdout",
     "output_type": "stream",
     "text": [
      "[[-0.25839035 -0.86130117  1.89486258  0.         -0.77517105]\n",
      " [-1.9522604   0.36725691  0.27061035  0.89881296  0.41558018]\n",
      " [-1.32416941  1.32416941  0.41380294 -0.99312706  0.57932412]\n",
      " [-0.17220346  1.40632822 -0.74621497 -1.32022649  0.8323167 ]\n",
      " [ 1.24551176 -0.92919132  1.19608669 -0.68206597 -0.83034118]]\n"
     ]
    }
   ],
   "source": [
    "print(batch(x, 1, 0)[0].T) "
   ]
  },
  {
   "cell_type": "code",
   "execution_count": 8,
   "metadata": {},
   "outputs": [
    {
     "name": "stdout",
     "output_type": "stream",
     "text": [
      "[[-0.87558997 -1.07958857 -1.87064616  0.11541284  0.77748801]\n",
      " [-1.27882219  0.50998969  2.9568278   0.69247702 -1.02301053]\n",
      " [ 0.56452511  0.44375726  1.29738363 -0.09442868  0.73656758]\n",
      " [-0.70277616  0.87426804 -1.26721191 -0.30427021 -0.81840843]\n",
      " [-1.22121759  0.54310591  1.59910075  0.4826355  -0.94116969]]\n"
     ]
    }
   ],
   "source": [
    "print(layer(x, 1, 0)[0])"
   ]
  }
 ],
 "metadata": {
  "kernelspec": {
   "display_name": "Python 3",
   "language": "python",
   "name": "python3"
  },
  "language_info": {
   "codemirror_mode": {
    "name": "ipython",
    "version": 3
   },
   "file_extension": ".py",
   "mimetype": "text/x-python",
   "name": "python",
   "nbconvert_exporter": "python",
   "pygments_lexer": "ipython3",
   "version": "3.10.0"
  },
  "orig_nbformat": 4,
  "vscode": {
   "interpreter": {
    "hash": "f5814d06710fa1ab2eb306c97d24ec609388cf9dc442c28dc2a9b6d925a9517c"
   }
  }
 },
 "nbformat": 4,
 "nbformat_minor": 2
}
